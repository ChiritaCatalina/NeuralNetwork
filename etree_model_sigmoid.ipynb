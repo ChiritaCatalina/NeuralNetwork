{
 "cells": [
  {
   "cell_type": "code",
   "execution_count": 1,
   "metadata": {
    "scrolled": false
   },
   "outputs": [
    {
     "name": "stderr",
     "output_type": "stream",
     "text": [
      "Using TensorFlow backend.\n",
      "WARNING: Logging before flag parsing goes to stderr.\n",
      "W1008 12:36:32.248144 14528 deprecation_wrapper.py:119] From C:\\Users\\Public\\Documents\\Anaconda\\lib\\site-packages\\keras\\backend\\tensorflow_backend.py:74: The name tf.get_default_graph is deprecated. Please use tf.compat.v1.get_default_graph instead.\n",
      "\n",
      "W1008 12:36:32.296147 14528 deprecation_wrapper.py:119] From C:\\Users\\Public\\Documents\\Anaconda\\lib\\site-packages\\keras\\backend\\tensorflow_backend.py:517: The name tf.placeholder is deprecated. Please use tf.compat.v1.placeholder instead.\n",
      "\n",
      "W1008 12:36:32.302149 14528 deprecation_wrapper.py:119] From C:\\Users\\Public\\Documents\\Anaconda\\lib\\site-packages\\keras\\backend\\tensorflow_backend.py:4115: The name tf.random_normal is deprecated. Please use tf.random.normal instead.\n",
      "\n",
      "W1008 12:36:32.332222 14528 deprecation_wrapper.py:119] From C:\\Users\\Public\\Documents\\Anaconda\\lib\\site-packages\\keras\\backend\\tensorflow_backend.py:133: The name tf.placeholder_with_default is deprecated. Please use tf.compat.v1.placeholder_with_default instead.\n",
      "\n",
      "W1008 12:36:32.343148 14528 deprecation.py:506] From C:\\Users\\Public\\Documents\\Anaconda\\lib\\site-packages\\keras\\backend\\tensorflow_backend.py:3445: calling dropout (from tensorflow.python.ops.nn_ops) with keep_prob is deprecated and will be removed in a future version.\n",
      "Instructions for updating:\n",
      "Please use `rate` instead of `keep_prob`. Rate should be set to `rate = 1 - keep_prob`.\n",
      "W1008 12:36:32.544157 14528 deprecation_wrapper.py:119] From C:\\Users\\Public\\Documents\\Anaconda\\lib\\site-packages\\keras\\optimizers.py:790: The name tf.train.Optimizer is deprecated. Please use tf.compat.v1.train.Optimizer instead.\n",
      "\n",
      "W1008 12:36:33.045175 14528 deprecation_wrapper.py:119] From C:\\Users\\Public\\Documents\\Anaconda\\lib\\site-packages\\keras\\backend\\tensorflow_backend.py:986: The name tf.assign_add is deprecated. Please use tf.compat.v1.assign_add instead.\n",
      "\n",
      "C:\\Users\\Public\\Documents\\Anaconda\\lib\\site-packages\\keras\\callbacks.py:569: RuntimeWarning: Early stopping conditioned on metric `val_mean_absolute_error` which is not available. Available metrics are: val_loss,loss\n",
      "  (self.monitor, ','.join(list(logs.keys()))), RuntimeWarning\n"
     ]
    },
    {
     "name": "stdout",
     "output_type": "stream",
     "text": [
      "(array([[0.809895]], dtype=float32), array([[1.2372096]], dtype=float32)) 64 81\n"
     ]
    },
    {
     "name": "stderr",
     "output_type": "stream",
     "text": [
      "C:\\Users\\Public\\Documents\\Anaconda\\lib\\site-packages\\keras\\callbacks.py:569: RuntimeWarning: Early stopping conditioned on metric `val_mean_absolute_error` which is not available. Available metrics are: val_loss,loss\n",
      "  (self.monitor, ','.join(list(logs.keys()))), RuntimeWarning\n"
     ]
    },
    {
     "name": "stdout",
     "output_type": "stream",
     "text": [
      "(array([[0.85999805]], dtype=float32), array([[1.1623962]], dtype=float32)) 64 82\n"
     ]
    },
    {
     "name": "stderr",
     "output_type": "stream",
     "text": [
      "C:\\Users\\Public\\Documents\\Anaconda\\lib\\site-packages\\keras\\callbacks.py:569: RuntimeWarning: Early stopping conditioned on metric `val_mean_absolute_error` which is not available. Available metrics are: val_loss,loss\n",
      "  (self.monitor, ','.join(list(logs.keys()))), RuntimeWarning\n"
     ]
    },
    {
     "name": "stdout",
     "output_type": "stream",
     "text": [
      "(array([[0.7978602]], dtype=float32), array([[1.1225462]], dtype=float32)) 64 83\n"
     ]
    },
    {
     "name": "stderr",
     "output_type": "stream",
     "text": [
      "C:\\Users\\Public\\Documents\\Anaconda\\lib\\site-packages\\keras\\callbacks.py:569: RuntimeWarning: Early stopping conditioned on metric `val_mean_absolute_error` which is not available. Available metrics are: val_loss,loss\n",
      "  (self.monitor, ','.join(list(logs.keys()))), RuntimeWarning\n"
     ]
    },
    {
     "name": "stdout",
     "output_type": "stream",
     "text": [
      "(array([[0.8264349]], dtype=float32), array([[1.108546]], dtype=float32)) 64 84\n"
     ]
    },
    {
     "name": "stderr",
     "output_type": "stream",
     "text": [
      "C:\\Users\\Public\\Documents\\Anaconda\\lib\\site-packages\\keras\\callbacks.py:569: RuntimeWarning: Early stopping conditioned on metric `val_mean_absolute_error` which is not available. Available metrics are: val_loss,loss\n",
      "  (self.monitor, ','.join(list(logs.keys()))), RuntimeWarning\n"
     ]
    },
    {
     "name": "stdout",
     "output_type": "stream",
     "text": [
      "(array([[0.7984637]], dtype=float32), array([[1.2269278]], dtype=float32)) 64 85\n"
     ]
    },
    {
     "name": "stderr",
     "output_type": "stream",
     "text": [
      "C:\\Users\\Public\\Documents\\Anaconda\\lib\\site-packages\\keras\\callbacks.py:569: RuntimeWarning: Early stopping conditioned on metric `val_mean_absolute_error` which is not available. Available metrics are: val_loss,loss\n",
      "  (self.monitor, ','.join(list(logs.keys()))), RuntimeWarning\n"
     ]
    },
    {
     "name": "stdout",
     "output_type": "stream",
     "text": [
      "(array([[0.78016603]], dtype=float32), array([[1.1616747]], dtype=float32)) 64 86\n"
     ]
    },
    {
     "name": "stderr",
     "output_type": "stream",
     "text": [
      "C:\\Users\\Public\\Documents\\Anaconda\\lib\\site-packages\\keras\\callbacks.py:569: RuntimeWarning: Early stopping conditioned on metric `val_mean_absolute_error` which is not available. Available metrics are: val_loss,loss\n",
      "  (self.monitor, ','.join(list(logs.keys()))), RuntimeWarning\n"
     ]
    },
    {
     "name": "stdout",
     "output_type": "stream",
     "text": [
      "(array([[0.7828298]], dtype=float32), array([[1.1232762]], dtype=float32)) 64 87\n"
     ]
    },
    {
     "name": "stderr",
     "output_type": "stream",
     "text": [
      "C:\\Users\\Public\\Documents\\Anaconda\\lib\\site-packages\\keras\\callbacks.py:569: RuntimeWarning: Early stopping conditioned on metric `val_mean_absolute_error` which is not available. Available metrics are: val_loss,loss\n",
      "  (self.monitor, ','.join(list(logs.keys()))), RuntimeWarning\n"
     ]
    },
    {
     "name": "stdout",
     "output_type": "stream",
     "text": [
      "(array([[0.8300713]], dtype=float32), array([[1.2047937]], dtype=float32)) 64 88\n"
     ]
    },
    {
     "name": "stderr",
     "output_type": "stream",
     "text": [
      "C:\\Users\\Public\\Documents\\Anaconda\\lib\\site-packages\\keras\\callbacks.py:569: RuntimeWarning: Early stopping conditioned on metric `val_mean_absolute_error` which is not available. Available metrics are: val_loss,loss\n",
      "  (self.monitor, ','.join(list(logs.keys()))), RuntimeWarning\n"
     ]
    },
    {
     "name": "stdout",
     "output_type": "stream",
     "text": [
      "(array([[0.86670756]], dtype=float32), array([[1.1796969]], dtype=float32)) 64 89\n"
     ]
    },
    {
     "name": "stderr",
     "output_type": "stream",
     "text": [
      "C:\\Users\\Public\\Documents\\Anaconda\\lib\\site-packages\\keras\\callbacks.py:569: RuntimeWarning: Early stopping conditioned on metric `val_mean_absolute_error` which is not available. Available metrics are: val_loss,loss\n",
      "  (self.monitor, ','.join(list(logs.keys()))), RuntimeWarning\n"
     ]
    },
    {
     "name": "stdout",
     "output_type": "stream",
     "text": [
      "(array([[0.7681832]], dtype=float32), array([[1.0719632]], dtype=float32)) 64 90\n"
     ]
    },
    {
     "name": "stderr",
     "output_type": "stream",
     "text": [
      "C:\\Users\\Public\\Documents\\Anaconda\\lib\\site-packages\\keras\\callbacks.py:569: RuntimeWarning: Early stopping conditioned on metric `val_mean_absolute_error` which is not available. Available metrics are: val_loss,loss\n",
      "  (self.monitor, ','.join(list(logs.keys()))), RuntimeWarning\n"
     ]
    },
    {
     "name": "stdout",
     "output_type": "stream",
     "text": [
      "(array([[0.86185277]], dtype=float32), array([[1.0735801]], dtype=float32)) 64 91\n"
     ]
    },
    {
     "name": "stderr",
     "output_type": "stream",
     "text": [
      "C:\\Users\\Public\\Documents\\Anaconda\\lib\\site-packages\\keras\\callbacks.py:569: RuntimeWarning: Early stopping conditioned on metric `val_mean_absolute_error` which is not available. Available metrics are: val_loss,loss\n",
      "  (self.monitor, ','.join(list(logs.keys()))), RuntimeWarning\n"
     ]
    },
    {
     "name": "stdout",
     "output_type": "stream",
     "text": [
      "(array([[0.82009315]], dtype=float32), array([[1.0994762]], dtype=float32)) 64 92\n"
     ]
    },
    {
     "name": "stderr",
     "output_type": "stream",
     "text": [
      "C:\\Users\\Public\\Documents\\Anaconda\\lib\\site-packages\\keras\\callbacks.py:569: RuntimeWarning: Early stopping conditioned on metric `val_mean_absolute_error` which is not available. Available metrics are: val_loss,loss\n",
      "  (self.monitor, ','.join(list(logs.keys()))), RuntimeWarning\n"
     ]
    },
    {
     "name": "stdout",
     "output_type": "stream",
     "text": [
      "(array([[0.875282]], dtype=float32), array([[1.2562604]], dtype=float32)) 64 93\n"
     ]
    },
    {
     "name": "stderr",
     "output_type": "stream",
     "text": [
      "C:\\Users\\Public\\Documents\\Anaconda\\lib\\site-packages\\keras\\callbacks.py:569: RuntimeWarning: Early stopping conditioned on metric `val_mean_absolute_error` which is not available. Available metrics are: val_loss,loss\n",
      "  (self.monitor, ','.join(list(logs.keys()))), RuntimeWarning\n"
     ]
    },
    {
     "name": "stdout",
     "output_type": "stream",
     "text": [
      "(array([[0.8199429]], dtype=float32), array([[1.1531821]], dtype=float32)) 64 94\n"
     ]
    },
    {
     "name": "stderr",
     "output_type": "stream",
     "text": [
      "C:\\Users\\Public\\Documents\\Anaconda\\lib\\site-packages\\keras\\callbacks.py:569: RuntimeWarning: Early stopping conditioned on metric `val_mean_absolute_error` which is not available. Available metrics are: val_loss,loss\n",
      "  (self.monitor, ','.join(list(logs.keys()))), RuntimeWarning\n"
     ]
    },
    {
     "name": "stdout",
     "output_type": "stream",
     "text": [
      "(array([[0.8823994]], dtype=float32), array([[1.366328]], dtype=float32)) 64 95\n"
     ]
    },
    {
     "name": "stderr",
     "output_type": "stream",
     "text": [
      "C:\\Users\\Public\\Documents\\Anaconda\\lib\\site-packages\\keras\\callbacks.py:569: RuntimeWarning: Early stopping conditioned on metric `val_mean_absolute_error` which is not available. Available metrics are: val_loss,loss\n",
      "  (self.monitor, ','.join(list(logs.keys()))), RuntimeWarning\n"
     ]
    },
    {
     "name": "stdout",
     "output_type": "stream",
     "text": [
      "(array([[0.83898276]], dtype=float32), array([[1.5284816]], dtype=float32)) 64 96\n"
     ]
    },
    {
     "name": "stderr",
     "output_type": "stream",
     "text": [
      "C:\\Users\\Public\\Documents\\Anaconda\\lib\\site-packages\\keras\\callbacks.py:569: RuntimeWarning: Early stopping conditioned on metric `val_mean_absolute_error` which is not available. Available metrics are: val_loss,loss\n",
      "  (self.monitor, ','.join(list(logs.keys()))), RuntimeWarning\n"
     ]
    },
    {
     "name": "stdout",
     "output_type": "stream",
     "text": [
      "(array([[0.7992004]], dtype=float32), array([[1.1211964]], dtype=float32)) 64 97\n"
     ]
    },
    {
     "name": "stderr",
     "output_type": "stream",
     "text": [
      "C:\\Users\\Public\\Documents\\Anaconda\\lib\\site-packages\\keras\\callbacks.py:569: RuntimeWarning: Early stopping conditioned on metric `val_mean_absolute_error` which is not available. Available metrics are: val_loss,loss\n",
      "  (self.monitor, ','.join(list(logs.keys()))), RuntimeWarning\n"
     ]
    },
    {
     "name": "stdout",
     "output_type": "stream",
     "text": [
      "(array([[0.86320215]], dtype=float32), array([[1.134813]], dtype=float32)) 64 98\n"
     ]
    },
    {
     "name": "stderr",
     "output_type": "stream",
     "text": [
      "C:\\Users\\Public\\Documents\\Anaconda\\lib\\site-packages\\keras\\callbacks.py:569: RuntimeWarning: Early stopping conditioned on metric `val_mean_absolute_error` which is not available. Available metrics are: val_loss,loss\n",
      "  (self.monitor, ','.join(list(logs.keys()))), RuntimeWarning\n"
     ]
    },
    {
     "name": "stdout",
     "output_type": "stream",
     "text": [
      "(array([[0.84170955]], dtype=float32), array([[1.4113714]], dtype=float32)) 64 99\n"
     ]
    }
   ],
   "source": [
    "import pandas as pd\n",
    "import numpy as np\n",
    "from sklearn import preprocessing\n",
    "from sklearn.model_selection import train_test_split\n",
    "import keras\n",
    "from keras import metrics\n",
    "from keras import regularizers\n",
    "from keras.models import Sequential\n",
    "from keras.layers import Dense, Dropout, Flatten, Activation\n",
    "from keras.layers import Conv2D, MaxPooling2D\n",
    "from keras.optimizers import Adam, RMSprop\n",
    "from keras.callbacks import TensorBoard, EarlyStopping, ModelCheckpoint\n",
    "from keras.utils import plot_model\n",
    "from keras.models import load_model\n",
    "import matplotlib.pyplot as plt\n",
    "\n",
    "\n",
    "\n",
    "df = pd.read_excel(r'Copy of Extraction PT4 14x59 din 2016 pana in prezent - analysis S1928 (003) (3).xlsx', sheet_name='TL4 -40 Nm' )\n",
    "dataset = df.values\n",
    "X = dataset[1:,23:43]\n",
    "Y = dataset[1:,14]\n",
    "X = X.astype('float')\n",
    "Y = Y.astype('float')\n",
    "\n",
    "##0,12,4,16\n",
    "d1 = pd.DataFrame(X)\n",
    "d2 = pd.DataFrame(Y)\n",
    "d1.drop([1,2,3,5,6,8,9,10,11,13,14,15,17,18], axis=1, inplace=True)\n",
    "d2.replace(0.  , np.nan, inplace=True)\n",
    "d2.replace(-1. , np.nan, inplace=True)\n",
    "d2.replace(1.  , np.nan, inplace=True)\n",
    "d2.replace(2.  , np.nan, inplace=True)\n",
    "d2.replace(3.  , np.nan, inplace=True)\n",
    "d2.replace(4.  , np.nan, inplace=True)\n",
    "d2.replace(5.  , np.nan, inplace=True)\n",
    "d2.replace(6.  , np.nan, inplace=True)\n",
    "\n",
    "\n",
    "d1[5] = d2[0]\n",
    "d1.dropna(inplace=True)\n",
    "# d1.isnull().any() # Verifica daca avem vre-o valoare de tip NaN\n",
    "\n",
    "X = d1.values[0:,:-1]\n",
    "Y = d1.values[0:, -1:]\n",
    "\n",
    "\n",
    "min_max_scaler = preprocessing.MinMaxScaler()\n",
    "X_scale = min_max_scaler.fit_transform(X)\n",
    "Y_scaler = preprocessing.MinMaxScaler()\n",
    "Y_scale = Y_scaler.fit_transform(Y)\n",
    "\n",
    "\n",
    "\n",
    "\n",
    "X_train, X_test, Y_train, Y_test = train_test_split(X_scale, Y_scale, test_size=0.2)\n",
    "X_train.shape, Y_train.shape, X_test.shape, Y_test.shape\n",
    "\n",
    "\n",
    "def etree_model(x, dropout=0.2):\n",
    "    model = Sequential()\n",
    "    model.add(Dense(x, input_dim=6, kernel_initializer='normal', activation='relu'))\n",
    "    if dropout:\n",
    "        model.add(Dropout(dropout))\n",
    "    model.add(Dense(int(x*2),  kernel_initializer='normal', activation='relu'))\n",
    "    if dropout:\n",
    "        model.add(Dropout(dropout))\n",
    "    model.add(Dense(int(x),  kernel_initializer='normal', activation='relu'))\n",
    "    if dropout:\n",
    "        model.add(Dropout(dropout))\n",
    "    model.add(Dense(int(x/2),  kernel_initializer='normal', activation='relu'))\n",
    "    if dropout:\n",
    "        model.add(Dropout(dropout))\n",
    "    model.add(Dense(int(x/4),  kernel_initializer='normal', activation='relu'))\n",
    "    model.add(Dense(1, kernel_initializer='normal',activation='sigmoid'))\n",
    "    model.compile(loss='mean_squared_error', optimizer='adam')\n",
    "    return model\n",
    "\n",
    "\n",
    "def err(model, x):\n",
    "    emax = 1.\n",
    "    emin = 1.\n",
    "    for i in range(x):\n",
    "        p = model.predict(X_train[i].reshape(1, 6))\n",
    "        #print(p, Y_train[i], p/float(Y_train[i]))\n",
    "        pp = Y_scaler.inverse_transform(p)\n",
    "        py = Y_scaler.inverse_transform(Y_train[i].reshape(1,-1))\n",
    "        r = p/float(Y_train[i])\n",
    "        if r > emax and py > 7.:\n",
    "            emax = r\n",
    "        if r < emin and py > 7.:\n",
    "            emin = r\n",
    "#        print(pp,py, r)\n",
    "    return emin , emax;\n",
    "\n",
    "\n",
    "def process_model(model, batch_size=32, epochs=500):\n",
    "    keras_callbacks = [\n",
    "                # ModelCheckpoint('/tmp/keras_checkpoints/model.{epoch:02d}-{val_loss:.2f}.hdf5', monitor='val_loss', save_best_only=True, verbose=2)\n",
    "                # ModelCheckpoint('/tmp/keras_checkpoints/model.{epoch:02d}.hdf5', monitor='val_loss', save_best_only=True, verbose=0)\n",
    "                # TensorBoard(log_dir='/tmp/keras_logs/model_3', histogram_freq=0, write_graph=True, write_images=True, embeddings_freq=0, embeddings_layer_names=None, embeddings_metadata=None),\n",
    "                EarlyStopping(monitor='val_mean_absolute_error', patience=20, verbose=0)\n",
    "                ]\n",
    "    history = model.fit(X_train, Y_train, batch_size=batch_size,epochs=epochs,\n",
    "                        shuffle=True, verbose=0, validation_data=(X_test, Y_test), callbacks=keras_callbacks)\n",
    "                \n",
    "    train_score = model.evaluate(X_train, Y_train, verbose=0)\n",
    "    valid_score = model.evaluate(X_test, Y_test, verbose=0)\n",
    "    \n",
    "bs=64\n",
    "rmin=81\n",
    "rmax=100\n",
    "for x4 in range(rmin,rmax):\n",
    "    em = etree_model(x4, dropout=0.2)\n",
    "    process_model(em, batch_size=64, epochs=5000)\n",
    "    print(err(em, 50), bs, x4)"
   ]
  },
  {
   "cell_type": "code",
   "execution_count": null,
   "metadata": {},
   "outputs": [],
   "source": []
  }
 ],
 "metadata": {
  "kernelspec": {
   "display_name": "Python 3",
   "language": "python",
   "name": "python3"
  },
  "language_info": {
   "codemirror_mode": {
    "name": "ipython",
    "version": 3
   },
   "file_extension": ".py",
   "mimetype": "text/x-python",
   "name": "python",
   "nbconvert_exporter": "python",
   "pygments_lexer": "ipython3",
   "version": "3.7.3"
  }
 },
 "nbformat": 4,
 "nbformat_minor": 2
}
