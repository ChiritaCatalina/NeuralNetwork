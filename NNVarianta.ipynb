{
 "cells": [
  {
   "cell_type": "code",
   "execution_count": 19,
   "metadata": {},
   "outputs": [
    {
     "name": "stdout",
     "output_type": "stream",
     "text": [
      "Variance of d1[0] set is 126.24962250300742\n",
      "Variance of d1[2] set is 6.157443459184272\n",
      "Variance of d1[4] set is 23.749847186984518\n",
      "Variance of d1[6] set is 5.710233029381966\n",
      "Variance of d1[12] set is 25.63772848685808\n",
      "Variance of d1[14] set is 2.7506398608913116\n",
      "Variance of d1[16] set is 20.798387299354417\n",
      "Variance of d1[18] set is 2.6332152695789057\n"
     ]
    }
   ],
   "source": [
    "import pandas as pd\n",
    "import numpy as np\n",
    "from sklearn import preprocessing\n",
    "from sklearn.model_selection import train_test_split\n",
    "import keras\n",
    "from keras import metrics\n",
    "from keras import regularizers\n",
    "from keras.models import Sequential\n",
    "from keras.layers import Dense, Dropout, Flatten, Activation\n",
    "from keras.layers import Conv2D, MaxPooling2D\n",
    "from keras.optimizers import Adam, RMSprop\n",
    "from keras.callbacks import TensorBoard, EarlyStopping, ModelCheckpoint\n",
    "from keras.utils import plot_model\n",
    "from keras.models import load_model\n",
    "import matplotlib.pyplot as plt\n",
    "import statistics \n",
    "\n",
    "\n",
    "\n",
    "df = pd.read_excel(r'Copy of Extraction PT4 14x59 din 2016 pana in prezent - analysis S1928 (003) (3).xlsx', sheet_name='TL4 -40 Nm' )\n",
    "dataset = df.values\n",
    "X = dataset[1:,23:42]\n",
    "Y = dataset[1:,14]\n",
    "X = X.astype('float')\n",
    "Y = Y.astype('float')\n",
    "\n",
    "\n",
    "d1 = pd.DataFrame(X)\n",
    "d2 = pd.DataFrame(Y)\n",
    "d1.drop([1,3,5,7,8,9,10,11,13,15,17], axis=1, inplace=True)\n",
    "d2.replace(0.  , np.nan, inplace=True)\n",
    "d2.replace(-1. , np.nan, inplace=True)\n",
    "d2.replace(1.  , np.nan, inplace=True)\n",
    "d2.replace(2.  , np.nan, inplace=True)\n",
    "d2.replace(3.  , np.nan, inplace=True)\n",
    "d2.replace(4.  , np.nan, inplace=True)\n",
    "d2.replace(5.  , np.nan, inplace=True)\n",
    "d2.replace(6.  , np.nan, inplace=True)\n",
    "\n",
    "d1[7] = d2[0]\n",
    "d1.dropna(inplace=True)\n",
    "# d1.isnull().any() # Verifica daca avem vre-o valoare de tip NaN\n",
    "#0,2,4,6,12,14,16,18\n",
    "X = d1.values[0:,:-1]\n",
    "Y = d1.values[0:, -1:]\n",
    "\n",
    "print(\"Variance of d1[0] set is % s\" \n",
    "      %(statistics.variance(d1[0]))) \n",
    "print(\"Variance of d1[2] set is % s\" \n",
    "      %(statistics.variance(d1[2]))) \n",
    "print(\"Variance of d1[4] set is % s\" \n",
    "      %(statistics.variance(d1[4]))) \n",
    "print(\"Variance of d1[6] set is % s\" \n",
    "      %(statistics.variance(d1[6]))) \n",
    "print(\"Variance of d1[12] set is % s\" \n",
    "      %(statistics.variance(d1[12]))) \n",
    "print(\"Variance of d1[14] set is % s\" \n",
    "      %(statistics.variance(d1[14]))) \n",
    "print(\"Variance of d1[16] set is % s\" \n",
    "      %(statistics.variance(d1[16]))) \n",
    "print(\"Variance of d1[18] set is % s\" \n",
    "      %(statistics.variance(d1[18]))) \n",
    "\n",
    "#0,12,4,16\n"
   ]
  },
  {
   "cell_type": "code",
   "execution_count": null,
   "metadata": {},
   "outputs": [],
   "source": []
  },
  {
   "cell_type": "code",
   "execution_count": null,
   "metadata": {},
   "outputs": [],
   "source": []
  },
  {
   "cell_type": "code",
   "execution_count": null,
   "metadata": {},
   "outputs": [],
   "source": []
  },
  {
   "cell_type": "code",
   "execution_count": null,
   "metadata": {},
   "outputs": [],
   "source": []
  },
  {
   "cell_type": "code",
   "execution_count": 13,
   "metadata": {},
   "outputs": [
    {
     "name": "stdout",
     "output_type": "stream",
     "text": [
      "0     -3.0\n",
      "1      3.0\n",
      "2      1.0\n",
      "3      4.0\n",
      "4      4.0\n",
      "5      1.0\n",
      "6      2.0\n",
      "7     -3.0\n",
      "8      3.0\n",
      "9      4.0\n",
      "10     4.0\n",
      "11     4.0\n",
      "12     3.0\n",
      "13     3.0\n",
      "14     1.0\n",
      "15     1.0\n",
      "16     1.0\n",
      "17     0.0\n",
      "18     1.0\n",
      "19     0.0\n",
      "20     1.0\n",
      "21    -4.0\n",
      "22    -4.0\n",
      "23    -4.0\n",
      "24     1.0\n",
      "25     0.0\n",
      "26    -2.0\n",
      "27    -3.0\n",
      "28    -1.0\n",
      "29    -1.0\n",
      "      ... \n",
      "888    1.0\n",
      "889    0.0\n",
      "890   -1.0\n",
      "891    0.0\n",
      "892    2.0\n",
      "893    0.0\n",
      "894    0.0\n",
      "895    0.0\n",
      "896   -1.0\n",
      "897   -1.0\n",
      "898   -1.0\n",
      "899   -1.0\n",
      "900   -5.0\n",
      "901   -2.0\n",
      "902    3.0\n",
      "903    4.0\n",
      "904   -7.0\n",
      "905    0.0\n",
      "906    4.0\n",
      "907    6.0\n",
      "908    6.0\n",
      "909    5.0\n",
      "910    3.0\n",
      "911    1.0\n",
      "912    3.0\n",
      "913    0.0\n",
      "914   -1.0\n",
      "915   -1.0\n",
      "916    1.0\n",
      "917    0.0\n",
      "Name: 12, Length: 847, dtype: float64\n"
     ]
    }
   ],
   "source": [
    "\n"
   ]
  },
  {
   "cell_type": "code",
   "execution_count": null,
   "metadata": {},
   "outputs": [],
   "source": []
  },
  {
   "cell_type": "code",
   "execution_count": null,
   "metadata": {},
   "outputs": [],
   "source": []
  },
  {
   "cell_type": "code",
   "execution_count": null,
   "metadata": {},
   "outputs": [],
   "source": []
  },
  {
   "cell_type": "code",
   "execution_count": null,
   "metadata": {},
   "outputs": [],
   "source": []
  },
  {
   "cell_type": "code",
   "execution_count": null,
   "metadata": {},
   "outputs": [],
   "source": []
  },
  {
   "cell_type": "code",
   "execution_count": null,
   "metadata": {},
   "outputs": [],
   "source": []
  },
  {
   "cell_type": "code",
   "execution_count": null,
   "metadata": {},
   "outputs": [],
   "source": []
  },
  {
   "cell_type": "code",
   "execution_count": null,
   "metadata": {},
   "outputs": [],
   "source": []
  },
  {
   "cell_type": "code",
   "execution_count": null,
   "metadata": {},
   "outputs": [],
   "source": []
  },
  {
   "cell_type": "code",
   "execution_count": null,
   "metadata": {},
   "outputs": [],
   "source": []
  }
 ],
 "metadata": {
  "kernelspec": {
   "display_name": "Python 3",
   "language": "python",
   "name": "python3"
  },
  "language_info": {
   "codemirror_mode": {
    "name": "ipython",
    "version": 3
   },
   "file_extension": ".py",
   "mimetype": "text/x-python",
   "name": "python",
   "nbconvert_exporter": "python",
   "pygments_lexer": "ipython3",
   "version": "3.7.3"
  }
 },
 "nbformat": 4,
 "nbformat_minor": 2
}
