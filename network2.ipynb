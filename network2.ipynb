{
 "cells": [
  {
   "cell_type": "code",
   "execution_count": 1,
   "metadata": {},
   "outputs": [],
   "source": [
    "import pandas as pd\n",
    "df = pd.read_excel(r'Copy of Extraction PT4 14x59 din 2016 pana in prezent - analysis S1928 (003).xlsx', sheet_name='TL4 -40 Nm' )\n",
    "dataset = df.values\n"
   ]
  },
  {
   "cell_type": "code",
   "execution_count": 2,
   "metadata": {},
   "outputs": [
    {
     "name": "stdout",
     "output_type": "stream",
     "text": [
      "X:  (918, 7), Y: (918,)\n"
     ]
    },
    {
     "data": {
      "text/plain": [
       "((918, 4), (918, 1))"
      ]
     },
     "execution_count": 2,
     "metadata": {},
     "output_type": "execute_result"
    }
   ],
   "source": [
    "X = dataset[1:,23:30]\n",
    "Y = dataset[1:,14]\n",
    "X = X.astype('float')\n",
    "Y = Y.astype('float')\n",
    "print(\"X:  %s, Y: %s\" % (X.shape, Y.shape))\n",
    "\n",
    "d1 = pd.DataFrame(X)\n",
    "d2 = pd.DataFrame(Y)\n",
    "d1.drop([1,3,5], axis=1, inplace=True)\n",
    "d1[7] = d2[0]\n",
    "d1.dropna(inplace=True)\n",
    "# d1.isnull().any() # Verifica daca avem vre-o valoare de tip NaN\n",
    "\n",
    "X = d1.values[0:,:-1]\n",
    "Y = d1.values[0:, -1:]\n",
    "X.shape, Y.shape"
   ]
  },
  {
   "cell_type": "code",
   "execution_count": 3,
   "metadata": {},
   "outputs": [
    {
     "data": {
      "text/plain": [
       "((918, 4), (918, 1))"
      ]
     },
     "execution_count": 3,
     "metadata": {},
     "output_type": "execute_result"
    }
   ],
   "source": [
    "from sklearn import preprocessing\n",
    "min_max_scaler = preprocessing.MinMaxScaler()\n",
    "X_scale = min_max_scaler.fit_transform(X)\n",
    "Y_scaler = preprocessing.MinMaxScaler()\n",
    "Y_scale = Y_scaler.fit_transform(Y)\n",
    "\n",
    "X_scale.shape, Y_scale.shape"
   ]
  },
  {
   "cell_type": "code",
   "execution_count": 4,
   "metadata": {},
   "outputs": [
    {
     "data": {
      "text/plain": [
       "((734, 4), (734, 1), (184, 4), (184, 1))"
      ]
     },
     "execution_count": 4,
     "metadata": {},
     "output_type": "execute_result"
    }
   ],
   "source": [
    "from sklearn.model_selection import train_test_split\n",
    "X_train, X_test, Y_train, Y_test = train_test_split(X_scale, Y_scale, test_size=0.2)\n",
    "X_train.shape, Y_train.shape, X_test.shape, Y_test.shape\n"
   ]
  },
  {
   "cell_type": "code",
   "execution_count": 5,
   "metadata": {},
   "outputs": [
    {
     "name": "stderr",
     "output_type": "stream",
     "text": [
      "Using TensorFlow backend.\n",
      "WARNING: Logging before flag parsing goes to stderr.\n",
      "W0917 10:26:54.977770  8636 deprecation_wrapper.py:119] From C:\\Users\\Alecs\\Anaconda3\\envs\\CChirita\\lib\\site-packages\\keras\\backend\\tensorflow_backend.py:74: The name tf.get_default_graph is deprecated. Please use tf.compat.v1.get_default_graph instead.\n",
      "\n",
      "W0917 10:26:55.008770  8636 deprecation_wrapper.py:119] From C:\\Users\\Alecs\\Anaconda3\\envs\\CChirita\\lib\\site-packages\\keras\\backend\\tensorflow_backend.py:517: The name tf.placeholder is deprecated. Please use tf.compat.v1.placeholder instead.\n",
      "\n",
      "W0917 10:26:55.011771  8636 deprecation_wrapper.py:119] From C:\\Users\\Alecs\\Anaconda3\\envs\\CChirita\\lib\\site-packages\\keras\\backend\\tensorflow_backend.py:4115: The name tf.random_normal is deprecated. Please use tf.random.normal instead.\n",
      "\n",
      "W0917 10:26:55.025769  8636 deprecation_wrapper.py:119] From C:\\Users\\Alecs\\Anaconda3\\envs\\CChirita\\lib\\site-packages\\keras\\backend\\tensorflow_backend.py:133: The name tf.placeholder_with_default is deprecated. Please use tf.compat.v1.placeholder_with_default instead.\n",
      "\n",
      "W0917 10:26:55.036770  8636 deprecation.py:506] From C:\\Users\\Alecs\\Anaconda3\\envs\\CChirita\\lib\\site-packages\\keras\\backend\\tensorflow_backend.py:3445: calling dropout (from tensorflow.python.ops.nn_ops) with keep_prob is deprecated and will be removed in a future version.\n",
      "Instructions for updating:\n",
      "Please use `rate` instead of `keep_prob`. Rate should be set to `rate = 1 - keep_prob`.\n",
      "W0917 10:26:55.155820  8636 deprecation_wrapper.py:119] From C:\\Users\\Alecs\\Anaconda3\\envs\\CChirita\\lib\\site-packages\\keras\\backend\\tensorflow_backend.py:4138: The name tf.random_uniform is deprecated. Please use tf.random.uniform instead.\n",
      "\n",
      "W0917 10:26:55.169797  8636 deprecation_wrapper.py:119] From C:\\Users\\Alecs\\Anaconda3\\envs\\CChirita\\lib\\site-packages\\keras\\optimizers.py:790: The name tf.train.Optimizer is deprecated. Please use tf.compat.v1.train.Optimizer instead.\n",
      "\n",
      "W0917 10:26:55.200782  8636 deprecation.py:323] From C:\\Users\\Alecs\\Anaconda3\\envs\\CChirita\\lib\\site-packages\\tensorflow\\python\\ops\\nn_impl.py:180: add_dispatch_support.<locals>.wrapper (from tensorflow.python.ops.array_ops) is deprecated and will be removed in a future version.\n",
      "Instructions for updating:\n",
      "Use tf.where in 2.0, which has the same broadcast rule as np.where\n"
     ]
    },
    {
     "name": "stdout",
     "output_type": "stream",
     "text": [
      "_________________________________________________________________\n",
      "Layer (type)                 Output Shape              Param #   \n",
      "=================================================================\n",
      "dense_1 (Dense)              (None, 80)                400       \n",
      "_________________________________________________________________\n",
      "dropout_1 (Dropout)          (None, 80)                0         \n",
      "_________________________________________________________________\n",
      "dense_2 (Dense)              (None, 120)               9720      \n",
      "_________________________________________________________________\n",
      "dropout_2 (Dropout)          (None, 120)               0         \n",
      "_________________________________________________________________\n",
      "dense_3 (Dense)              (None, 20)                2420      \n",
      "_________________________________________________________________\n",
      "dropout_3 (Dropout)          (None, 20)                0         \n",
      "_________________________________________________________________\n",
      "dense_4 (Dense)              (None, 10)                210       \n",
      "_________________________________________________________________\n",
      "dropout_4 (Dropout)          (None, 10)                0         \n",
      "_________________________________________________________________\n",
      "dense_5 (Dense)              (None, 1)                 11        \n",
      "=================================================================\n",
      "Total params: 12,761\n",
      "Trainable params: 12,761\n",
      "Non-trainable params: 0\n",
      "_________________________________________________________________\n"
     ]
    }
   ],
   "source": [
    "import keras\n",
    "from keras import metrics\n",
    "from keras import regularizers\n",
    "from keras.models import Sequential\n",
    "from keras.layers import Dense, Dropout, Flatten, Activation\n",
    "from keras.layers import Conv2D, MaxPooling2D\n",
    "from keras.optimizers import Adam, RMSprop\n",
    "from keras.callbacks import TensorBoard, EarlyStopping, ModelCheckpoint\n",
    "from keras.utils import plot_model\n",
    "from keras.models import load_model\n",
    "\n",
    "\n",
    "def basic_model_3(x_size, y_size):\n",
    "    t_model = Sequential()\n",
    "    t_model.add(Dense(80, activation=\"tanh\", kernel_initializer='normal', input_shape=(x_size,)))\n",
    "    t_model.add(Dropout(0.2))\n",
    "    t_model.add(Dense(120, activation=\"relu\", kernel_initializer='normal', \n",
    "        kernel_regularizer=regularizers.l1(0.01), bias_regularizer=regularizers.l1(0.01)))\n",
    "    t_model.add(Dropout(0.1))\n",
    "    t_model.add(Dense(20, activation=\"relu\", kernel_initializer='normal', \n",
    "        kernel_regularizer=regularizers.l1_l2(0.01), bias_regularizer=regularizers.l1_l2(0.01)))\n",
    "    t_model.add(Dropout(0.1))\n",
    "    t_model.add(Dense(10, activation=\"relu\", kernel_initializer='normal'))\n",
    "    t_model.add(Dropout(0.0))\n",
    "    t_model.add(Dense(y_size))\n",
    "    t_model.compile(\n",
    "        loss='binary_crossentropy',\n",
    "        optimizer='rmsprop',\n",
    "        metrics=[metrics.mae])\n",
    "    return(t_model)\n",
    "\n",
    "model = basic_model_3(4, 1)\n",
    "model.summary()"
   ]
  },
  {
   "cell_type": "code",
   "execution_count": 6,
   "metadata": {},
   "outputs": [
    {
     "name": "stdout",
     "output_type": "stream",
     "text": [
      "Epochs:  5000\n",
      "Batch size:  128\n"
     ]
    }
   ],
   "source": [
    "epochs = 5000\n",
    "batch_size = 128\n",
    "\n",
    "print('Epochs: ', epochs)\n",
    "print('Batch size: ', batch_size)\n",
    "\n",
    "keras_callbacks = [\n",
    "    # ModelCheckpoint('/tmp/keras_checkpoints/model.{epoch:02d}-{val_loss:.2f}.hdf5', monitor='val_loss', save_best_only=True, verbose=2)\n",
    "    # ModelCheckpoint('/tmp/keras_checkpoints/model.{epoch:02d}.hdf5', monitor='val_loss', save_best_only=True, verbose=0)\n",
    "    # TensorBoard(log_dir='/tmp/keras_logs/model_3', histogram_freq=0, write_graph=True, write_images=True, embeddings_freq=0, embeddings_layer_names=None, embeddings_metadata=None),\n",
    "    EarlyStopping(monitor='val_mean_absolute_error', patience=20, verbose=0)\n",
    "]\n",
    "\n",
    "history = model.fit(X_train, Y_train,\n",
    "    batch_size=batch_size,\n",
    "    epochs=epochs,\n",
    "    shuffle=True,\n",
    "    verbose=0, # Change it to 2, if wished to observe execution\n",
    "    validation_data=(X_test, Y_test),\n",
    "    callbacks=keras_callbacks)\n",
    " "
   ]
  },
  {
   "cell_type": "code",
   "execution_count": 7,
   "metadata": {},
   "outputs": [
    {
     "name": "stdout",
     "output_type": "stream",
     "text": [
      "Train MAE:  0.1624 , Train Loss:  0.7533\n",
      "Val MAE:  0.1668 , Val Loss:  0.7617\n"
     ]
    }
   ],
   "source": [
    "train_score = model.evaluate(X_train, Y_train, verbose=0)\n",
    "valid_score = model.evaluate(X_test, Y_test, verbose=0)\n",
    "\n",
    "print('Train MAE: ', round(train_score[1], 4), ', Train Loss: ', round(train_score[0], 4)) \n",
    "print('Val MAE: ', round(valid_score[1], 4), ', Val Loss: ', round(valid_score[0], 4))"
   ]
  },
  {
   "cell_type": "code",
   "execution_count": 10,
   "metadata": {},
   "outputs": [
    {
     "data": {
      "image/png": "[encoded data removed]",
      "text/plain": [
       "<Figure size 576x864 with 2 Axes>"
      ]
     },
     "metadata": {
      "needs_background": "light"
     },
     "output_type": "display_data"
    }
   ],
   "source": [
    "import matplotlib.pyplot as plt\n",
    "def plot_hist(h, xsize=6, ysize=10):\n",
    "    # Prepare plotting\n",
    "    fig_size = plt.rcParams[\"figure.figsize\"]\n",
    "    plt.rcParams[\"figure.figsize\"] = [xsize, ysize]\n",
    "    fig, axes = plt.subplots(nrows=4, ncols=4, sharex=True)\n",
    "    \n",
    "    # summarize history for MAE\n",
    "    plt.subplot(211)\n",
    "    plt.plot(h['mean_absolute_error'])\n",
    "    plt.plot(h['val_mean_absolute_error'])\n",
    "    plt.title('Training vs Validation MAE')\n",
    "    plt.ylabel('MAE')\n",
    "    plt.xlabel('Epoch')\n",
    "    plt.legend(['Train', 'Validation'], loc='upper left')\n",
    "    \n",
    "    # summarize history for loss\n",
    "    plt.subplot(212)\n",
    "    plt.plot(h['loss'])\n",
    "    plt.plot(h['val_loss'])\n",
    "    plt.title('Training vs Validation Loss')\n",
    "    plt.ylabel('Loss')\n",
    "    plt.xlabel('Epoch')\n",
    "    plt.legend(['Train', 'Validation'], loc='upper left')\n",
    "    \n",
    "    # Plot it all in IPython (non-interactive)\n",
    "    plt.draw()\n",
    "    plt.show()\n",
    "\n",
    "    return\n",
    "\n",
    "p1 = plot_hist(history.history, xsize=8, ysize=12)\n",
    "plt.show()"
   ]
  },
  {
   "cell_type": "code",
   "execution_count": null,
   "metadata": {},
   "outputs": [],
   "source": []
  },
  {
   "cell_type": "code",
   "execution_count": 9,
   "metadata": {},
   "outputs": [
    {
     "name": "stdout",
     "output_type": "stream",
     "text": [
      "[[0.5738906]] [0.78105263] [[0.7347656]]\n",
      "[[0.57388985]] [0.47368421] [[1.2115452]]\n",
      "[[0.5738914]] [0.47368421] [[1.2115484]]\n",
      "[[0.57389134]] [0.66315789] [[0.86539173]]\n",
      "[[0.5738898]] [0.73] [[0.7861504]]\n",
      "[[0.57388943]] [0.52631579] [[1.0903898]]\n",
      "[[0.57389]] [0.76631579] [[0.7488949]]\n",
      "[[0.57389146]] [0.51947368] [[1.1047556]]\n",
      "[[0.57388896]] [0.49421053] [[1.1612236]]\n",
      "[[0.573891]] [0.48105263] [[1.19299]]\n",
      "[[0.57389146]] [0.84210526] [[0.6814961]]\n",
      "[[0.57389206]] [0.31578947] [[1.8173249]]\n",
      "[[0.5738919]] [0.36842105] [[1.5577066]]\n",
      "[[0.57389134]] [0.37842105] [[1.5165418]]\n",
      "[[0.5738891]] [0.65421053] [[0.87722385]]\n",
      "[[0.5738904]] [0.68421053] [[0.8387629]]\n",
      "[[0.5738907]] [0.75421053] [[0.76091576]]\n",
      "[[0.573891]] [0.51947368] [[1.1047547]]\n",
      "[[0.5738911]] [0.60578947] [[0.9473441]]\n",
      "[[0.5738894]] [0.48631579] [[1.1800755]]\n",
      "[[0.5738915]] [0.63157895] [[0.9086616]]\n",
      "[[0.57388955]] [0.73684211] [[0.77885014]]\n",
      "[[0.57388955]] [0.33631579] [[1.7064009]]\n",
      "[[0.5738928]] [0.78947368] [[0.7269308]]\n",
      "[[0.57389027]] [0.35421053] [[1.6201954]]\n",
      "[[0.5738926]] [0.78263158] [[0.7332858]]\n",
      "[[0.5738901]] [0.55052632] [[1.042439]]\n",
      "[[0.57389086]] [0.53157895] [[1.0795966]]\n",
      "[[0.57389176]] [0.77473684] [[0.74075705]]\n",
      "[[0.57389235]] [0.72368421] [[0.7930149]]\n",
      "[[0.5738908]] [0.50736842] [[1.1311126]]\n",
      "[[0.57389104]] [0.42105263] [[1.3629912]]\n",
      "[[0.5738929]] [0.31578947] [[1.8173276]]\n",
      "[[0.5738918]] [0.40368421] [[1.4216356]]\n",
      "[[0.5738875]] [0.57894737] [[0.9912603]]\n",
      "[[0.5738902]] [0.81210526] [[0.70666975]]\n",
      "[[0.5738918]] [0.46105263] [[1.2447425]]\n",
      "[[0.5738893]] [0.51789474] [[1.1081196]]\n",
      "[[0.5738929]] [0.63157895] [[0.9086638]]\n",
      "[[0.5738897]] [0.60210526] [[0.9531385]]\n",
      "[[0.57388943]] [0.71684211] [[0.80057997]]\n",
      "[[0.57389075]] [0.39789474] [[1.442318]]\n",
      "[[0.5738912]] [0.54421053] [[1.054539]]\n",
      "[[0.57389253]] [0.36842105] [[1.5577084]]\n",
      "[[0.5738915]] [0.26315789] [[2.1807878]]\n",
      "[[0.57389116]] [0.36842105] [[1.5577046]]\n",
      "[[0.57389265]] [0.63157895] [[0.9086634]]\n",
      "[[0.5738911]] [0.84473684] [[0.67937267]]\n",
      "[[0.57389194]] [0.63157895] [[0.90866226]]\n",
      "[[0.5738914]] [0.57894737] [[0.99126697]]\n",
      "[[0.5738896]] [0.67684211] [[0.84789294]]\n",
      "[[0.573889]] [0.84210526] [[0.6814932]]\n",
      "[[0.57389]] [0.33368421] [[1.7198596]]\n",
      "[[0.5738897]] [0.30947368] [[1.8544054]]\n",
      "[[0.57389164]] [0.73684211] [[0.77885294]]\n",
      "[[0.57389116]] [0.24105263] [[2.3807712]]\n",
      "[[0.5738907]] [0.49894737] [[1.1502029]]\n",
      "[[0.5738925]] [0.61789474] [[0.9287868]]\n",
      "[[0.57389045]] [0.86631579] [[0.6624495]]\n",
      "[[0.57388926]] [0.78947368] [[0.7269264]]\n",
      "[[0.57389075]] [0.57894737] [[0.99126583]]\n",
      "[[0.57389146]] [0.35052632] [[1.6372279]]\n",
      "[[0.5738897]] [0.84210526] [[0.681494]]\n",
      "[[0.57389086]] [0.40105263] [[1.4309615]]\n",
      "[[0.57388973]] [0.29578947] [[1.9401965]]\n",
      "[[0.5738894]] [0.20368421] [[2.8175447]]\n",
      "[[0.5738913]] [0.73684211] [[0.77885246]]\n",
      "[[0.5738918]] [0.73947368] [[0.77608144]]\n",
      "[[0.5738916]] [0.47947368] [[1.1969199]]\n",
      "[[0.5738904]] [0.74368421] [[0.77168554]]\n",
      "[[0.5738887]] [0.52894737] [[1.0849638]]\n",
      "[[0.5738892]] [0.73684211] [[0.77884966]]\n",
      "[[0.5738894]] [0.48894737] [[1.1737243]]\n",
      "[[0.5738913]] [0.05263158] [[10.9039345]]\n",
      "[[0.57389164]] [0.47736842] [[1.2021986]]\n",
      "[[0.5738894]] [0.73684211] [[0.7788499]]\n",
      "[[0.5738907]] [0.85947368] [[0.66772336]]\n",
      "[[0.5738912]] [0.63263158] [[0.90714914]]\n",
      "[[0.5738911]] [0.78157895] [[0.7342714]]\n",
      "[[0.57389355]] [0.55052632] [[1.0424453]]\n",
      "[[0.5738928]] [0.31578947] [[1.8173271]]\n",
      "[[0.57389075]] [0.52] [[1.1036361]]\n",
      "[[0.57388943]] [0.73684211] [[0.77884996]]\n",
      "[[0.57389116]] [0.55368421] [[1.0364954]]\n",
      "[[0.5738917]] [0.43368421] [[1.323294]]\n",
      "[[0.5738896]] [0.75789474] [[0.75721544]]\n",
      "[[0.5738919]] [0.10526316] [[5.451973]]\n",
      "[[0.5738896]] [0.56210526] [[1.0209647]]\n",
      "[[0.5738925]] [0.72894737] [[0.7872893]]\n",
      "[[0.5738902]] [0.49736842] [[1.1538533]]\n",
      "[[0.5738883]] [0.36842105] [[1.5576968]]\n",
      "[[0.5738907]] [0.44263158] [[1.2965426]]\n",
      "[[0.5738906]] [0.76210526] [[0.7530333]]\n",
      "[[0.57389235]] [0.23578947] [[2.4339185]]\n",
      "[[0.5738911]] [0.57894737] [[0.9912664]]\n",
      "[[0.5738867]] [0.31578947] [[1.817308]]\n",
      "[[0.5738899]] [0.71631579] [[0.80116886]]\n",
      "[[0.57389]] [0.57526316] [[0.99761295]]\n",
      "[[0.5738926]] [0.68631579] [[0.8361932]]\n",
      "[[0.5738895]] [0.68] [[0.8439551]]\n"
     ]
    }
   ],
   "source": [
    "for i in range(100):\n",
    "    p = model.predict(X_train[i].reshape(1, 4))\n",
    "    print(p,Y_train[i], p/float(Y_train[i]))"
   ]
  }
 ],
 "metadata": {
  "kernelspec": {
   "display_name": "Python 3",
   "language": "python",
   "name": "python3"
  },
  "language_info": {
   "codemirror_mode": {
    "name": "ipython",
    "version": 3
   },
   "file_extension": ".py",
   "mimetype": "text/x-python",
   "name": "python",
   "nbconvert_exporter": "python",
   "pygments_lexer": "ipython3",
   "version": "3.7.4"
  }
 },
 "nbformat": 4,
 "nbformat_minor": 2
}
