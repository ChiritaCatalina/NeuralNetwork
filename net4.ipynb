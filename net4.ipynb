{
 "cells": [
  {
   "cell_type": "markdown",
   "metadata": {},
   "source": [
    "# Model de predictie multiparametru\n",
    "\n",
    "Modelul nostru citeste un fisier Excel si imparte datele de intrare in elemente de intrare si elemente de iesire. Elementele de intrare au 24 de caracteristici pe care le urmeaza."
   ]
  },
  {
   "cell_type": "code",
   "execution_count": 1,
   "metadata": {},
   "outputs": [
    {
     "name": "stdout",
     "output_type": "stream",
     "text": [
      "X:  (918, 24), Y: (918,)\n"
     ]
    }
   ],
   "source": [
    "import pandas as pd\n",
    "df = pd.read_excel(r'Copy of Extraction PT4 14x59 din 2016 pana in prezent - analysis S1928 (003).xlsx', sheet_name='TL4 -40 Nm' )\n",
    "dataset = df.values\n",
    "\n",
    "X = dataset[1:,23:47]\n",
    "Y = dataset[1:,14]\n",
    "X = X.astype('float')\n",
    "Y = Y.astype('float')\n",
    "print(\"X:  %s, Y: %s\" % (X.shape, Y.shape))"
   ]
  },
  {
   "cell_type": "code",
   "execution_count": 2,
   "metadata": {},
   "outputs": [
    {
     "name": "stdout",
     "output_type": "stream",
     "text": [
      "(911, 23) (911, 1)\n"
     ]
    }
   ],
   "source": [
    "Xdf = pd.DataFrame(X)\n",
    "Ydf = pd.DataFrame(Y)\n",
    "Xdf.drop(22, axis=1,inplace=True)\n",
    "Xdf[24] = Ydf[0]\n",
    "Ydf.plot()\n",
    "Xdf.dropna(inplace=True)\n",
    "td = Xdf.values\n",
    "X = td[0:, :-1]\n",
    "Y = td[0:, -1:]\n",
    "X = X.astype('float')\n",
    "Y = Y.astype('float')\n",
    "print(X.shape, Y.shape)"
   ]
  },
  {
   "cell_type": "markdown",
   "metadata": {},
   "source": [
    "### Normalizarea datelor\n",
    "Este necesara extragerea din dataset a valorilor de intrare care au valoare NaN.\n",
    "De asemenea, am ignorat parametrii care nu varieaza in dataset."
   ]
  },
  {
   "cell_type": "code",
   "execution_count": 3,
   "metadata": {},
   "outputs": [
    {
     "data": {
      "text/plain": [
       "((911, 23), (911, 1))"
      ]
     },
     "execution_count": 3,
     "metadata": {},
     "output_type": "execute_result"
    }
   ],
   "source": [
    "X.shape, Y.shape"
   ]
  },
  {
   "cell_type": "markdown",
   "metadata": {},
   "source": [
    "## Scalam datele de intrare si de iesire intre valorile 0 si 1\n",
    "pentru aceasta apelam la minmaxscaller din pachetul scipy"
   ]
  },
  {
   "cell_type": "code",
   "execution_count": 4,
   "metadata": {},
   "outputs": [
    {
     "data": {
      "text/plain": [
       "((911, 23), (911, 1))"
      ]
     },
     "execution_count": 4,
     "metadata": {},
     "output_type": "execute_result"
    }
   ],
   "source": [
    "from sklearn import preprocessing\n",
    "min_max_scaler = preprocessing.MinMaxScaler()\n",
    "X_scale = min_max_scaler.fit_transform(X)\n",
    "Y_scaler = preprocessing.MinMaxScaler()\n",
    "Y_scale = Y_scaler.fit_transform(Y)\n",
    "\n",
    "X_scale.shape, Y_scale.shape"
   ]
  },
  {
   "cell_type": "markdown",
   "metadata": {},
   "source": [
    "## Impartim datele in data de training si date de test\n"
   ]
  },
  {
   "cell_type": "code",
   "execution_count": 5,
   "metadata": {},
   "outputs": [
    {
     "name": "stdout",
     "output_type": "stream",
     "text": [
      "(637, 23)\n",
      "(137, 23)\n",
      "(137, 23)\n",
      "(637, 1)\n",
      "(137, 1)\n"
     ]
    }
   ],
   "source": [
    "from sklearn.model_selection import train_test_split\n",
    "X_train, X_val_and_test, Y_train, Y_val_and_test = train_test_split(X_scale, Y_scale, test_size=0.3)\n",
    "X_val, X_test, Y_val, Y_test = train_test_split(X_val_and_test, Y_val_and_test, test_size=0.5)\n",
    "print(X_train.shape)\n",
    "print(X_val.shape)\n",
    "print(X_test.shape)\n",
    "print(Y_train.shape)\n",
    "print(Y_val.shape)"
   ]
  },
  {
   "cell_type": "markdown",
   "metadata": {},
   "source": [
    "## Cream modelul ML\n",
    "1 strat de intrare de dimensiunea dictata de numarul de parametrii folositi (22)\n",
    "\n",
    "1 strat ascuns dim 77 folosind modelul de activare ReLU\n",
    "\n",
    "1 strat ascuns dim 77 folosind modelul de activare ReLU\n",
    "\n",
    "1 strat de iesire dim 1 folosind un model de activare de tip sigmoid\n",
    "\n"
   ]
  },
  {
   "cell_type": "code",
   "execution_count": 6,
   "metadata": {},
   "outputs": [
    {
     "name": "stderr",
     "output_type": "stream",
     "text": [
      "Using TensorFlow backend.\n",
      "WARNING: Logging before flag parsing goes to stderr.\n",
      "W0917 00:01:28.034684 15264 deprecation_wrapper.py:119] From C:\\Users\\Alecs\\Anaconda3\\envs\\CChirita\\lib\\site-packages\\keras\\backend\\tensorflow_backend.py:74: The name tf.get_default_graph is deprecated. Please use tf.compat.v1.get_default_graph instead.\n",
      "\n",
      "W0917 00:01:28.102732 15264 deprecation_wrapper.py:119] From C:\\Users\\Alecs\\Anaconda3\\envs\\CChirita\\lib\\site-packages\\keras\\backend\\tensorflow_backend.py:517: The name tf.placeholder is deprecated. Please use tf.compat.v1.placeholder instead.\n",
      "\n",
      "W0917 00:01:28.109161 15264 deprecation_wrapper.py:119] From C:\\Users\\Alecs\\Anaconda3\\envs\\CChirita\\lib\\site-packages\\keras\\backend\\tensorflow_backend.py:4138: The name tf.random_uniform is deprecated. Please use tf.random.uniform instead.\n",
      "\n",
      "W0917 00:01:28.181703 15264 deprecation_wrapper.py:119] From C:\\Users\\Alecs\\Anaconda3\\envs\\CChirita\\lib\\site-packages\\keras\\backend\\tensorflow_backend.py:133: The name tf.placeholder_with_default is deprecated. Please use tf.compat.v1.placeholder_with_default instead.\n",
      "\n",
      "W0917 00:01:28.212701 15264 deprecation.py:506] From C:\\Users\\Alecs\\Anaconda3\\envs\\CChirita\\lib\\site-packages\\keras\\backend\\tensorflow_backend.py:3445: calling dropout (from tensorflow.python.ops.nn_ops) with keep_prob is deprecated and will be removed in a future version.\n",
      "Instructions for updating:\n",
      "Please use `rate` instead of `keep_prob`. Rate should be set to `rate = 1 - keep_prob`.\n",
      "W0917 00:01:29.260729 15264 deprecation_wrapper.py:119] From C:\\Users\\Alecs\\Anaconda3\\envs\\CChirita\\lib\\site-packages\\keras\\optimizers.py:790: The name tf.train.Optimizer is deprecated. Please use tf.compat.v1.train.Optimizer instead.\n",
      "\n",
      "W0917 00:01:31.095693 15264 deprecation_wrapper.py:119] From C:\\Users\\Alecs\\Anaconda3\\envs\\CChirita\\lib\\site-packages\\keras\\backend\\tensorflow_backend.py:986: The name tf.assign_add is deprecated. Please use tf.compat.v1.assign_add instead.\n",
      "\n"
     ]
    },
    {
     "name": "stdout",
     "output_type": "stream",
     "text": [
      "Train on 637 samples, validate on 137 samples\n",
      "Epoch 1/100\n",
      "637/637 [==============================] - 6s 9ms/step - loss: 3.0211 - acc: 0.0016 - val_loss: 2.7188 - val_acc: 0.0000e+00\n",
      "Epoch 2/100\n",
      "637/637 [==============================] - 0s 254us/step - loss: 2.4786 - acc: 0.0016 - val_loss: 2.2197 - val_acc: 0.0000e+00\n",
      "Epoch 3/100\n",
      "637/637 [==============================] - 0s 281us/step - loss: 2.0189 - acc: 0.0016 - val_loss: 1.8048 - val_acc: 0.0000e+00\n",
      "Epoch 4/100\n",
      "637/637 [==============================] - 0s 276us/step - loss: 1.6397 - acc: 0.0016 - val_loss: 1.4637 - val_acc: 0.0000e+00\n",
      "Epoch 5/100\n",
      "637/637 [==============================] - 0s 297us/step - loss: 1.3282 - acc: 0.0016 - val_loss: 1.1836 - val_acc: 0.0000e+00\n",
      "Epoch 6/100\n",
      "637/637 [==============================] - 0s 279us/step - loss: 1.0736 - acc: 0.0016 - val_loss: 0.9551 - val_acc: 0.0000e+00\n",
      "Epoch 7/100\n",
      "637/637 [==============================] - 0s 278us/step - loss: 0.8656 - acc: 0.0016 - val_loss: 0.7688 - val_acc: 0.0000e+00\n",
      "Epoch 8/100\n",
      "637/637 [==============================] - 0s 276us/step - loss: 0.6966 - acc: 0.0016 - val_loss: 0.6175 - val_acc: 0.0000e+00\n",
      "Epoch 9/100\n",
      "637/637 [==============================] - 0s 293us/step - loss: 0.5592 - acc: 0.0016 - val_loss: 0.4951 - val_acc: 0.0000e+00\n",
      "Epoch 10/100\n",
      "637/637 [==============================] - 0s 294us/step - loss: 0.4483 - acc: 0.0016 - val_loss: 0.3967 - val_acc: 0.0000e+00\n",
      "Epoch 11/100\n",
      "637/637 [==============================] - 0s 287us/step - loss: 0.3597 - acc: 0.0016 - val_loss: 0.3180 - val_acc: 0.0000e+00\n",
      "Epoch 12/100\n",
      "637/637 [==============================] - 0s 195us/step - loss: 0.2890 - acc: 0.0016 - val_loss: 0.2554 - val_acc: 0.0000e+00\n",
      "Epoch 13/100\n",
      "637/637 [==============================] - 0s 229us/step - loss: 0.2329 - acc: 0.0016 - val_loss: 0.2060 - val_acc: 0.0000e+00\n",
      "Epoch 14/100\n",
      "637/637 [==============================] - 0s 248us/step - loss: 0.1887 - acc: 0.0016 - val_loss: 0.1671 - val_acc: 0.0000e+00\n",
      "Epoch 15/100\n",
      "637/637 [==============================] - 0s 301us/step - loss: 0.1539 - acc: 0.0016 - val_loss: 0.1368 - val_acc: 0.0000e+00\n",
      "Epoch 16/100\n",
      "637/637 [==============================] - 0s 287us/step - loss: 0.1269 - acc: 0.0016 - val_loss: 0.1133 - val_acc: 0.0000e+00\n",
      "Epoch 17/100\n",
      "637/637 [==============================] - 0s 270us/step - loss: 0.1060 - acc: 0.0016 - val_loss: 0.0952 - val_acc: 0.0000e+00\n",
      "Epoch 18/100\n",
      "637/637 [==============================] - 0s 281us/step - loss: 0.0902 - acc: 0.0016 - val_loss: 0.0813 - val_acc: 0.0000e+00\n",
      "Epoch 19/100\n",
      "637/637 [==============================] - 0s 285us/step - loss: 0.0776 - acc: 0.0016 - val_loss: 0.0708 - val_acc: 0.0000e+00\n",
      "Epoch 20/100\n",
      "637/637 [==============================] - 0s 270us/step - loss: 0.0686 - acc: 0.0016 - val_loss: 0.0628 - val_acc: 0.0000e+00\n",
      "Epoch 21/100\n",
      "637/637 [==============================] - 0s 279us/step - loss: 0.0615 - acc: 0.0016 - val_loss: 0.0568 - val_acc: 0.0000e+00\n",
      "Epoch 22/100\n",
      "637/637 [==============================] - 0s 284us/step - loss: 0.0564 - acc: 0.0016 - val_loss: 0.0524 - val_acc: 0.0000e+00\n",
      "Epoch 23/100\n",
      "637/637 [==============================] - 0s 275us/step - loss: 0.0524 - acc: 0.0016 - val_loss: 0.0491 - val_acc: 0.0000e+00\n",
      "Epoch 24/100\n",
      "637/637 [==============================] - 0s 298us/step - loss: 0.0497 - acc: 0.0016 - val_loss: 0.0467 - val_acc: 0.0000e+00\n",
      "Epoch 25/100\n",
      "637/637 [==============================] - 0s 286us/step - loss: 0.0475 - acc: 0.0016 - val_loss: 0.0449 - val_acc: 0.0000e+00\n",
      "Epoch 26/100\n",
      "637/637 [==============================] - 0s 243us/step - loss: 0.0460 - acc: 0.0016 - val_loss: 0.0436 - val_acc: 0.0000e+00\n",
      "Epoch 27/100\n",
      "637/637 [==============================] - 0s 240us/step - loss: 0.0449 - acc: 0.0016 - val_loss: 0.0427 - val_acc: 0.0000e+00\n",
      "Epoch 28/100\n",
      "637/637 [==============================] - 0s 265us/step - loss: 0.0441 - acc: 0.0016 - val_loss: 0.0420 - val_acc: 0.0000e+00\n",
      "Epoch 29/100\n",
      "637/637 [==============================] - 0s 270us/step - loss: 0.0435 - acc: 0.0016 - val_loss: 0.0415 - val_acc: 0.0000e+00\n",
      "Epoch 30/100\n",
      "637/637 [==============================] - 0s 259us/step - loss: 0.0430 - acc: 0.0016 - val_loss: 0.0412 - val_acc: 0.0000e+00\n",
      "Epoch 31/100\n",
      "637/637 [==============================] - ETA: 0s - loss: 0.0397 - acc: 0.0000e+0 - 0s 262us/step - loss: 0.0427 - acc: 0.0016 - val_loss: 0.0409 - val_acc: 0.0000e+00\n",
      "Epoch 32/100\n",
      "637/637 [==============================] - 0s 303us/step - loss: 0.0425 - acc: 0.0016 - val_loss: 0.0407 - val_acc: 0.0000e+00\n",
      "Epoch 33/100\n",
      "637/637 [==============================] - 0s 321us/step - loss: 0.0423 - acc: 0.0016 - val_loss: 0.0406 - val_acc: 0.0000e+00\n",
      "Epoch 34/100\n",
      "637/637 [==============================] - 0s 239us/step - loss: 0.0422 - acc: 0.0016 - val_loss: 0.0405 - val_acc: 0.0000e+00\n",
      "Epoch 35/100\n",
      "637/637 [==============================] - 0s 292us/step - loss: 0.0422 - acc: 0.0016 - val_loss: 0.0404 - val_acc: 0.0000e+00\n",
      "Epoch 36/100\n",
      "637/637 [==============================] - 0s 264us/step - loss: 0.0420 - acc: 0.0016 - val_loss: 0.0404 - val_acc: 0.0000e+00\n",
      "Epoch 37/100\n",
      "637/637 [==============================] - 0s 256us/step - loss: 0.0420 - acc: 0.0016 - val_loss: 0.0403 - val_acc: 0.0000e+00\n",
      "Epoch 38/100\n",
      "637/637 [==============================] - 0s 268us/step - loss: 0.0419 - acc: 0.0016 - val_loss: 0.0403 - val_acc: 0.0000e+00\n",
      "Epoch 39/100\n",
      "637/637 [==============================] - 0s 224us/step - loss: 0.0420 - acc: 0.0016 - val_loss: 0.0403 - val_acc: 0.0000e+00\n",
      "Epoch 40/100\n",
      "637/637 [==============================] - 0s 217us/step - loss: 0.0419 - acc: 0.0016 - val_loss: 0.0403 - val_acc: 0.0000e+00\n",
      "Epoch 41/100\n",
      "637/637 [==============================] - 0s 265us/step - loss: 0.0419 - acc: 0.0016 - val_loss: 0.0403 - val_acc: 0.0000e+00\n",
      "Epoch 42/100\n",
      "637/637 [==============================] - 0s 265us/step - loss: 0.0419 - acc: 0.0016 - val_loss: 0.0402 - val_acc: 0.0000e+00\n",
      "Epoch 43/100\n",
      "637/637 [==============================] - 0s 272us/step - loss: 0.0418 - acc: 0.0016 - val_loss: 0.0402 - val_acc: 0.0000e+00\n",
      "Epoch 44/100\n",
      "637/637 [==============================] - 0s 221us/step - loss: 0.0419 - acc: 0.0016 - val_loss: 0.0403 - val_acc: 0.0000e+00\n",
      "Epoch 45/100\n",
      "637/637 [==============================] - 0s 220us/step - loss: 0.0418 - acc: 0.0016 - val_loss: 0.0403 - val_acc: 0.0000e+00\n",
      "Epoch 46/100\n",
      "637/637 [==============================] - 0s 276us/step - loss: 0.0418 - acc: 0.0016 - val_loss: 0.0402 - val_acc: 0.0000e+00\n",
      "Epoch 47/100\n",
      "637/637 [==============================] - 0s 237us/step - loss: 0.0418 - acc: 0.0016 - val_loss: 0.0402 - val_acc: 0.0000e+00\n",
      "Epoch 48/100\n",
      "637/637 [==============================] - 0s 309us/step - loss: 0.0418 - acc: 0.0016 - val_loss: 0.0402 - val_acc: 0.0000e+00\n",
      "Epoch 49/100\n",
      "637/637 [==============================] - 0s 206us/step - loss: 0.0418 - acc: 0.0016 - val_loss: 0.0402 - val_acc: 0.0000e+00\n",
      "Epoch 50/100\n",
      "637/637 [==============================] - 0s 204us/step - loss: 0.0418 - acc: 0.0016 - val_loss: 0.0403 - val_acc: 0.0000e+00\n",
      "Epoch 51/100\n",
      "637/637 [==============================] - 0s 188us/step - loss: 0.0418 - acc: 0.0016 - val_loss: 0.0402 - val_acc: 0.0000e+00\n",
      "Epoch 52/100\n",
      "637/637 [==============================] - 0s 192us/step - loss: 0.0418 - acc: 0.0016 - val_loss: 0.0402 - val_acc: 0.0000e+00\n",
      "Epoch 53/100\n",
      "637/637 [==============================] - 0s 213us/step - loss: 0.0418 - acc: 0.0016 - val_loss: 0.0402 - val_acc: 0.0000e+00\n",
      "Epoch 54/100\n",
      "637/637 [==============================] - 0s 225us/step - loss: 0.0418 - acc: 0.0016 - val_loss: 0.0402 - val_acc: 0.0000e+00\n",
      "Epoch 55/100\n",
      "637/637 [==============================] - 0s 265us/step - loss: 0.0417 - acc: 0.0016 - val_loss: 0.0402 - val_acc: 0.0000e+00\n",
      "Epoch 56/100\n",
      "637/637 [==============================] - 0s 298us/step - loss: 0.0418 - acc: 0.0016 - val_loss: 0.0402 - val_acc: 0.0000e+00\n",
      "Epoch 57/100\n",
      "637/637 [==============================] - 0s 248us/step - loss: 0.0417 - acc: 0.0016 - val_loss: 0.0402 - val_acc: 0.0000e+00\n",
      "Epoch 58/100\n",
      "637/637 [==============================] - 0s 248us/step - loss: 0.0418 - acc: 0.0016 - val_loss: 0.0402 - val_acc: 0.0000e+00\n"
     ]
    },
    {
     "name": "stdout",
     "output_type": "stream",
     "text": [
      "Epoch 59/100\n",
      "637/637 [==============================] - 0s 270us/step - loss: 0.0417 - acc: 0.0016 - val_loss: 0.0402 - val_acc: 0.0000e+00\n",
      "Epoch 60/100\n",
      "637/637 [==============================] - 0s 272us/step - loss: 0.0417 - acc: 0.0016 - val_loss: 0.0402 - val_acc: 0.0000e+00\n",
      "Epoch 61/100\n",
      "637/637 [==============================] - 0s 257us/step - loss: 0.0417 - acc: 0.0016 - val_loss: 0.0402 - val_acc: 0.0000e+00\n",
      "Epoch 62/100\n",
      "637/637 [==============================] - 0s 262us/step - loss: 0.0418 - acc: 0.0016 - val_loss: 0.0403 - val_acc: 0.0000e+00\n",
      "Epoch 63/100\n",
      "637/637 [==============================] - 0s 240us/step - loss: 0.0417 - acc: 0.0016 - val_loss: 0.0402 - val_acc: 0.0000e+00\n",
      "Epoch 64/100\n",
      "637/637 [==============================] - 0s 290us/step - loss: 0.0417 - acc: 0.0016 - val_loss: 0.0402 - val_acc: 0.0000e+00\n",
      "Epoch 65/100\n",
      "637/637 [==============================] - 0s 268us/step - loss: 0.0417 - acc: 0.0016 - val_loss: 0.0402 - val_acc: 0.0000e+00\n",
      "Epoch 66/100\n",
      "637/637 [==============================] - 0s 268us/step - loss: 0.0417 - acc: 0.0016 - val_loss: 0.0402 - val_acc: 0.0000e+00\n",
      "Epoch 67/100\n",
      "637/637 [==============================] - 0s 248us/step - loss: 0.0417 - acc: 0.0016 - val_loss: 0.0402 - val_acc: 0.0000e+00\n",
      "Epoch 68/100\n",
      "637/637 [==============================] - 0s 248us/step - loss: 0.0417 - acc: 0.0016 - val_loss: 0.0402 - val_acc: 0.0000e+00\n",
      "Epoch 69/100\n",
      "637/637 [==============================] - 0s 295us/step - loss: 0.0418 - acc: 0.0016 - val_loss: 0.0403 - val_acc: 0.0000e+00\n",
      "Epoch 70/100\n",
      "637/637 [==============================] - 0s 266us/step - loss: 0.0417 - acc: 0.0016 - val_loss: 0.0402 - val_acc: 0.0000e+00\n",
      "Epoch 71/100\n",
      "637/637 [==============================] - 0s 257us/step - loss: 0.0418 - acc: 0.0016 - val_loss: 0.0402 - val_acc: 0.0000e+00\n",
      "Epoch 72/100\n",
      "637/637 [==============================] - 0s 244us/step - loss: 0.0417 - acc: 0.0016 - val_loss: 0.0402 - val_acc: 0.0000e+00\n",
      "Epoch 73/100\n",
      "637/637 [==============================] - 0s 295us/step - loss: 0.0418 - acc: 0.0016 - val_loss: 0.0402 - val_acc: 0.0000e+00\n",
      "Epoch 74/100\n",
      "637/637 [==============================] - 0s 277us/step - loss: 0.0417 - acc: 0.0016 - val_loss: 0.0402 - val_acc: 0.0000e+00\n",
      "Epoch 75/100\n",
      "637/637 [==============================] - 0s 267us/step - loss: 0.0417 - acc: 0.0016 - val_loss: 0.0402 - val_acc: 0.0000e+00\n",
      "Epoch 76/100\n",
      "637/637 [==============================] - 0s 264us/step - loss: 0.0417 - acc: 0.0016 - val_loss: 0.0402 - val_acc: 0.0000e+00\n",
      "Epoch 77/100\n",
      "637/637 [==============================] - 0s 250us/step - loss: 0.0418 - acc: 0.0016 - val_loss: 0.0402 - val_acc: 0.0000e+00\n",
      "Epoch 78/100\n",
      "637/637 [==============================] - 0s 248us/step - loss: 0.0417 - acc: 0.0016 - val_loss: 0.0402 - val_acc: 0.0000e+00\n",
      "Epoch 79/100\n",
      "637/637 [==============================] - 0s 297us/step - loss: 0.0417 - acc: 0.0016 - val_loss: 0.0402 - val_acc: 0.0000e+00\n",
      "Epoch 80/100\n",
      "637/637 [==============================] - 0s 279us/step - loss: 0.0417 - acc: 0.0016 - val_loss: 0.0402 - val_acc: 0.0000e+00\n",
      "Epoch 81/100\n",
      "637/637 [==============================] - 0s 284us/step - loss: 0.0417 - acc: 0.0016 - val_loss: 0.0402 - val_acc: 0.0000e+00\n",
      "Epoch 82/100\n",
      "637/637 [==============================] - 0s 226us/step - loss: 0.0417 - acc: 0.0016 - val_loss: 0.0403 - val_acc: 0.0000e+00\n",
      "Epoch 83/100\n",
      "637/637 [==============================] - 0s 305us/step - loss: 0.0417 - acc: 0.0016 - val_loss: 0.0403 - val_acc: 0.0000e+00\n",
      "Epoch 84/100\n",
      "637/637 [==============================] - 0s 285us/step - loss: 0.0418 - acc: 0.0016 - val_loss: 0.0402 - val_acc: 0.0000e+00\n",
      "Epoch 85/100\n",
      "637/637 [==============================] - 0s 214us/step - loss: 0.0417 - acc: 0.0016 - val_loss: 0.0402 - val_acc: 0.0000e+00\n",
      "Epoch 86/100\n",
      "637/637 [==============================] - 0s 232us/step - loss: 0.0417 - acc: 0.0016 - val_loss: 0.0403 - val_acc: 0.0000e+00\n",
      "Epoch 87/100\n",
      "637/637 [==============================] - 0s 212us/step - loss: 0.0417 - acc: 0.0016 - val_loss: 0.0403 - val_acc: 0.0000e+00\n",
      "Epoch 88/100\n",
      "637/637 [==============================] - 0s 239us/step - loss: 0.0417 - acc: 0.0016 - val_loss: 0.0402 - val_acc: 0.0000e+00\n",
      "Epoch 89/100\n",
      "637/637 [==============================] - 0s 217us/step - loss: 0.0417 - acc: 0.0016 - val_loss: 0.0402 - val_acc: 0.0000e+00\n",
      "Epoch 90/100\n",
      "637/637 [==============================] - 0s 217us/step - loss: 0.0418 - acc: 0.0016 - val_loss: 0.0403 - val_acc: 0.0000e+00\n",
      "Epoch 91/100\n",
      "637/637 [==============================] - 0s 274us/step - loss: 0.0418 - acc: 0.0016 - val_loss: 0.0402 - val_acc: 0.0000e+00\n",
      "Epoch 92/100\n",
      "637/637 [==============================] - 0s 287us/step - loss: 0.0417 - acc: 0.0016 - val_loss: 0.0402 - val_acc: 0.0000e+00\n",
      "Epoch 93/100\n",
      "637/637 [==============================] - 0s 237us/step - loss: 0.0417 - acc: 0.0016 - val_loss: 0.0402 - val_acc: 0.0000e+00\n",
      "Epoch 94/100\n",
      "637/637 [==============================] - ETA: 0s - loss: 0.0400 - acc: 0.0000e+0 - 0s 284us/step - loss: 0.0417 - acc: 0.0016 - val_loss: 0.0402 - val_acc: 0.0000e+00\n",
      "Epoch 95/100\n",
      "637/637 [==============================] - 0s 259us/step - loss: 0.0417 - acc: 0.0016 - val_loss: 0.0403 - val_acc: 0.0000e+00\n",
      "Epoch 96/100\n",
      "637/637 [==============================] - 0s 200us/step - loss: 0.0417 - acc: 0.0016 - val_loss: 0.0402 - val_acc: 0.0000e+00\n",
      "Epoch 97/100\n",
      "637/637 [==============================] - 0s 187us/step - loss: 0.0417 - acc: 0.0016 - val_loss: 0.0403 - val_acc: 0.0000e+00\n",
      "Epoch 98/100\n",
      "637/637 [==============================] - 0s 270us/step - loss: 0.0417 - acc: 0.0016 - val_loss: 0.0402 - val_acc: 0.0000e+00\n",
      "Epoch 99/100\n",
      "637/637 [==============================] - 0s 308us/step - loss: 0.0417 - acc: 0.0016 - val_loss: 0.0402 - val_acc: 0.0000e+00\n",
      "Epoch 100/100\n",
      "637/637 [==============================] - 0s 292us/step - loss: 0.0417 - acc: 0.0016 - val_loss: 0.0402 - val_acc: 0.0000e+00\n"
     ]
    }
   ],
   "source": [
    "from keras.models import Sequential\n",
    "from keras.layers import Dense\n",
    "from keras.optimizers import Adam\n",
    "from keras.layers import Dropout\n",
    "from keras import regularizers\n",
    "model = Sequential([\n",
    "    Dense(32, activation='tanh', kernel_initializer='uniform',kernel_regularizer=regularizers.l2(0.01), input_shape=(23,)),\n",
    "    Dropout(0.2),\n",
    "    Dense(32, activation='tanh', kernel_regularizer=regularizers.l2(0.01)),\n",
    "    Dropout(0.2),\n",
    "    Dense(32, activation='tanh', kernel_regularizer=regularizers.l2(0.01)),\n",
    "    Dropout(0.2),\n",
    "    Dense(32, activation='tanh', kernel_regularizer=regularizers.l2(0.01)),\n",
    "    Dropout(0.2),\n",
    "    Dense(32, activation='tanh', kernel_regularizer=regularizers.l2(0.01)),\n",
    "    Dropout(0.2),\n",
    "    Dense(32, activation='tanh', kernel_regularizer=regularizers.l2(0.01)),\n",
    "    Dropout(0.2),\n",
    "    Dense(32, activation='tanh', kernel_regularizer=regularizers.l2(0.01)),\n",
    "    Dropout(0.2),\n",
    "    Dense(32, activation='tanh', kernel_regularizer=regularizers.l2(0.01)),\n",
    "    Dropout(0.2),\n",
    "    Dense(32, activation='tanh', kernel_regularizer=regularizers.l2(0.01)),\n",
    "    Dropout(0.2),\n",
    "    Dense(32, activation='tanh', kernel_regularizer=regularizers.l2(0.01)),\n",
    "    Dropout(0.2),\n",
    "    Dense(32, activation='tanh', kernel_regularizer=regularizers.l2(0.01)),\n",
    "    Dropout(0.2),\n",
    "    Dense(1, activation='sigmoid', kernel_regularizer=regularizers.l2(0.01))\n",
    "])\n",
    "opt = Adam(lr=1e-3, decay=1e-3 / 200)\n",
    "\n",
    "\n",
    "#model.compile(optimizer='adam', loss='binary_crossentropy', metrics=['accuracy'])\n",
    "#model.compile(optimizer='adam', loss='hinge')\n",
    "#model.compile(optimizer='rmsprop', loss='hinge')\n",
    "\n",
    "#model.compile(optimizer='Adadelta', loss='binary_crossentropy',metrics=['accuracy'])\n",
    "#model.compile(optimizer='sgd', loss='hinge', metrics=['accuracy'])\n",
    "model.compile(optimizer='adam', loss='mse', metrics=['accuracy'])\n",
    "#, metrics=['accuracy'])\n",
    "#model.compile(optimizer='adam', loss='mean_squared_logarithmic_error')\n",
    "# model.compile(optimizer='rmsprop', loss=\"mean_absolute_percentage_error\")\n",
    "hist = model.fit(X_train, Y_train,\n",
    "          batch_size=32, epochs=100,\n",
    "          validation_data=(X_val, Y_val))"
   ]
  },
  {
   "cell_type": "code",
   "execution_count": 7,
   "metadata": {},
   "outputs": [
    {
     "data": {
      "image/png": "[encoded data removed]",
      "text/plain": [
       "<Figure size 432x288 with 1 Axes>"
      ]
     },
     "metadata": {
      "needs_background": "light"
     },
     "output_type": "display_data"
    }
   ],
   "source": [
    "import matplotlib.pyplot as plt\n",
    "plt.plot(hist.history['loss'])\n",
    "plt.plot(hist.history['val_loss'])\n",
    "plt.title('Model loss')\n",
    "plt.ylabel('Loss')\n",
    "plt.xlabel('Epoch')\n",
    "plt.legend(['Train', 'Val'], loc='upper right')\n",
    "plt.show()"
   ]
  },
  {
   "cell_type": "code",
   "execution_count": 8,
   "metadata": {},
   "outputs": [
    {
     "name": "stdout",
     "output_type": "stream",
     "text": [
      "[[0.5702995]] [[13.84]] [[9.835691]]\n",
      "[[0.5702995]] [[4.]] [[9.835691]]\n",
      "[[0.5702995]] [[9.69]] [[9.835691]]\n",
      "[[0.5702995]] [[4.]] [[9.835691]]\n",
      "[[0.5702995]] [[11.77]] [[9.835691]]\n",
      "[[0.5702995]] [[11.69]] [[9.835691]]\n",
      "[[0.5702995]] [[15.]] [[9.835691]]\n",
      "[[0.5702995]] [[2.]] [[9.835691]]\n",
      "[[0.5702995]] [[12.01]] [[9.835691]]\n",
      "[[0.5702995]] [[11.64]] [[9.835691]]\n",
      "[[0.5702995]] [[7.89]] [[9.835691]]\n",
      "[[0.5702995]] [[14.9]] [[9.835691]]\n",
      "[[0.5702995]] [[9.69]] [[9.835691]]\n",
      "[[0.5702995]] [[11.]] [[9.835691]]\n",
      "[[0.5702995]] [[6.]] [[9.835691]]\n",
      "[[0.5702995]] [[8.]] [[9.835691]]\n",
      "[[0.5702995]] [[15.17]] [[9.835691]]\n",
      "[[0.5702995]] [[7.57]] [[9.835691]]\n",
      "[[0.5702995]] [[13.16]] [[9.835691]]\n",
      "[[0.5702995]] [[15.6]] [[9.835691]]\n",
      "[[0.5702995]] [[6.13]] [[9.835691]]\n",
      "[[0.5702995]] [[11.]] [[9.835691]]\n",
      "[[0.5702995]] [[9.]] [[9.835691]]\n",
      "[[0.5702995]] [[13.31]] [[9.835691]]\n",
      "[[0.5702995]] [[11.6]] [[9.835691]]\n",
      "[[0.5702995]] [[7.43]] [[9.835691]]\n",
      "[[0.5702995]] [[13.46]] [[9.835691]]\n",
      "[[0.5702995]] [[13.27]] [[9.835691]]\n",
      "[[0.5702995]] [[7.26]] [[9.835691]]\n",
      "[[0.5702995]] [[8.2]] [[9.835691]]\n",
      "[[0.5702995]] [[5.66]] [[9.835691]]\n",
      "[[0.5702995]] [[14.34]] [[9.835691]]\n",
      "[[0.5702995]] [[12.12]] [[9.835691]]\n",
      "[[0.5702995]] [[13.]] [[9.835691]]\n",
      "[[0.5702995]] [[8.26]] [[9.835691]]\n",
      "[[0.5702995]] [[9.98]] [[9.835691]]\n",
      "[[0.5702995]] [[10.43]] [[9.835691]]\n",
      "[[0.5702995]] [[13.]] [[9.835691]]\n",
      "[[0.5702995]] [[12.]] [[9.835691]]\n",
      "[[0.5702995]] [[6.99]] [[9.835691]]\n",
      "[[0.5702995]] [[12.31]] [[9.835691]]\n",
      "[[0.5702995]] [[12.]] [[9.835691]]\n",
      "[[0.5702995]] [[4.]] [[9.835691]]\n",
      "[[0.5702995]] [[13.]] [[9.835691]]\n",
      "[[0.5702995]] [[12.]] [[9.835691]]\n",
      "[[0.5702995]] [[13.85]] [[9.835691]]\n",
      "[[0.5702995]] [[15.]] [[9.835691]]\n",
      "[[0.5702995]] [[15.92]] [[9.835691]]\n",
      "[[0.5702995]] [[11.58]] [[9.835691]]\n",
      "[[0.5702995]] [[9.1]] [[9.835691]]\n",
      "[[0.5702995]] [[11.02]] [[9.835691]]\n",
      "[[0.5702995]] [[11.]] [[9.835691]]\n",
      "[[0.5702995]] [[6.13]] [[9.835691]]\n",
      "[[0.5702995]] [[8.]] [[9.835691]]\n",
      "[[0.5702995]] [[2.87]] [[9.835691]]\n",
      "[[0.5702995]] [[5.24]] [[9.835691]]\n",
      "[[0.5702995]] [[10.86]] [[9.835691]]\n",
      "[[0.5702995]] [[13.91]] [[9.835691]]\n",
      "[[0.5702995]] [[7.]] [[9.835691]]\n",
      "[[0.5702995]] [[2.37]] [[9.835691]]\n",
      "[[0.5702995]] [[10.]] [[9.835691]]\n",
      "[[0.5702995]] [[9.]] [[9.835691]]\n",
      "[[0.5702995]] [[2.]] [[9.835691]]\n",
      "[[0.5702995]] [[6.43]] [[9.835691]]\n",
      "[[0.5702995]] [[10.]] [[9.835691]]\n",
      "[[0.5702995]] [[6.22]] [[9.835691]]\n",
      "[[0.5702995]] [[9.86]] [[9.835691]]\n",
      "[[0.5702995]] [[10.43]] [[9.835691]]\n",
      "[[0.5702995]] [[13.84]] [[9.835691]]\n",
      "[[0.5702995]] [[9.18]] [[9.835691]]\n",
      "[[0.5702995]] [[14.]] [[9.835691]]\n",
      "[[0.5702995]] [[14.58]] [[9.835691]]\n",
      "[[0.5702995]] [[13.71]] [[9.835691]]\n",
      "[[0.5702995]] [[13.27]] [[9.835691]]\n",
      "[[0.5702995]] [[3.96]] [[9.835691]]\n",
      "[[0.5702995]] [[9.79]] [[9.835691]]\n",
      "[[0.5702995]] [[14.27]] [[9.835691]]\n",
      "[[0.5702995]] [[16.83]] [[9.835691]]\n",
      "[[0.5702995]] [[10.62]] [[9.835691]]\n",
      "[[0.5702995]] [[7.27]] [[9.835691]]\n",
      "[[0.5702995]] [[8.]] [[9.835691]]\n",
      "[[0.5702995]] [[13.]] [[9.835691]]\n",
      "[[0.5702995]] [[8.88]] [[9.835691]]\n",
      "[[0.5702995]] [[13.07]] [[9.835691]]\n",
      "[[0.5702995]] [[5.01]] [[9.835691]]\n",
      "[[0.5702995]] [[2.59]] [[9.835691]]\n",
      "[[0.5702995]] [[13.]] [[9.835691]]\n",
      "[[0.5702995]] [[6.64]] [[9.835691]]\n",
      "[[0.5702995]] [[9.03]] [[9.835691]]\n",
      "[[0.5702995]] [[6.]] [[9.835691]]\n",
      "[[0.5702995]] [[9.83]] [[9.835691]]\n",
      "[[0.5702995]] [[7.]] [[9.835691]]\n",
      "[[0.5702995]] [[9.]] [[9.835691]]\n",
      "[[0.5702995]] [[7.49]] [[9.835691]]\n",
      "[[0.5702995]] [[5.66]] [[9.835691]]\n",
      "[[0.5702995]] [[11.]] [[9.835691]]\n",
      "[[0.5702995]] [[9.57]] [[9.835691]]\n",
      "[[0.5702995]] [[12.76]] [[9.835691]]\n",
      "[[0.5702995]] [[14.41]] [[9.835691]]\n",
      "[[0.5702995]] [[15.46]] [[9.835691]]\n"
     ]
    }
   ],
   "source": [
    "import numpy as np\n",
    "for i in range(100):\n",
    "#    pass\n",
    "#    p = model.predict_on_batch(X_test[i].reshape(1, 23))\n",
    "    p = model.predict(X_test[i].reshape(1,23))\n",
    "    print(p,Y_scaler.inverse_transform(np.array(Y_test[i]).reshape(-1,1)), Y_scaler.inverse_transform(p))\n"
   ]
  },
  {
   "cell_type": "code",
   "execution_count": 9,
   "metadata": {},
   "outputs": [
    {
     "name": "stdout",
     "output_type": "stream",
     "text": [
      "637/637 [==============================] - 0s 71us/step\n"
     ]
    },
    {
     "data": {
      "text/plain": [
       "[0.04172180291247705, 0.0015698587127158557]"
      ]
     },
     "execution_count": 9,
     "metadata": {},
     "output_type": "execute_result"
    }
   ],
   "source": [
    "model.evaluate(X_train, Y_train)"
   ]
  },
  {
   "cell_type": "code",
   "execution_count": 10,
   "metadata": {},
   "outputs": [
    {
     "data": {
      "text/plain": [
       "(array([[0.5702995]], dtype=float32),\n",
       " array([0.33368421]),\n",
       " array([[9.835691]], dtype=float32))"
      ]
     },
     "execution_count": 10,
     "metadata": {},
     "output_type": "execute_result"
    }
   ],
   "source": [
    "model.predict(X_train[0].reshape(1, 23)),Y_train[0], Y_scaler.inverse_transform(model.predict(X_train[0].reshape(1, 23)))"
   ]
  },
  {
   "cell_type": "code",
   "execution_count": 12,
   "metadata": {},
   "outputs": [
    {
     "name": "stdout",
     "output_type": "stream",
     "text": [
      "137/137 [==============================] - 0s 84us/step\n"
     ]
    },
    {
     "data": {
      "text/plain": [
       "[0.040199259255271756, 0.0]"
      ]
     },
     "execution_count": 12,
     "metadata": {},
     "output_type": "execute_result"
    }
   ],
   "source": [
    "model.evaluate(X_val, Y_val)"
   ]
  },
  {
   "cell_type": "code",
   "execution_count": 13,
   "metadata": {},
   "outputs": [
    {
     "name": "stdout",
     "output_type": "stream",
     "text": [
      "_________________________________________________________________\n",
      "Layer (type)                 Output Shape              Param #   \n",
      "=================================================================\n",
      "dense_1 (Dense)              (None, 32)                768       \n",
      "_________________________________________________________________\n",
      "dropout_1 (Dropout)          (None, 32)                0         \n",
      "_________________________________________________________________\n",
      "dense_2 (Dense)              (None, 32)                1056      \n",
      "_________________________________________________________________\n",
      "dropout_2 (Dropout)          (None, 32)                0         \n",
      "_________________________________________________________________\n",
      "dense_3 (Dense)              (None, 32)                1056      \n",
      "_________________________________________________________________\n",
      "dropout_3 (Dropout)          (None, 32)                0         \n",
      "_________________________________________________________________\n",
      "dense_4 (Dense)              (None, 32)                1056      \n",
      "_________________________________________________________________\n",
      "dropout_4 (Dropout)          (None, 32)                0         \n",
      "_________________________________________________________________\n",
      "dense_5 (Dense)              (None, 32)                1056      \n",
      "_________________________________________________________________\n",
      "dropout_5 (Dropout)          (None, 32)                0         \n",
      "_________________________________________________________________\n",
      "dense_6 (Dense)              (None, 32)                1056      \n",
      "_________________________________________________________________\n",
      "dropout_6 (Dropout)          (None, 32)                0         \n",
      "_________________________________________________________________\n",
      "dense_7 (Dense)              (None, 32)                1056      \n",
      "_________________________________________________________________\n",
      "dropout_7 (Dropout)          (None, 32)                0         \n",
      "_________________________________________________________________\n",
      "dense_8 (Dense)              (None, 32)                1056      \n",
      "_________________________________________________________________\n",
      "dropout_8 (Dropout)          (None, 32)                0         \n",
      "_________________________________________________________________\n",
      "dense_9 (Dense)              (None, 32)                1056      \n",
      "_________________________________________________________________\n",
      "dropout_9 (Dropout)          (None, 32)                0         \n",
      "_________________________________________________________________\n",
      "dense_10 (Dense)             (None, 32)                1056      \n",
      "_________________________________________________________________\n",
      "dropout_10 (Dropout)         (None, 32)                0         \n",
      "_________________________________________________________________\n",
      "dense_11 (Dense)             (None, 32)                1056      \n",
      "_________________________________________________________________\n",
      "dropout_11 (Dropout)         (None, 32)                0         \n",
      "_________________________________________________________________\n",
      "dense_12 (Dense)             (None, 1)                 33        \n",
      "=================================================================\n",
      "Total params: 11,361\n",
      "Trainable params: 11,361\n",
      "Non-trainable params: 0\n",
      "_________________________________________________________________\n"
     ]
    }
   ],
   "source": [
    "model.summary()"
   ]
  }
 ],
 "metadata": {
  "kernelspec": {
   "display_name": "Python 3",
   "language": "python",
   "name": "python3"
  },
  "language_info": {
   "codemirror_mode": {
    "name": "ipython",
    "version": 3
   },
   "file_extension": ".py",
   "mimetype": "text/x-python",
   "name": "python",
   "nbconvert_exporter": "python",
   "pygments_lexer": "ipython3",
   "version": "3.7.4"
  }
 },
 "nbformat": 4,
 "nbformat_minor": 2
}
