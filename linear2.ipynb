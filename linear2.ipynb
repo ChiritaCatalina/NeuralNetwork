{
 "cells": [
  {
   "cell_type": "code",
   "execution_count": 1,
   "metadata": {},
   "outputs": [],
   "source": [
    "import pandas as pd\n",
    "import numpy as np\n",
    "df = pd.read_excel(r'Copy of Extraction PT4 14x59 din 2016 pana in prezent - analysis S1928 (003).xlsx', sheet_name='TL4 -40 Nm' )\n",
    "dataset = df.values\n"
   ]
  },
  {
   "cell_type": "code",
   "execution_count": 2,
   "metadata": {},
   "outputs": [
    {
     "name": "stdout",
     "output_type": "stream",
     "text": [
      "X:  (918, 19), Y: (918,)\n"
     ]
    },
    {
     "data": {
      "text/plain": [
       "((908, 8), (908, 1))"
      ]
     },
     "execution_count": 2,
     "metadata": {},
     "output_type": "execute_result"
    }
   ],
   "source": [
    "X = dataset[1:,23:42]\n",
    "Y = dataset[1:,14]\n",
    "X = X.astype('float')\n",
    "Y = Y.astype('float')\n",
    "print(\"X:  %s, Y: %s\" % (X.shape, Y.shape))\n",
    "d1 = pd.DataFrame(X)\n",
    "d2 = pd.DataFrame(Y)\n",
    "d1.drop([1,3,5,7,8,9,10,11,13,15,17], axis=1, inplace=True)\n",
    "d2.replace(0., np.nan, inplace=True)\n",
    "d2.replace(-1., np.nan, inplace=True)\n",
    "d1[7] = d2[0]\n",
    "d1.dropna(inplace=True)\n",
    "# d1.isnull().any() # Verifica daca avem vre-o valoare de tip NaN\n",
    "\n",
    "X = d1.values[0:,:-1]\n",
    "Y = d1.values[0:, -1:]\n",
    "X.shape, Y.shape\n"
   ]
  },
  {
   "cell_type": "code",
   "execution_count": 3,
   "metadata": {},
   "outputs": [
    {
     "data": {
      "text/plain": [
       "((908, 8), (908, 1))"
      ]
     },
     "execution_count": 3,
     "metadata": {},
     "output_type": "execute_result"
    }
   ],
   "source": [
    "from sklearn import preprocessing\n",
    "min_max_scaler = preprocessing.MinMaxScaler()\n",
    "X_scale = X \n",
    "#min_max_scaler.fit_transform(X)\n",
    "Y_scaler = preprocessing.MinMaxScaler()\n",
    "Y_scale = Y \n",
    "# Y_scaler.fit_transform(Y)\n",
    "\n",
    "X_scale.shape, Y_scale.shape"
   ]
  },
  {
   "cell_type": "code",
   "execution_count": 4,
   "metadata": {},
   "outputs": [
    {
     "data": {
      "text/plain": [
       "((726, 8), (726, 1), (182, 8), (182, 1))"
      ]
     },
     "execution_count": 4,
     "metadata": {},
     "output_type": "execute_result"
    }
   ],
   "source": [
    "from sklearn.model_selection import train_test_split\n",
    "X_train, X_test, Y_train, Y_test = train_test_split(X_scale, Y_scale, test_size=0.2, random_state=5)\n",
    "X_train.shape, Y_train.shape, X_test.shape, Y_test.shape\n"
   ]
  },
  {
   "cell_type": "code",
   "execution_count": 5,
   "metadata": {},
   "outputs": [
    {
     "name": "stdout",
     "output_type": "stream",
     "text": [
      "The model performance for training set\n",
      "--------------------------------------\n",
      "RMSE is 3.6113270336009156\n",
      "R2 score is 0.03839193423138265\n",
      "\n",
      "\n",
      "The model performance for testing set\n",
      "--------------------------------------\n",
      "RMSE is 3.622319663935266\n",
      "R2 score is 0.003410911334691402\n"
     ]
    }
   ],
   "source": [
    "from sklearn.linear_model import LinearRegression, OrthogonalMatchingPursuit, Lasso\n",
    "from sklearn.metrics import mean_squared_error, r2_score\n",
    "\n",
    "# lin_model = LinearRegression()\n",
    "#lin_model = OrthogonalMatchingPursuit()\n",
    "lin_model = Lasso(alpha=1)\n",
    "lin_model.fit(X_train, Y_train)\n",
    "\n",
    "y_train_predict = lin_model.predict(X_train)\n",
    "rmse = (np.sqrt(mean_squared_error(Y_train, y_train_predict)))\n",
    "r2 = r2_score(Y_train, y_train_predict)\n",
    "\n",
    "print(\"The model performance for training set\")\n",
    "print(\"--------------------------------------\")\n",
    "print('RMSE is {}'.format(rmse))\n",
    "print('R2 score is {}'.format(r2))\n",
    "print(\"\\n\")\n",
    "\n",
    "# model evaluation for testing set\n",
    "y_test_predict = lin_model.predict(X_test)\n",
    "rmse = (np.sqrt(mean_squared_error(Y_test, y_test_predict)))\n",
    "r2 = r2_score(Y_test, y_test_predict)\n",
    "\n",
    "print(\"The model performance for testing set\")\n",
    "print(\"--------------------------------------\")\n",
    "print('RMSE is {}'.format(rmse))\n",
    "print('R2 score is {}'.format(r2))"
   ]
  },
  {
   "cell_type": "code",
   "execution_count": 6,
   "metadata": {},
   "outputs": [
    {
     "ename": "TypeError",
     "evalue": "predict() got an unexpected keyword argument 'verbose'",
     "output_type": "error",
     "traceback": [
      "\u001b[1;31m---------------------------------------------------------------------------\u001b[0m",
      "\u001b[1;31mTypeError\u001b[0m                                 Traceback (most recent call last)",
      "\u001b[1;32m<ipython-input-6-c430f1491130>\u001b[0m in \u001b[0;36m<module>\u001b[1;34m()\u001b[0m\n\u001b[1;32m----> 1\u001b[1;33m \u001b[0mtrain_score\u001b[0m \u001b[1;33m=\u001b[0m \u001b[0mlin_model\u001b[0m\u001b[1;33m.\u001b[0m\u001b[0mpredict\u001b[0m\u001b[1;33m(\u001b[0m\u001b[0mX_train\u001b[0m\u001b[1;33m,\u001b[0m \u001b[0mY_train\u001b[0m\u001b[1;33m,\u001b[0m \u001b[0mverbose\u001b[0m\u001b[1;33m=\u001b[0m\u001b[1;36m0\u001b[0m\u001b[1;33m)\u001b[0m\u001b[1;33m\u001b[0m\u001b[1;33m\u001b[0m\u001b[0m\n\u001b[0m\u001b[0;32m      2\u001b[0m \u001b[0mvalid_score\u001b[0m \u001b[1;33m=\u001b[0m \u001b[0mlin_model\u001b[0m\u001b[1;33m.\u001b[0m\u001b[0mpredict\u001b[0m\u001b[1;33m(\u001b[0m\u001b[0mX_test\u001b[0m\u001b[1;33m,\u001b[0m \u001b[0mY_test\u001b[0m\u001b[1;33m,\u001b[0m \u001b[0mverbose\u001b[0m\u001b[1;33m=\u001b[0m\u001b[1;36m0\u001b[0m\u001b[1;33m)\u001b[0m\u001b[1;33m\u001b[0m\u001b[1;33m\u001b[0m\u001b[0m\n\u001b[0;32m      3\u001b[0m \u001b[1;33m\u001b[0m\u001b[0m\n\u001b[0;32m      4\u001b[0m \u001b[0mprint\u001b[0m\u001b[1;33m(\u001b[0m\u001b[1;34m'Train MAE: '\u001b[0m\u001b[1;33m,\u001b[0m \u001b[0mround\u001b[0m\u001b[1;33m(\u001b[0m\u001b[0mtrain_score\u001b[0m\u001b[1;33m[\u001b[0m\u001b[1;36m1\u001b[0m\u001b[1;33m]\u001b[0m\u001b[1;33m,\u001b[0m \u001b[1;36m4\u001b[0m\u001b[1;33m)\u001b[0m\u001b[1;33m,\u001b[0m \u001b[1;34m', Train Loss: '\u001b[0m\u001b[1;33m,\u001b[0m \u001b[0mround\u001b[0m\u001b[1;33m(\u001b[0m\u001b[0mtrain_score\u001b[0m\u001b[1;33m[\u001b[0m\u001b[1;36m0\u001b[0m\u001b[1;33m]\u001b[0m\u001b[1;33m,\u001b[0m \u001b[1;36m4\u001b[0m\u001b[1;33m)\u001b[0m\u001b[1;33m)\u001b[0m\u001b[1;33m\u001b[0m\u001b[1;33m\u001b[0m\u001b[0m\n\u001b[0;32m      5\u001b[0m \u001b[0mprint\u001b[0m\u001b[1;33m(\u001b[0m\u001b[1;34m'Val MAE: '\u001b[0m\u001b[1;33m,\u001b[0m \u001b[0mround\u001b[0m\u001b[1;33m(\u001b[0m\u001b[0mvalid_score\u001b[0m\u001b[1;33m[\u001b[0m\u001b[1;36m1\u001b[0m\u001b[1;33m]\u001b[0m\u001b[1;33m,\u001b[0m \u001b[1;36m4\u001b[0m\u001b[1;33m)\u001b[0m\u001b[1;33m,\u001b[0m \u001b[1;34m', Val Loss: '\u001b[0m\u001b[1;33m,\u001b[0m \u001b[0mround\u001b[0m\u001b[1;33m(\u001b[0m\u001b[0mvalid_score\u001b[0m\u001b[1;33m[\u001b[0m\u001b[1;36m0\u001b[0m\u001b[1;33m]\u001b[0m\u001b[1;33m,\u001b[0m \u001b[1;36m4\u001b[0m\u001b[1;33m)\u001b[0m\u001b[1;33m)\u001b[0m\u001b[1;33m\u001b[0m\u001b[1;33m\u001b[0m\u001b[0m\n",
      "\u001b[1;31mTypeError\u001b[0m: predict() got an unexpected keyword argument 'verbose'"
     ]
    }
   ],
   "source": [
    "train_score = lin_model.predict(X_train, Y_train, verbose=0)\n",
    "valid_score = lin_model.predict(X_test, Y_test, verbose=0)\n",
    "\n",
    "print('Train MAE: ', round(train_score[1], 4), ', Train Loss: ', round(train_score[0], 4)) \n",
    "print('Val MAE: ', round(valid_score[1], 4), ', Val Loss: ', round(valid_score[0], 4))"
   ]
  },
  {
   "cell_type": "code",
   "execution_count": null,
   "metadata": {},
   "outputs": [],
   "source": []
  },
  {
   "cell_type": "code",
   "execution_count": 7,
   "metadata": {},
   "outputs": [
    {
     "name": "stdout",
     "output_type": "stream",
     "text": [
      "[9.93390065] [10.27] [0.96727368]\n",
      "[9.56617612] [11.86] [0.80659158]\n",
      "[10.16968208] [16.78] [0.60605972]\n",
      "[10.37870706] [14.58] [0.71184548]\n",
      "[10.02650365] [7.67] [1.30723646]\n",
      "[9.66605964] [16.83] [0.57433509]\n",
      "[9.95212923] [13.] [0.7655484]\n",
      "[9.68307813] [14.] [0.69164844]\n",
      "[10.27029565] [4.] [2.56757391]\n",
      "[10.49875929] [5.39] [1.94782176]\n",
      "[9.22202056] [9.] [1.02466895]\n",
      "[10.47786052] [10.47] [1.00075077]\n",
      "[10.30675281] [12.68] [0.8128354]\n",
      "[9.13959829] [10.2] [0.89603905]\n",
      "[10.15387368] [5.58] [1.81969062]\n",
      "[11.1015352] [9.93] [1.11797938]\n",
      "[10.44067331] [8.] [1.30508416]\n",
      "[9.94872898] [14.35] [0.69329122]\n",
      "[9.86853415] [7.] [1.40979059]\n",
      "[9.18604344] [14.] [0.65614596]\n",
      "[10.13491505] [8.64] [1.17302258]\n",
      "[9.21616287] [11.] [0.83783299]\n",
      "[10.017533] [3.38] [2.96376716]\n",
      "[10.07876921] [15.17] [0.66438821]\n",
      "[10.17938278] [3.58] [2.84340301]\n",
      "[10.0017246] [8.93] [1.12001395]\n",
      "[10.3237713] [14.] [0.73741224]\n",
      "[9.55109777] [15.] [0.63673985]\n",
      "[10.09457761] [11.41] [0.8847132]\n",
      "[9.76012274] [13.] [0.75077867]\n",
      "[10.77560822] [11.32] [0.95190885]\n",
      "[10.43873317] [11.] [0.94897574]\n",
      "[10.41904449] [5.12] [2.03496963]\n",
      "[10.07876921] [3.66] [2.75376208]\n",
      "[10.40590628] [12.61] [0.82521065]\n",
      "[9.89913361] [8.54] [1.15914914]\n",
      "[10.1913109] [7.76] [1.31331326]\n",
      "[10.49802924] [13.7] [0.76627951]\n",
      "[9.76279293] [7.51] [1.29997243]\n",
      "[10.28706413] [8.1] [1.27000792]\n",
      "[10.08216945] [8.91] [1.13155662]\n",
      "[9.22202056] [11.] [0.83836551]\n",
      "[10.11935666] [14.27] [0.70913501]\n",
      "[9.64516087] [13.] [0.74193545]\n",
      "[9.91736219] [15.] [0.66115748]\n",
      "[9.85345579] [5.46] [1.80466223]\n",
      "[10.16895203] [4.19] [2.42695753]\n",
      "[10.38452747] [11.02] [0.94233462]\n",
      "[8.88683564] [4.] [2.22170891]\n",
      "[10.24478655] [13.] [0.7880605]\n",
      "[10.02020319] [14.] [0.7157288]\n",
      "[9.68622836] [6.] [1.61437139]\n",
      "[10.22582792] [5.29] [1.93304876]\n",
      "[9.66678969] [8.92] [1.08372082]\n",
      "[10.16968208] [11.52] [0.8827849]\n",
      "[9.66169933] [4.] [2.41542483]\n",
      "[10.09893793] [11.6] [0.8705981]\n",
      "[10.09966798] [17.83] [0.5664424]\n",
      "[9.57466673] [11.52] [0.83113426]\n",
      "[9.14691609] [12.] [0.76224301]\n",
      "[10.11935666] [10.3] [0.98246181]\n",
      "[10.00512484] [8.16] [1.22611824]\n",
      "[9.69936657] [8.26] [1.17425745]\n",
      "[10.3237713] [9.] [1.1470857]\n",
      "[10.19446113] [8.48] [1.20217702]\n",
      "[10.19494117] [10.] [1.01949412]\n",
      "[9.5255514] [7.] [1.36079306]\n",
      "[10.10621845] [4.75] [2.12762494]\n",
      "[9.53238915] [9.46] [1.00765213]\n",
      "[9.461645] [12.] [0.78847042]\n",
      "[10.02796375] [9.] [1.11421819]\n",
      "[10.17792268] [13.43] [0.75784979]\n",
      "[9.93584079] [15.] [0.66238939]\n",
      "[10.15072345] [1.59] [6.3841028]\n",
      "[10.20489188] [15.] [0.68032613]\n",
      "[9.37610978] [10.] [0.93761098]\n",
      "[9.76400302] [5.48] [1.78175238]\n",
      "[9.1670848] [1.] [9.1670848]\n",
      "[10.59330243] [4.66] [2.27324087]\n",
      "[10.32886167] [14.65] [0.70504175]\n",
      "[9.3180238] [11.] [0.84709307]\n",
      "[10.02650365] [7.22] [1.38871242]\n",
      "[9.95212923] [14.] [0.71086637]\n",
      "[10.20953948] [13.91] [0.73397121]\n",
      "[10.02383346] [5.66] [1.77099531]\n",
      "[10.43679304] [4.08] [2.55803751]\n",
      "[10.61760145] [9.] [1.17973349]\n",
      "[10.60523056] [10.35] [1.02465996]\n",
      "[9.42518784] [10.69] [0.88168268]\n",
      "[10.63461994] [15.] [0.70897466]\n",
      "[9.59095517] [8.52] [1.12569896]\n",
      "[10.17744264] [13.48] [0.75500316]\n",
      "[9.87168437] [14.07] [0.70161225]\n",
      "[9.53286919] [10.3] [0.92552128]\n",
      "[9.98616621] [15.33] [0.65141332]\n",
      "[9.47866349] [3.] [3.1595545]\n",
      "[10.19058085] [10.54] [0.96684828]\n",
      "[9.12795745] [11.] [0.82981431]\n",
      "[10.40396614] [10.86] [0.95800793]\n",
      "[9.2239607] [11.] [0.83854188]\n",
      "[9.1670848] [0.5664424]\n"
     ]
    }
   ],
   "source": [
    "emax = 1.\n",
    "emin = 1.\n",
    "for i in range(100):\n",
    "    p = lin_model.predict(X_train[i].reshape(1, 8))\n",
    "    pp = p #Y_scaler.inverse_transform(p)\n",
    "    py = Y_train[i] #Y_scaler.inverse_transform(Y_train[i].reshape(1,-1))\n",
    "    r = p/float(Y_train[i])\n",
    "    if r > emax:\n",
    "        emax = r\n",
    "    if r < emin:\n",
    "        emin = r\n",
    "    print(pp,py, r)\n",
    "\n",
    "print(emax, emin)"
   ]
  }
 ],
 "metadata": {
  "kernelspec": {
   "display_name": "Python 3",
   "language": "python",
   "name": "python3"
  },
  "language_info": {
   "codemirror_mode": {
    "name": "ipython",
    "version": 3
   },
   "file_extension": ".py",
   "mimetype": "text/x-python",
   "name": "python",
   "nbconvert_exporter": "python",
   "pygments_lexer": "ipython3",
   "version": "3.7.4"
  }
 },
 "nbformat": 4,
 "nbformat_minor": 2
}
