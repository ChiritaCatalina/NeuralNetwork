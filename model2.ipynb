{
 "cells": [
  {
   "cell_type": "code",
   "execution_count": 18,
   "metadata": {},
   "outputs": [
    {
     "name": "stderr",
     "output_type": "stream",
     "text": [
      "C:\\Users\\Alecs\\Anaconda3\\envs\\CChirita\\lib\\site-packages\\keras\\callbacks.py:569: RuntimeWarning: Early stopping conditioned on metric `val_mean_absolute_error` which is not available. Available metrics are: val_loss,loss\n",
      "  (self.monitor, ','.join(list(logs.keys()))), RuntimeWarning\n"
     ]
    },
    {
     "name": "stdout",
     "output_type": "stream",
     "text": [
      "errmin,errmax,x4: [[0.32819068]] [[1.5206164]] 10\n"
     ]
    }
   ],
   "source": [
    "import pandas as pd\n",
    "import numpy as np\n",
    "from sklearn import preprocessing\n",
    "from sklearn.model_selection import train_test_split\n",
    "import keras\n",
    "from keras import metrics\n",
    "from keras import regularizers\n",
    "from keras.models import Sequential\n",
    "from keras.layers import Dense, Dropout, Flatten, Activation\n",
    "from keras.layers import Conv2D, MaxPooling2D\n",
    "from keras.optimizers import Adam, RMSprop\n",
    "from keras.callbacks import TensorBoard, EarlyStopping, ModelCheckpoint\n",
    "from keras.utils import plot_model\n",
    "from keras.models import load_model\n",
    "import matplotlib.pyplot as plt\n",
    "\n",
    "\n",
    "\n",
    "df = pd.read_excel(r'Copy of Extraction PT4 14x59 din 2016 pana in prezent - analysis S1928 (003) (3).xlsx', sheet_name='TL4 -40 Nm' )\n",
    "dataset = df.values\n",
    "X = dataset[1:,23:42]\n",
    "Y = dataset[1:,14]\n",
    "X = X.astype('float')\n",
    "Y = Y.astype('float')\n",
    "\n",
    "\n",
    "d1 = pd.DataFrame(X)\n",
    "d2 = pd.DataFrame(Y)\n",
    "d1.drop([1,3,5,7,8,9,10,11,13,15,17], axis=1, inplace=True)\n",
    "d2.replace(0.  , np.nan, inplace=True)\n",
    "d2.replace(-1. , np.nan, inplace=True)\n",
    "d2.replace(1.  , np.nan, inplace=True)\n",
    "d2.replace(2.  , np.nan, inplace=True)\n",
    "d2.replace(3.  , np.nan, inplace=True)\n",
    "d2.replace(4.  , np.nan, inplace=True)\n",
    "d2.replace(5.  , np.nan, inplace=True)\n",
    "d2.replace(6.  , np.nan, inplace=True)\n",
    "\n",
    "d1[7] = d2[0]\n",
    "d1.dropna(inplace=True)\n",
    "# d1.isnull().any() # Verifica daca avem vre-o valoare de tip NaN\n",
    "\n",
    "X = d1.values[0:,:-1]\n",
    "Y = d1.values[0:, -1:]\n",
    "\n",
    "\n",
    "min_max_scaler = preprocessing.MinMaxScaler()\n",
    "X_scale = min_max_scaler.fit_transform(X)\n",
    "Y_scaler = preprocessing.MinMaxScaler()\n",
    "Y_scale = Y_scaler.fit_transform(Y)\n",
    "\n",
    "\n",
    "\n",
    "\n",
    "X_train, X_test, Y_train, Y_test = train_test_split(X_scale, Y_scale, test_size=0.2)\n",
    "X_train.shape, Y_train.shape, X_test.shape, Y_test.shape\n",
    "\n",
    "\n",
    "\n",
    "\n",
    "def basic_model_3(x):\n",
    "     # create model\n",
    "    model = Sequential()\n",
    "    model.add(Dense(x, input_dim=8, kernel_initializer='normal', activation='relu'))\n",
    "    model.add(Dropout(0.2))\n",
    "    model.add(Dense(x, input_dim=4, kernel_initializer='normal', activation='relu'))\n",
    "    model.add(Dense(x, input_dim=2, kernel_initializer='normal', activation='relu'))\n",
    "    model.add(Dense(1, kernel_initializer='normal'))\n",
    "    # Compile model\n",
    "    model.compile(loss='mean_squared_error', optimizer='adam')\n",
    "    return model\n",
    "\n",
    "def error(x):\n",
    "    emax = 1.\n",
    "    emin = 1.\n",
    "    for i in range(x):\n",
    "        p = model.predict(X_train[i].reshape(1, 8))\n",
    "        #print(p, Y_train[i], p/float(Y_train[i]))\n",
    "        pp = Y_scaler.inverse_transform(p)\n",
    "        py = Y_scaler.inverse_transform(Y_train[i].reshape(1,-1))\n",
    "        r = p/float(Y_train[i])\n",
    "        if r > emax and py > 7.:\n",
    "            emax = r\n",
    "        if r < emin and py > 7.:\n",
    "            emin = r\n",
    "#        print(pp,py, r)\n",
    "    return emin , emax;\n",
    "\n",
    "rmin = 10\n",
    "rmax = 11\n",
    "\n",
    "for x4 in range(rmin,rmax):\n",
    "                dif=3.0\n",
    "                model = basic_model_3(x4)\n",
    "                epochs = 10000\n",
    "                batch_size = 128\n",
    "                #print('Epochs: ', epochs)\n",
    "                #print('Batch size: ', batch_size)\n",
    "                keras_callbacks = [\n",
    "                # ModelCheckpoint('/tmp/keras_checkpoints/model.{epoch:02d}-{val_loss:.2f}.hdf5', monitor='val_loss', save_best_only=True, verbose=2)\n",
    "                # ModelCheckpoint('/tmp/keras_checkpoints/model.{epoch:02d}.hdf5', monitor='val_loss', save_best_only=True, verbose=0)\n",
    "                # TensorBoard(log_dir='/tmp/keras_logs/model_3', histogram_freq=0, write_graph=True, write_images=True, embeddings_freq=0, embeddings_layer_names=None, embeddings_metadata=None),\n",
    "                EarlyStopping(monitor='val_mean_absolute_error', patience=20, verbose=0)\n",
    "                ]\n",
    "\n",
    "\n",
    "\n",
    "                history = model.fit(X_train, Y_train,\n",
    "                batch_size=batch_size,\n",
    "                epochs=epochs,\n",
    "                shuffle=True,\n",
    "                verbose=0, # Change it to 2, if wished to observe execution\n",
    "                validation_data=(X_test, Y_test),\n",
    "                callbacks=keras_callbacks)\n",
    "                \n",
    "                train_score = model.evaluate(X_train, Y_train, verbose=0)\n",
    "                valid_score = model.evaluate(X_test, Y_test, verbose=0)\n",
    "            \n",
    "                emn , ema = error(50)\n",
    "                print('errmin,errmax,x4:',emn,ema , x4)\n",
    "               "
   ]
  },
  {
   "cell_type": "code",
   "execution_count": 38,
   "metadata": {},
   "outputs": [
    {
     "name": "stderr",
     "output_type": "stream",
     "text": [
      "C:\\Users\\Alecs\\Anaconda3\\envs\\CChirita\\lib\\site-packages\\keras\\callbacks.py:569: RuntimeWarning: Early stopping conditioned on metric `val_mean_absolute_error` which is not available. Available metrics are: val_loss,loss\n",
      "  (self.monitor, ','.join(list(logs.keys()))), RuntimeWarning\n"
     ]
    },
    {
     "name": "stdout",
     "output_type": "stream",
     "text": [
      "errmin,errmax,x4: [[0.5777077]] [[1.4983128]] 10\n"
     ]
    }
   ],
   "source": [
    "def tree_model(x, dropout=0.2):\n",
    "    model = Sequential()\n",
    "    model.add(Dense(x, input_dim=8, kernel_initializer='normal', activation='relu'))\n",
    "    if dropout:\n",
    "        model.add(Dropout(dropout))\n",
    "    model.add(Dense(int(x/2),  kernel_initializer='normal', activation='relu'))\n",
    "    if dropout:\n",
    "        model.add(Dropout(dropout))\n",
    "    model.add(Dense(int(x/4),  kernel_initializer='normal', activation='relu'))\n",
    "    model.add(Dense(1, kernel_initializer='normal'))\n",
    "    model.compile(loss='mean_squared_error', optimizer='adam')\n",
    "    return model\n",
    "\n",
    "\n",
    "def err(model, x):\n",
    "    emax = 1.\n",
    "    emin = 1.\n",
    "    for i in range(x):\n",
    "        p = model.predict(X_train[i].reshape(1, 8))\n",
    "        #print(p, Y_train[i], p/float(Y_train[i]))\n",
    "        pp = Y_scaler.inverse_transform(p)\n",
    "        py = Y_scaler.inverse_transform(Y_train[i].reshape(1,-1))\n",
    "        r = p/float(Y_train[i])\n",
    "        if r > emax and py > 7.:\n",
    "            emax = r\n",
    "        if r < emin and py > 7.:\n",
    "            emin = r\n",
    "#        print(pp,py, r)\n",
    "    return emin , emax;\n",
    "\n",
    "def process_model(model, batch_size=32, epochs=500):\n",
    "    history = model.fit(X_train, Y_train, batch_size=batch_size,epochs=epochs,\n",
    "                shuffle=True, verbose=0, validation_data=(X_test, Y_test), callbacks=keras_callbacks)\n",
    "                \n",
    "    train_score = model.evaluate(X_train, Y_train, verbose=0)\n",
    "    valid_score = model.evaluate(X_test, Y_test, verbose=0)\n",
    "    \n",
    "model = tree_model(10)    \n",
    "process_model(model, batch_size=32, epochs=500)\n",
    "\n",
    "emn , ema = err(model, 50)\n",
    "print('errmin,errmax,x4:',emn,ema , x4)\n"
   ]
  },
  {
   "cell_type": "code",
   "execution_count": 32,
   "metadata": {},
   "outputs": [
    {
     "name": "stderr",
     "output_type": "stream",
     "text": [
      "C:\\Users\\Alecs\\Anaconda3\\envs\\CChirita\\lib\\site-packages\\keras\\callbacks.py:569: RuntimeWarning: Early stopping conditioned on metric `val_mean_absolute_error` which is not available. Available metrics are: val_loss,loss\n",
      "  (self.monitor, ','.join(list(logs.keys()))), RuntimeWarning\n"
     ]
    }
   ],
   "source": [
    "m1 = tree_model(8)\n",
    "m2 = basic_model_3(8)\n",
    "process_model(m1)\n",
    "process_model(m2)\n"
   ]
  },
  {
   "cell_type": "code",
   "execution_count": 33,
   "metadata": {},
   "outputs": [
    {
     "name": "stdout",
     "output_type": "stream",
     "text": [
      "errmin,errmax,x4: [[0.5770872]] [[1.4967035]] 10\n"
     ]
    }
   ],
   "source": [
    "emn , ema = err(m1, 50)\n",
    "print('errmin,errmax,x4:',emn,ema , x4)"
   ]
  },
  {
   "cell_type": "code",
   "execution_count": 34,
   "metadata": {},
   "outputs": [
    {
     "name": "stdout",
     "output_type": "stream",
     "text": [
      "errmin,errmax,x4: [[0.56217074]] [[1.5265647]] 10\n"
     ]
    }
   ],
   "source": [
    "emn , ema = err(m2, 50)\n",
    "print('errmin,errmax,x4:',emn,ema , x4)"
   ]
  },
  {
   "cell_type": "code",
   "execution_count": 43,
   "metadata": {},
   "outputs": [
    {
     "name": "stderr",
     "output_type": "stream",
     "text": [
      "C:\\Users\\Alecs\\Anaconda3\\envs\\CChirita\\lib\\site-packages\\keras\\callbacks.py:569: RuntimeWarning: Early stopping conditioned on metric `val_mean_absolute_error` which is not available. Available metrics are: val_loss,loss\n",
      "  (self.monitor, ','.join(list(logs.keys()))), RuntimeWarning\n"
     ]
    },
    {
     "name": "stdout",
     "output_type": "stream",
     "text": [
      "(array([[0.5757442]], dtype=float32), array([[1.5847133]], dtype=float32)) None\n"
     ]
    },
    {
     "name": "stderr",
     "output_type": "stream",
     "text": [
      "C:\\Users\\Alecs\\Anaconda3\\envs\\CChirita\\lib\\site-packages\\keras\\callbacks.py:569: RuntimeWarning: Early stopping conditioned on metric `val_mean_absolute_error` which is not available. Available metrics are: val_loss,loss\n",
      "  (self.monitor, ','.join(list(logs.keys()))), RuntimeWarning\n"
     ]
    },
    {
     "name": "stdout",
     "output_type": "stream",
     "text": [
      "(array([[0.5690359]], dtype=float32), array([[1.4849854]], dtype=float32)) 0.1\n"
     ]
    },
    {
     "name": "stderr",
     "output_type": "stream",
     "text": [
      "C:\\Users\\Alecs\\Anaconda3\\envs\\CChirita\\lib\\site-packages\\keras\\callbacks.py:569: RuntimeWarning: Early stopping conditioned on metric `val_mean_absolute_error` which is not available. Available metrics are: val_loss,loss\n",
      "  (self.monitor, ','.join(list(logs.keys()))), RuntimeWarning\n"
     ]
    },
    {
     "name": "stdout",
     "output_type": "stream",
     "text": [
      "(array([[0.5493212]], dtype=float32), array([[1.4575806]], dtype=float32)) 0.2\n"
     ]
    },
    {
     "name": "stderr",
     "output_type": "stream",
     "text": [
      "C:\\Users\\Alecs\\Anaconda3\\envs\\CChirita\\lib\\site-packages\\keras\\callbacks.py:569: RuntimeWarning: Early stopping conditioned on metric `val_mean_absolute_error` which is not available. Available metrics are: val_loss,loss\n",
      "  (self.monitor, ','.join(list(logs.keys()))), RuntimeWarning\n"
     ]
    },
    {
     "name": "stdout",
     "output_type": "stream",
     "text": [
      "(array([[0.54119664]], dtype=float32), array([[1.452147]], dtype=float32)) 0.3\n"
     ]
    },
    {
     "name": "stderr",
     "output_type": "stream",
     "text": [
      "C:\\Users\\Alecs\\Anaconda3\\envs\\CChirita\\lib\\site-packages\\keras\\callbacks.py:569: RuntimeWarning: Early stopping conditioned on metric `val_mean_absolute_error` which is not available. Available metrics are: val_loss,loss\n",
      "  (self.monitor, ','.join(list(logs.keys()))), RuntimeWarning\n"
     ]
    },
    {
     "name": "stdout",
     "output_type": "stream",
     "text": [
      "(array([[0.5757576]], dtype=float32), array([[1.4891092]], dtype=float32)) 0.4\n"
     ]
    }
   ],
   "source": [
    "# Am selectat modelul tree de 8 biti ca modelul cel mai potrivit\n",
    "# verificam posibilitatea de a minimiza abaterea folosind dropout\n",
    "for i in [None, 0.1, 0.2, 0.3, 0.4]:\n",
    "    m1 = tree_model(8, i)\n",
    "    process_model(m1)\n",
    "    print(err(m1,50),i)"
   ]
  },
  {
   "cell_type": "code",
   "execution_count": 47,
   "metadata": {},
   "outputs": [
    {
     "name": "stderr",
     "output_type": "stream",
     "text": [
      "C:\\Users\\Alecs\\Anaconda3\\envs\\CChirita\\lib\\site-packages\\keras\\callbacks.py:569: RuntimeWarning: Early stopping conditioned on metric `val_mean_absolute_error` which is not available. Available metrics are: val_loss,loss\n",
      "  (self.monitor, ','.join(list(logs.keys()))), RuntimeWarning\n"
     ]
    },
    {
     "name": "stdout",
     "output_type": "stream",
     "text": [
      "(array([[0.57994586]], dtype=float32), array([[1.5041176]], dtype=float32)) 64\n"
     ]
    },
    {
     "name": "stderr",
     "output_type": "stream",
     "text": [
      "C:\\Users\\Alecs\\Anaconda3\\envs\\CChirita\\lib\\site-packages\\keras\\callbacks.py:569: RuntimeWarning: Early stopping conditioned on metric `val_mean_absolute_error` which is not available. Available metrics are: val_loss,loss\n",
      "  (self.monitor, ','.join(list(logs.keys()))), RuntimeWarning\n"
     ]
    },
    {
     "name": "stdout",
     "output_type": "stream",
     "text": [
      "(array([[0.5789465]], dtype=float32), array([[1.5015256]], dtype=float32)) 64\n"
     ]
    },
    {
     "name": "stderr",
     "output_type": "stream",
     "text": [
      "C:\\Users\\Alecs\\Anaconda3\\envs\\CChirita\\lib\\site-packages\\keras\\callbacks.py:569: RuntimeWarning: Early stopping conditioned on metric `val_mean_absolute_error` which is not available. Available metrics are: val_loss,loss\n",
      "  (self.monitor, ','.join(list(logs.keys()))), RuntimeWarning\n"
     ]
    },
    {
     "name": "stdout",
     "output_type": "stream",
     "text": [
      "(array([[0.58032185]], dtype=float32), array([[1.5050929]], dtype=float32)) 64\n"
     ]
    },
    {
     "name": "stderr",
     "output_type": "stream",
     "text": [
      "C:\\Users\\Alecs\\Anaconda3\\envs\\CChirita\\lib\\site-packages\\keras\\callbacks.py:569: RuntimeWarning: Early stopping conditioned on metric `val_mean_absolute_error` which is not available. Available metrics are: val_loss,loss\n",
      "  (self.monitor, ','.join(list(logs.keys()))), RuntimeWarning\n"
     ]
    },
    {
     "name": "stdout",
     "output_type": "stream",
     "text": [
      "(array([[0.57998395]], dtype=float32), array([[1.5042164]], dtype=float32)) 64\n"
     ]
    },
    {
     "name": "stderr",
     "output_type": "stream",
     "text": [
      "C:\\Users\\Alecs\\Anaconda3\\envs\\CChirita\\lib\\site-packages\\keras\\callbacks.py:569: RuntimeWarning: Early stopping conditioned on metric `val_mean_absolute_error` which is not available. Available metrics are: val_loss,loss\n",
      "  (self.monitor, ','.join(list(logs.keys()))), RuntimeWarning\n"
     ]
    },
    {
     "name": "stdout",
     "output_type": "stream",
     "text": [
      "(array([[0.5806997]], dtype=float32), array([[1.5060728]], dtype=float32)) 64\n"
     ]
    }
   ],
   "source": [
    "mm = tree_model(8,dropout=0.2)\n",
    "bs = 64\n",
    "for epoch in [10000,5000,2500,1000,500]:\n",
    "    process_model(mm, batch_size=bs, epochs=epoch)\n",
    "    print(err(mm, 50), bs)"
   ]
  },
  {
   "cell_type": "code",
   "execution_count": 50,
   "metadata": {},
   "outputs": [],
   "source": [
    "mm.save('64T8-02.h5p')"
   ]
  },
  {
   "cell_type": "code",
   "execution_count": 57,
   "metadata": {},
   "outputs": [
    {
     "name": "stderr",
     "output_type": "stream",
     "text": [
      "C:\\Users\\Alecs\\Anaconda3\\envs\\CChirita\\lib\\site-packages\\keras\\callbacks.py:569: RuntimeWarning: Early stopping conditioned on metric `val_mean_absolute_error` which is not available. Available metrics are: val_loss,loss\n",
      "  (self.monitor, ','.join(list(logs.keys()))), RuntimeWarning\n"
     ]
    },
    {
     "name": "stdout",
     "output_type": "stream",
     "text": [
      "(array([[0.5501057]], dtype=float32), array([[1.4152333]], dtype=float32)) 64\n"
     ]
    }
   ],
   "source": [
    "\n",
    "def etree_model(x, dropout=0.2):\n",
    "    model = Sequential()\n",
    "    model.add(Dense(x, input_dim=8, kernel_initializer='normal', activation='relu'))\n",
    "    if dropout:\n",
    "        model.add(Dropout(dropout))\n",
    "    model.add(Dense(int(x*2),  kernel_initializer='normal', activation='relu'))\n",
    "    if dropout:\n",
    "        model.add(Dropout(dropout))\n",
    "    model.add(Dense(int(x),  kernel_initializer='normal', activation='relu'))\n",
    "    if dropout:\n",
    "        model.add(Dropout(dropout))\n",
    "    model.add(Dense(int(x/2),  kernel_initializer='normal', activation='relu'))\n",
    "    if dropout:\n",
    "        model.add(Dropout(dropout))\n",
    "    model.add(Dense(int(x/4),  kernel_initializer='normal', activation='relu'))\n",
    "    model.add(Dense(1, kernel_initializer='normal'))\n",
    "    model.compile(loss='mean_squared_error', optimizer='adam')\n",
    "    return model\n",
    "\n",
    "em = etree_model(8, dropout=0.2)\n",
    "process_model(em, batch_size=64, epochs=5000)\n",
    "print(err(em, 50), bs)"
   ]
  },
  {
   "cell_type": "code",
   "execution_count": null,
   "metadata": {},
   "outputs": [],
   "source": []
  }
 ],
 "metadata": {
  "kernelspec": {
   "display_name": "Python 3",
   "language": "python",
   "name": "python3"
  },
  "language_info": {
   "codemirror_mode": {
    "name": "ipython",
    "version": 3
   },
   "file_extension": ".py",
   "mimetype": "text/x-python",
   "name": "python",
   "nbconvert_exporter": "python",
   "pygments_lexer": "ipython3",
   "version": "3.7.4"
  }
 },
 "nbformat": 4,
 "nbformat_minor": 2
}
