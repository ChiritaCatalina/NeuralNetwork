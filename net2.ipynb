{
 "cells": [
  {
   "cell_type": "markdown",
   "metadata": {},
   "source": [
    "# Model de predictie multiparametru\n",
    "\n",
    "Modelul nostru citeste un fisier Excel si imparte datele de intrare in elemente de intrare si elemente de iesire. Elementele de intrare au 24 de caracteristici pe care le urmeaza."
   ]
  },
  {
   "cell_type": "code",
   "execution_count": 1,
   "metadata": {},
   "outputs": [
    {
     "name": "stdout",
     "output_type": "stream",
     "text": [
      "X:  (918, 22), Y: (918,)\n"
     ]
    }
   ],
   "source": [
    "import pandas as pd\n",
    "df = pd.read_excel(r'Copy of Extraction PT4 14x59 din 2016 pana in prezent - analysis S1928 (003).xlsx', sheet_name='TL4 -40 Nm' )\n",
    "dataset = df.values\n",
    "\n",
    "X = dataset[1:,23:45]\n",
    "Y = dataset[1:,14]\n",
    "X = X.astype('float')\n",
    "Y = Y.astype('float')\n",
    "print(\"X:  %s, Y: %s\" % (X.shape, Y.shape))"
   ]
  },
  {
   "cell_type": "markdown",
   "metadata": {},
   "source": [
    "### Normalizarea datelor\n",
    "Este necesara extragerea din dataset a valorilor de intrare care au valoare NaN.\n",
    "De asemenea, am ignorat parametrii care nu varieaza in dataset."
   ]
  },
  {
   "cell_type": "code",
   "execution_count": 2,
   "metadata": {},
   "outputs": [
    {
     "data": {
      "text/plain": [
       "((910, 21), (910,))"
      ]
     },
     "execution_count": 2,
     "metadata": {},
     "output_type": "execute_result"
    }
   ],
   "source": [
    "Xdf = pd.DataFrame(X)\n",
    "Ydf = pd.DataFrame(Y)\n",
    "tdat = Xdf\n",
    "tdat[22] = Ydf[0]\n",
    "tdat.dropna(inplace=True)\n",
    "td = tdat.values\n",
    "X = td[1:, 0:21]\n",
    "Y = td[1:, 22]\n",
    "X = X.astype('float')\n",
    "Y = Y.astype('float')\n",
    "X.shape, Y.shape"
   ]
  },
  {
   "cell_type": "code",
   "execution_count": null,
   "metadata": {},
   "outputs": [],
   "source": []
  },
  {
   "cell_type": "markdown",
   "metadata": {},
   "source": [
    "## Scalam datele de intrare si de iesire intre valorile 0 si 1\n",
    "pentru aceasta apelam la minmaxscaller din pachetul scipy"
   ]
  },
  {
   "cell_type": "code",
   "execution_count": 3,
   "metadata": {},
   "outputs": [
    {
     "data": {
      "text/plain": [
       "(910, 21)"
      ]
     },
     "execution_count": 3,
     "metadata": {},
     "output_type": "execute_result"
    }
   ],
   "source": [
    "from sklearn import preprocessing\n",
    "min_max_scaler = preprocessing.MinMaxScaler()\n",
    "X_scale = min_max_scaler.fit_transform(X)\n",
    "X_scale.shape"
   ]
  },
  {
   "cell_type": "code",
   "execution_count": 4,
   "metadata": {},
   "outputs": [
    {
     "data": {
      "text/plain": [
       "0     False\n",
       "1     False\n",
       "2     False\n",
       "3     False\n",
       "4     False\n",
       "5     False\n",
       "6     False\n",
       "7     False\n",
       "8     False\n",
       "9     False\n",
       "10    False\n",
       "11    False\n",
       "12    False\n",
       "13    False\n",
       "14    False\n",
       "15    False\n",
       "16    False\n",
       "17    False\n",
       "18    False\n",
       "19    False\n",
       "20    False\n",
       "dtype: bool"
      ]
     },
     "execution_count": 4,
     "metadata": {},
     "output_type": "execute_result"
    }
   ],
   "source": [
    "d1 = pd.DataFrame(X_scale)\n",
    "d1.dropna(inplace=True)\n",
    "d1.isnull().any()"
   ]
  },
  {
   "cell_type": "markdown",
   "metadata": {},
   "source": [
    "## Impartim datele in data de training si date de test\n",
    "\n",
    "folosind regula 2/3 vs 1/3"
   ]
  },
  {
   "cell_type": "code",
   "execution_count": 5,
   "metadata": {},
   "outputs": [
    {
     "name": "stdout",
     "output_type": "stream",
     "text": [
      "(637, 21)\n",
      "(136, 21)\n",
      "(137, 21)\n",
      "(637,)\n",
      "(136,)\n"
     ]
    },
    {
     "data": {
      "text/plain": [
       "(array([[0.35064935, 0.29032258, 0.88235294, ..., 0.9       , 1.        ,\n",
       "         0.1744186 ],\n",
       "        [0.4025974 , 0.12903226, 0.52941176, ..., 0.8       , 0.        ,\n",
       "         0.11627907],\n",
       "        [0.36363636, 0.09677419, 0.82352941, ..., 0.4       , 0.125     ,\n",
       "         0.3372093 ],\n",
       "        ...,\n",
       "        [0.48051948, 0.20967742, 0.41176471, ..., 0.5       , 0.125     ,\n",
       "         0.19767442],\n",
       "        [0.58441558, 0.20967742, 0.58823529, ..., 0.5       , 0.25      ,\n",
       "         0.25581395],\n",
       "        [0.37662338, 0.08064516, 0.52941176, ..., 0.2       , 0.25      ,\n",
       "         0.1627907 ]]),\n",
       " array([14.  , 14.  , 13.68,  9.  , 11.02, 14.35,  2.39, 12.35, 14.  ,\n",
       "         3.48, 10.  , 10.51, 13.  , 14.  ,  5.73, 10.02,  4.  , 14.  ,\n",
       "        10.44, 13.  , 14.27,  6.  , 13.05,  7.51,  8.52, 11.56, 12.85,\n",
       "         7.76,  5.46,  9.  ,  7.43, 12.76, 13.27, 14.  , 15.  ,  8.4 ,\n",
       "        11.  , 12.56,  9.  ,  6.19,  5.  , 14.9 , 11.  ,  8.88, 12.04,\n",
       "        11.92,  7.41, 10.98, 12.  , 10.69,  5.66,  7.45, 17.12,  8.51,\n",
       "        14.58, 10.95, 11.26, 15.  , 10.7 ,  5.34, 11.  , 12.  , 14.  ,\n",
       "        13.83, 11.  , 14.  , 12.88, 12.  ,  5.66, 10.  , 10.11, 13.67,\n",
       "        14.83,  4.41,  7.67,  9.84,  4.19, 13.  , 12.84, 15.33, 13.46,\n",
       "        12.14,  7.13, 10.54, 12.94, 11.  ,  7.  ,  6.04,  8.13,  8.  ,\n",
       "        10.22, 13.43,  9.56, 13.72,  5.48,  6.  ,  9.1 , 15.  , 15.76,\n",
       "        12.98, 10.84,  8.46, 10.  ,  4.  ,  4.66,  7.76,  2.  ,  7.24,\n",
       "        16.  ,  8.55, 17.83,  4.  , 10.38, 10.64,  2.  , 10.27, 13.  ,\n",
       "        10.  , 14.  , 12.94, 12.31, 12.52, 12.  ,  2.  ,  3.31, 11.  ,\n",
       "        13.84,  6.15,  6.15, 14.  ,  5.  ,  4.41,  0.  , 14.95,  5.01,\n",
       "        16.83, 12.47]))"
      ]
     },
     "execution_count": 5,
     "metadata": {},
     "output_type": "execute_result"
    }
   ],
   "source": [
    "from sklearn.model_selection import train_test_split\n",
    "X_train, X_val_and_test, Y_train, Y_val_and_test = train_test_split(X_scale, Y, test_size=0.3)\n",
    "X_val, X_test, Y_val, Y_test = train_test_split(X_val_and_test, Y_val_and_test, test_size=0.5)\n",
    "print(X_train.shape)\n",
    "print(X_val.shape)\n",
    "print(X_test.shape)\n",
    "print(Y_train.shape)\n",
    "print(Y_val.shape)\n",
    "\n",
    "X_test, Y_test"
   ]
  },
  {
   "cell_type": "markdown",
   "metadata": {},
   "source": [
    "## Cream modelul ML\n",
    "1 strat de intrare de dimensiunea dictata de numarul de parametrii folositi (22)\n",
    "\n",
    "1 strat ascuns dim 77 folosind modelul de activare ReLU\n",
    "\n",
    "1 strat ascuns dim 77 folosind modelul de activare ReLU\n",
    "\n",
    "1 strat de iesire dim 1 folosind un model de activare de tip sigmoid\n",
    "\n"
   ]
  },
  {
   "cell_type": "code",
   "execution_count": 6,
   "metadata": {},
   "outputs": [
    {
     "name": "stderr",
     "output_type": "stream",
     "text": [
      "Using TensorFlow backend.\n",
      "WARNING: Logging before flag parsing goes to stderr.\n",
      "W0916 18:32:27.101692  3344 deprecation_wrapper.py:119] From C:\\Users\\Alecs\\Anaconda3\\envs\\CChirita\\lib\\site-packages\\keras\\backend\\tensorflow_backend.py:74: The name tf.get_default_graph is deprecated. Please use tf.compat.v1.get_default_graph instead.\n",
      "\n",
      "W0916 18:32:27.132662  3344 deprecation_wrapper.py:119] From C:\\Users\\Alecs\\Anaconda3\\envs\\CChirita\\lib\\site-packages\\keras\\backend\\tensorflow_backend.py:517: The name tf.placeholder is deprecated. Please use tf.compat.v1.placeholder instead.\n",
      "\n",
      "W0916 18:32:27.134661  3344 deprecation_wrapper.py:119] From C:\\Users\\Alecs\\Anaconda3\\envs\\CChirita\\lib\\site-packages\\keras\\backend\\tensorflow_backend.py:4138: The name tf.random_uniform is deprecated. Please use tf.random.uniform instead.\n",
      "\n",
      "W0916 18:32:27.162686  3344 deprecation_wrapper.py:119] From C:\\Users\\Alecs\\Anaconda3\\envs\\CChirita\\lib\\site-packages\\keras\\backend\\tensorflow_backend.py:133: The name tf.placeholder_with_default is deprecated. Please use tf.compat.v1.placeholder_with_default instead.\n",
      "\n",
      "W0916 18:32:27.169678  3344 deprecation.py:506] From C:\\Users\\Alecs\\Anaconda3\\envs\\CChirita\\lib\\site-packages\\keras\\backend\\tensorflow_backend.py:3445: calling dropout (from tensorflow.python.ops.nn_ops) with keep_prob is deprecated and will be removed in a future version.\n",
      "Instructions for updating:\n",
      "Please use `rate` instead of `keep_prob`. Rate should be set to `rate = 1 - keep_prob`.\n",
      "W0916 18:32:27.227662  3344 deprecation_wrapper.py:119] From C:\\Users\\Alecs\\Anaconda3\\envs\\CChirita\\lib\\site-packages\\keras\\optimizers.py:790: The name tf.train.Optimizer is deprecated. Please use tf.compat.v1.train.Optimizer instead.\n",
      "\n",
      "W0916 18:32:27.378662  3344 deprecation.py:323] From C:\\Users\\Alecs\\Anaconda3\\envs\\CChirita\\lib\\site-packages\\tensorflow\\python\\ops\\math_grad.py:1250: add_dispatch_support.<locals>.wrapper (from tensorflow.python.ops.array_ops) is deprecated and will be removed in a future version.\n",
      "Instructions for updating:\n",
      "Use tf.where in 2.0, which has the same broadcast rule as np.where\n",
      "W0916 18:32:27.441660  3344 deprecation_wrapper.py:119] From C:\\Users\\Alecs\\Anaconda3\\envs\\CChirita\\lib\\site-packages\\keras\\backend\\tensorflow_backend.py:986: The name tf.assign_add is deprecated. Please use tf.compat.v1.assign_add instead.\n",
      "\n"
     ]
    },
    {
     "name": "stdout",
     "output_type": "stream",
     "text": [
      "Train on 637 samples, validate on 136 samples\n",
      "Epoch 1/100\n",
      "637/637 [==============================] - 1s 1ms/step - loss: 0.0481 - val_loss: 0.0323\n",
      "Epoch 2/100\n",
      "637/637 [==============================] - 0s 69us/step - loss: 0.0375 - val_loss: 0.0260\n",
      "Epoch 3/100\n",
      "637/637 [==============================] - 0s 64us/step - loss: 0.0324 - val_loss: 0.0222\n",
      "Epoch 4/100\n",
      "637/637 [==============================] - 0s 66us/step - loss: 0.0294 - val_loss: 0.0197\n",
      "Epoch 5/100\n",
      "637/637 [==============================] - 0s 66us/step - loss: 0.0271 - val_loss: 0.0178\n",
      "Epoch 6/100\n",
      "637/637 [==============================] - 0s 63us/step - loss: 0.0255 - val_loss: 0.0165\n",
      "Epoch 7/100\n",
      "637/637 [==============================] - 0s 63us/step - loss: 0.0243 - val_loss: 0.0155\n",
      "Epoch 8/100\n",
      "637/637 [==============================] - 0s 69us/step - loss: 0.0234 - val_loss: 0.0148\n",
      "Epoch 9/100\n",
      "637/637 [==============================] - 0s 64us/step - loss: 0.0228 - val_loss: 0.0143\n",
      "Epoch 10/100\n",
      "637/637 [==============================] - 0s 61us/step - loss: 0.0225 - val_loss: 0.0139\n",
      "Epoch 11/100\n",
      "637/637 [==============================] - 0s 61us/step - loss: 0.0222 - val_loss: 0.0136\n",
      "Epoch 12/100\n",
      "637/637 [==============================] - 0s 61us/step - loss: 0.0219 - val_loss: 0.0134\n",
      "Epoch 13/100\n",
      "637/637 [==============================] - 0s 63us/step - loss: 0.0217 - val_loss: 0.0132\n",
      "Epoch 14/100\n",
      "637/637 [==============================] - 0s 68us/step - loss: 0.0216 - val_loss: 0.0130\n",
      "Epoch 15/100\n",
      "637/637 [==============================] - 0s 63us/step - loss: 0.0215 - val_loss: 0.0129\n",
      "Epoch 16/100\n",
      "637/637 [==============================] - 0s 68us/step - loss: 0.0214 - val_loss: 0.0128\n",
      "Epoch 17/100\n",
      "637/637 [==============================] - 0s 67us/step - loss: 0.0212 - val_loss: 0.0127\n",
      "Epoch 18/100\n",
      "637/637 [==============================] - 0s 69us/step - loss: 0.0211 - val_loss: 0.0126\n",
      "Epoch 19/100\n",
      "637/637 [==============================] - 0s 69us/step - loss: 0.0210 - val_loss: 0.0125\n",
      "Epoch 20/100\n",
      "637/637 [==============================] - 0s 75us/step - loss: 0.0209 - val_loss: 0.0124\n",
      "Epoch 21/100\n",
      "637/637 [==============================] - 0s 72us/step - loss: 0.0208 - val_loss: 0.0123\n",
      "Epoch 22/100\n",
      "637/637 [==============================] - 0s 61us/step - loss: 0.0208 - val_loss: 0.0122\n",
      "Epoch 23/100\n",
      "637/637 [==============================] - 0s 64us/step - loss: 0.0207 - val_loss: 0.0121\n",
      "Epoch 24/100\n",
      "637/637 [==============================] - 0s 63us/step - loss: 0.0205 - val_loss: 0.0120\n",
      "Epoch 25/100\n",
      "637/637 [==============================] - 0s 66us/step - loss: 0.0205 - val_loss: 0.0120\n",
      "Epoch 26/100\n",
      "637/637 [==============================] - 0s 60us/step - loss: 0.0204 - val_loss: 0.0119\n",
      "Epoch 27/100\n",
      "637/637 [==============================] - 0s 69us/step - loss: 0.0203 - val_loss: 0.0118\n",
      "Epoch 28/100\n",
      "637/637 [==============================] - 0s 63us/step - loss: 0.0203 - val_loss: 0.0117\n",
      "Epoch 29/100\n",
      "637/637 [==============================] - 0s 64us/step - loss: 0.0201 - val_loss: 0.0117\n",
      "Epoch 30/100\n",
      "637/637 [==============================] - 0s 64us/step - loss: 0.0201 - val_loss: 0.0116\n",
      "Epoch 31/100\n",
      "637/637 [==============================] - 0s 69us/step - loss: 0.0200 - val_loss: 0.0115\n",
      "Epoch 32/100\n",
      "637/637 [==============================] - 0s 61us/step - loss: 0.0201 - val_loss: 0.0115\n",
      "Epoch 33/100\n",
      "637/637 [==============================] - 0s 64us/step - loss: 0.0199 - val_loss: 0.0114\n",
      "Epoch 34/100\n",
      "637/637 [==============================] - 0s 66us/step - loss: 0.0200 - val_loss: 0.0113\n",
      "Epoch 35/100\n",
      "637/637 [==============================] - 0s 63us/step - loss: 0.0198 - val_loss: 0.0112\n",
      "Epoch 36/100\n",
      "637/637 [==============================] - 0s 63us/step - loss: 0.0198 - val_loss: 0.0112\n",
      "Epoch 37/100\n",
      "637/637 [==============================] - 0s 60us/step - loss: 0.0198 - val_loss: 0.0111\n",
      "Epoch 38/100\n",
      "637/637 [==============================] - 0s 53us/step - loss: 0.0194 - val_loss: 0.0110\n",
      "Epoch 39/100\n",
      "637/637 [==============================] - 0s 57us/step - loss: 0.0196 - val_loss: 0.0110\n",
      "Epoch 40/100\n",
      "637/637 [==============================] - 0s 53us/step - loss: 0.0197 - val_loss: 0.0109\n",
      "Epoch 41/100\n",
      "637/637 [==============================] - 0s 58us/step - loss: 0.0196 - val_loss: 0.0109\n",
      "Epoch 42/100\n",
      "637/637 [==============================] - 0s 52us/step - loss: 0.0194 - val_loss: 0.0108\n",
      "Epoch 43/100\n",
      "637/637 [==============================] - 0s 60us/step - loss: 0.0194 - val_loss: 0.0107\n",
      "Epoch 44/100\n",
      "637/637 [==============================] - 0s 53us/step - loss: 0.0193 - val_loss: 0.0107\n",
      "Epoch 45/100\n",
      "637/637 [==============================] - 0s 52us/step - loss: 0.0195 - val_loss: 0.0106\n",
      "Epoch 46/100\n",
      "637/637 [==============================] - 0s 55us/step - loss: 0.0194 - val_loss: 0.0105\n",
      "Epoch 47/100\n",
      "637/637 [==============================] - 0s 52us/step - loss: 0.0192 - val_loss: 0.0105\n",
      "Epoch 48/100\n",
      "637/637 [==============================] - 0s 57us/step - loss: 0.0192 - val_loss: 0.0104\n",
      "Epoch 49/100\n",
      "637/637 [==============================] - 0s 55us/step - loss: 0.0191 - val_loss: 0.0103\n",
      "Epoch 50/100\n",
      "637/637 [==============================] - 0s 57us/step - loss: 0.0191 - val_loss: 0.0102\n",
      "Epoch 51/100\n",
      "637/637 [==============================] - 0s 57us/step - loss: 0.0193 - val_loss: 0.0102\n",
      "Epoch 52/100\n",
      "637/637 [==============================] - 0s 61us/step - loss: 0.0188 - val_loss: 0.0101\n",
      "Epoch 53/100\n",
      "637/637 [==============================] - 0s 58us/step - loss: 0.0190 - val_loss: 0.0101\n",
      "Epoch 54/100\n",
      "637/637 [==============================] - 0s 55us/step - loss: 0.0190 - val_loss: 0.0100\n",
      "Epoch 55/100\n",
      "637/637 [==============================] - 0s 60us/step - loss: 0.0187 - val_loss: 0.0099\n",
      "Epoch 56/100\n",
      "637/637 [==============================] - 0s 58us/step - loss: 0.0189 - val_loss: 0.0099\n",
      "Epoch 57/100\n",
      "637/637 [==============================] - 0s 55us/step - loss: 0.0187 - val_loss: 0.0098\n",
      "Epoch 58/100\n",
      "637/637 [==============================] - 0s 57us/step - loss: 0.0191 - val_loss: 0.0098\n",
      "Epoch 59/100\n",
      "637/637 [==============================] - 0s 57us/step - loss: 0.0187 - val_loss: 0.0098\n",
      "Epoch 60/100\n",
      "637/637 [==============================] - 0s 66us/step - loss: 0.0187 - val_loss: 0.0097\n",
      "Epoch 61/100\n",
      "637/637 [==============================] - 0s 57us/step - loss: 0.0187 - val_loss: 0.0097\n",
      "Epoch 62/100\n",
      "637/637 [==============================] - 0s 57us/step - loss: 0.0186 - val_loss: 0.0096\n",
      "Epoch 63/100\n",
      "637/637 [==============================] - 0s 68us/step - loss: 0.0186 - val_loss: 0.0095\n",
      "Epoch 64/100\n",
      "637/637 [==============================] - 0s 63us/step - loss: 0.0185 - val_loss: 0.0095\n",
      "Epoch 65/100\n",
      "637/637 [==============================] - 0s 53us/step - loss: 0.0185 - val_loss: 0.0095\n",
      "Epoch 66/100\n",
      "637/637 [==============================] - 0s 57us/step - loss: 0.0185 - val_loss: 0.0095\n",
      "Epoch 67/100\n",
      "637/637 [==============================] - 0s 61us/step - loss: 0.0186 - val_loss: 0.0094\n",
      "Epoch 68/100\n",
      "637/637 [==============================] - 0s 55us/step - loss: 0.0184 - val_loss: 0.0094\n",
      "Epoch 69/100\n",
      "637/637 [==============================] - 0s 57us/step - loss: 0.0183 - val_loss: 0.0094\n",
      "Epoch 70/100\n",
      "637/637 [==============================] - 0s 61us/step - loss: 0.0183 - val_loss: 0.0094\n",
      "Epoch 71/100\n",
      "637/637 [==============================] - 0s 55us/step - loss: 0.0181 - val_loss: 0.0094\n",
      "Epoch 72/100\n",
      "637/637 [==============================] - 0s 53us/step - loss: 0.0182 - val_loss: 0.0093\n",
      "Epoch 73/100\n",
      "637/637 [==============================] - 0s 57us/step - loss: 0.0183 - val_loss: 0.0093\n",
      "Epoch 74/100\n",
      "637/637 [==============================] - 0s 60us/step - loss: 0.0182 - val_loss: 0.0093\n",
      "Epoch 75/100\n",
      "637/637 [==============================] - 0s 58us/step - loss: 0.0182 - val_loss: 0.0093\n",
      "Epoch 76/100\n",
      "637/637 [==============================] - 0s 58us/step - loss: 0.0182 - val_loss: 0.0092\n",
      "Epoch 77/100\n",
      "637/637 [==============================] - 0s 61us/step - loss: 0.0181 - val_loss: 0.0092\n",
      "Epoch 78/100\n",
      "637/637 [==============================] - 0s 60us/step - loss: 0.0180 - val_loss: 0.0092\n",
      "Epoch 79/100\n",
      "637/637 [==============================] - 0s 74us/step - loss: 0.0180 - val_loss: 0.0092\n",
      "Epoch 80/100\n"
     ]
    },
    {
     "name": "stdout",
     "output_type": "stream",
     "text": [
      "637/637 [==============================] - 0s 58us/step - loss: 0.0180 - val_loss: 0.0092\n",
      "Epoch 81/100\n",
      "637/637 [==============================] - 0s 60us/step - loss: 0.0180 - val_loss: 0.0091\n",
      "Epoch 82/100\n",
      "637/637 [==============================] - 0s 57us/step - loss: 0.0180 - val_loss: 0.0091\n",
      "Epoch 83/100\n",
      "637/637 [==============================] - 0s 57us/step - loss: 0.0179 - val_loss: 0.0091\n",
      "Epoch 84/100\n",
      "637/637 [==============================] - 0s 58us/step - loss: 0.0180 - val_loss: 0.0091\n",
      "Epoch 85/100\n",
      "637/637 [==============================] - 0s 68us/step - loss: 0.0181 - val_loss: 0.0091\n",
      "Epoch 86/100\n",
      "637/637 [==============================] - 0s 58us/step - loss: 0.0180 - val_loss: 0.0090\n",
      "Epoch 87/100\n",
      "637/637 [==============================] - 0s 64us/step - loss: 0.0179 - val_loss: 0.0090\n",
      "Epoch 88/100\n",
      "637/637 [==============================] - 0s 55us/step - loss: 0.0179 - val_loss: 0.0090\n",
      "Epoch 89/100\n",
      "637/637 [==============================] - 0s 55us/step - loss: 0.0179 - val_loss: 0.0090\n",
      "Epoch 90/100\n",
      "637/637 [==============================] - 0s 57us/step - loss: 0.0178 - val_loss: 0.0090\n",
      "Epoch 91/100\n",
      "637/637 [==============================] - 0s 52us/step - loss: 0.0178 - val_loss: 0.0090\n",
      "Epoch 92/100\n",
      "637/637 [==============================] - 0s 55us/step - loss: 0.0179 - val_loss: 0.0090\n",
      "Epoch 93/100\n",
      "637/637 [==============================] - 0s 55us/step - loss: 0.0177 - val_loss: 0.0090\n",
      "Epoch 94/100\n",
      "637/637 [==============================] - 0s 55us/step - loss: 0.0177 - val_loss: 0.0089\n",
      "Epoch 95/100\n",
      "637/637 [==============================] - 0s 58us/step - loss: 0.0177 - val_loss: 0.0089\n",
      "Epoch 96/100\n",
      "637/637 [==============================] - 0s 57us/step - loss: 0.0177 - val_loss: 0.0089\n",
      "Epoch 97/100\n",
      "637/637 [==============================] - 0s 64us/step - loss: 0.0177 - val_loss: 0.0089\n",
      "Epoch 98/100\n",
      "637/637 [==============================] - 0s 57us/step - loss: 0.0178 - val_loss: 0.0089\n",
      "Epoch 99/100\n",
      "637/637 [==============================] - 0s 57us/step - loss: 0.0176 - val_loss: 0.0089\n",
      "Epoch 100/100\n",
      "637/637 [==============================] - 0s 58us/step - loss: 0.0176 - val_loss: 0.0089\n"
     ]
    }
   ],
   "source": [
    "from keras.models import Sequential\n",
    "from keras.layers import Dense\n",
    "from keras.optimizers import Adam\n",
    "from keras.layers import Dropout\n",
    "from keras import regularizers\n",
    "model = Sequential([\n",
    "    Dense(64, activation='relu', kernel_initializer='uniform',kernel_regularizer=regularizers.l2(0.01), input_shape=(21,)),\n",
    "#    Dropout(0.3),\n",
    "#    Dense(64, activation='relu', kernel_regularizer=regularizers.l2(0.01)),\n",
    "    Dropout(0.3),\n",
    "    Dense(1, activation='sigmoid', kernel_regularizer=regularizers.l2(0.01))\n",
    "])\n",
    "opt = Adam(lr=1e-3, decay=1e-3 / 200)\n",
    "\n",
    "#model.compile(optimizer='Adadelta', loss='binary_crossentropy',metrics=['accuracy'])\n",
    "model.compile(optimizer='adam', loss='hinge')\n",
    "#model.compile(optimizer='adam', loss='binary_crossentropy')\n",
    "#model.compile(optimizer='adam', loss='mean_squared_logarithmic_error')\n",
    "# model.compile(optimizer='rmsprop', loss=\"mean_absolute_percentage_error\")\n",
    "hist = model.fit(X_train, Y_train,\n",
    "          batch_size=21, epochs=100,\n",
    "          validation_data=(X_val, Y_val))"
   ]
  },
  {
   "cell_type": "code",
   "execution_count": 8,
   "metadata": {},
   "outputs": [
    {
     "data": {
      "image/png": "[encoded data removed]",
      "text/plain": [
       "<Figure size 432x288 with 1 Axes>"
      ]
     },
     "metadata": {
      "needs_background": "light"
     },
     "output_type": "display_data"
    }
   ],
   "source": [
    "import matplotlib.pyplot as plt\n",
    "plt.plot(hist.history['loss'])\n",
    "plt.plot(hist.history['val_loss'])\n",
    "plt.title('Model loss')\n",
    "plt.ylabel('Loss')\n",
    "plt.xlabel('Epoch')\n",
    "plt.legend(['Train', 'Val'], loc='upper right')\n",
    "plt.show()"
   ]
  }
 ],
 "metadata": {
  "kernelspec": {
   "display_name": "Python 3",
   "language": "python",
   "name": "python3"
  },
  "language_info": {
   "codemirror_mode": {
    "name": "ipython",
    "version": 3
   },
   "file_extension": ".py",
   "mimetype": "text/x-python",
   "name": "python",
   "nbconvert_exporter": "python",
   "pygments_lexer": "ipython3",
   "version": "3.7.4"
  }
 },
 "nbformat": 4,
 "nbformat_minor": 2
}
