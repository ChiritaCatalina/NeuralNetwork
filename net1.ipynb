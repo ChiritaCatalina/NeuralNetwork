{
 "cells": [
  {
   "cell_type": "markdown",
   "metadata": {},
   "source": [
    "# Model de predictie multiparametru\n",
    "\n",
    "Modelul nostru citeste un fisier Excel si imparte datele de intrare in elemente de intrare si elemente de iesire. Elementele de intrare au 24 de caracteristici pe care le urmeaza."
   ]
  },
  {
   "cell_type": "code",
   "execution_count": 111,
   "metadata": {},
   "outputs": [
    {
     "name": "stdout",
     "output_type": "stream",
     "text": [
      "X:  (918, 22), Y: (918,)\n"
     ]
    }
   ],
   "source": [
    "import pandas as pd\n",
    "df = pd.read_excel(r'Copy of Extraction PT4 14x59 din 2016 pana in prezent - analysis S1928 (003).xlsx', sheet_name='TL4 -40 Nm' )\n",
    "dataset = df.values\n",
    "\n",
    "X = dataset[1:,23:45]\n",
    "Y = dataset[1:,14]\n",
    "X = X.astype('float')\n",
    "Y = Y.astype('float')\n",
    "print(\"X:  %s, Y: %s\" % (X.shape, Y.shape))"
   ]
  },
  {
   "cell_type": "markdown",
   "metadata": {},
   "source": [
    "### Normalizarea datelor\n",
    "Este necesara extragerea din dataset a valorilor de intrare care au valoare NaN.\n",
    "De asemenea, am ignorat parametrii care nu varieaza in dataset."
   ]
  },
  {
   "cell_type": "code",
   "execution_count": 112,
   "metadata": {},
   "outputs": [
    {
     "data": {
      "text/plain": [
       "((910, 21), (910,))"
      ]
     },
     "execution_count": 112,
     "metadata": {},
     "output_type": "execute_result"
    }
   ],
   "source": [
    "Xdf = pd.DataFrame(X)\n",
    "Ydf = pd.DataFrame(Y)\n",
    "tdat = Xdf\n",
    "tdat[22] = Ydf[0]\n",
    "tdat.dropna(inplace=True)\n",
    "td = tdat.values\n",
    "X = td[1:, 0:21]\n",
    "Y = td[1:, 22]\n",
    "X = X.astype('float')\n",
    "Y = Y.astype('float')\n",
    "X.shape, Y.shape"
   ]
  },
  {
   "cell_type": "code",
   "execution_count": null,
   "metadata": {},
   "outputs": [],
   "source": []
  },
  {
   "cell_type": "markdown",
   "metadata": {},
   "source": [
    "## Scalam datele de intrare si de iesire intre valorile 0 si 1\n",
    "pentru aceasta apelam la minmaxscaller din pachetul scipy"
   ]
  },
  {
   "cell_type": "code",
   "execution_count": 113,
   "metadata": {},
   "outputs": [
    {
     "data": {
      "text/plain": [
       "(910, 21)"
      ]
     },
     "execution_count": 113,
     "metadata": {},
     "output_type": "execute_result"
    }
   ],
   "source": [
    "from sklearn import preprocessing\n",
    "min_max_scaler = preprocessing.MinMaxScaler()\n",
    "X_scale = min_max_scaler.fit_transform(X)\n",
    "X_scale.shape"
   ]
  },
  {
   "cell_type": "code",
   "execution_count": 114,
   "metadata": {},
   "outputs": [
    {
     "data": {
      "text/plain": [
       "0     False\n",
       "1     False\n",
       "2     False\n",
       "3     False\n",
       "4     False\n",
       "5     False\n",
       "6     False\n",
       "7     False\n",
       "8     False\n",
       "9     False\n",
       "10    False\n",
       "11    False\n",
       "12    False\n",
       "13    False\n",
       "14    False\n",
       "15    False\n",
       "16    False\n",
       "17    False\n",
       "18    False\n",
       "19    False\n",
       "20    False\n",
       "dtype: bool"
      ]
     },
     "execution_count": 114,
     "metadata": {},
     "output_type": "execute_result"
    }
   ],
   "source": [
    "d1 = pd.DataFrame(X_scale)\n",
    "d1.dropna(inplace=True)\n",
    "d1.isnull().any()"
   ]
  },
  {
   "cell_type": "markdown",
   "metadata": {},
   "source": [
    "## Impartim datele in data de training si date de test\n",
    "\n",
    "folosind regula 2/3 vs 1/3"
   ]
  },
  {
   "cell_type": "code",
   "execution_count": 115,
   "metadata": {},
   "outputs": [
    {
     "name": "stdout",
     "output_type": "stream",
     "text": [
      "(637, 21)\n",
      "(136, 21)\n",
      "(137, 21)\n",
      "(637,)\n",
      "(136,)\n"
     ]
    },
    {
     "data": {
      "text/plain": [
       "(array([[0.48051948, 0.20967742, 0.41176471, ..., 0.5       , 0.125     ,\n",
       "         0.19767442],\n",
       "        [0.48051948, 0.24193548, 0.58823529, ..., 0.6       , 0.25      ,\n",
       "         0.12790698],\n",
       "        [0.42857143, 0.19354839, 0.70588235, ..., 0.5       , 0.125     ,\n",
       "         0.39534884],\n",
       "        ...,\n",
       "        [0.32467532, 0.33870968, 0.35294118, ..., 0.4       , 0.125     ,\n",
       "         0.48837209],\n",
       "        [0.36363636, 0.12903226, 0.58823529, ..., 0.3       , 0.125     ,\n",
       "         0.51162791],\n",
       "        [0.05194805, 0.25806452, 0.70588235, ..., 0.4       , 0.25      ,\n",
       "         0.31395349]]),\n",
       " array([ 5.01,  7.13,  8.46, 11.41, 14.95,  7.84, 15.8 , 11.  , 14.73,\n",
       "         7.47,  8.  , 11.6 , 10.83, 11.44,  6.  , 15.77,  5.  ,  6.13,\n",
       "        12.76,  8.64,  4.  , 10.84, 10.22, 10.08,  9.44, 12.88,  7.24,\n",
       "        12.  , 12.75, 12.31,  1.19, 11.  ,  9.34, 11.  ,  5.34,  7.54,\n",
       "        13.27,  3.58, 10.48,  9.1 ,  9.  ,  9.18,  4.98,  8.  , 13.85,\n",
       "         8.22,  6.67,  5.  , 12.12, 10.27, 13.91, 13.4 , 12.68, 14.9 ,\n",
       "        15.  , 13.33,  8.12, 11.32, 13.63, 15.  ,  9.  , 10.62,  9.57,\n",
       "        11.56,  9.71,  0.  ,  2.76, 11.51,  2.  ,  7.  ,  8.46,  9.56,\n",
       "         5.31, 10.3 ,  6.  ,  4.41,  6.  ,  9.23, 17.83, 13.  , 14.  ,\n",
       "        12.  ,  8.58, 14.  ,  9.93,  7.3 , 11.56,  9.1 ,  8.43, 15.  ,\n",
       "        11.02, 13.85, 15.  ,  5.  , 11.  ,  0.  , 12.26,  8.11,  2.6 ,\n",
       "        14.  ,  3.28,  7.89,  8.49, 15.  , 13.91,  8.2 , 16.11, 12.52,\n",
       "         9.52,  4.08, 11.44,  8.  ,  8.  , 12.12, 15.76, 10.26,  8.68,\n",
       "        13.  , 11.  ,  8.75,  2.  , 13.72, 13.  ,  4.66, 13.88, 12.56,\n",
       "        13.  ,  1.  , 11.69, 14.41, 13.12, 13.07, 11.79, 14.58, 15.  ,\n",
       "         6.22,  9.46]))"
      ]
     },
     "execution_count": 115,
     "metadata": {},
     "output_type": "execute_result"
    }
   ],
   "source": [
    "from sklearn.model_selection import train_test_split\n",
    "X_train, X_val_and_test, Y_train, Y_val_and_test = train_test_split(X_scale, Y, test_size=0.3)\n",
    "X_val, X_test, Y_val, Y_test = train_test_split(X_val_and_test, Y_val_and_test, test_size=0.5)\n",
    "print(X_train.shape)\n",
    "print(X_val.shape)\n",
    "print(X_test.shape)\n",
    "print(Y_train.shape)\n",
    "print(Y_val.shape)\n",
    "\n",
    "X_test, Y_test"
   ]
  },
  {
   "cell_type": "markdown",
   "metadata": {},
   "source": [
    "## Cream modelul ML\n",
    "1 strat de intrare de dimensiunea dictata de numarul de parametrii folositi (22)\n",
    "\n",
    "1 strat ascuns dim 77 folosind modelul de activare ReLU\n",
    "\n",
    "1 strat ascuns dim 77 folosind modelul de activare ReLU\n",
    "\n",
    "1 strat de iesire dim 1 folosind un model de activare de tip sigmoid\n",
    "\n"
   ]
  },
  {
   "cell_type": "code",
   "execution_count": 125,
   "metadata": {},
   "outputs": [
    {
     "name": "stdout",
     "output_type": "stream",
     "text": [
      "Train on 637 samples, validate on 136 samples\n",
      "Epoch 1/100\n",
      "637/637 [==============================] - 2s 3ms/step - loss: 0.0180 - val_loss: 0.0148\n",
      "Epoch 2/100\n",
      "637/637 [==============================] - 0s 155us/step - loss: 0.0154 - val_loss: 0.0148\n",
      "Epoch 3/100\n",
      "637/637 [==============================] - 0s 157us/step - loss: 0.0134 - val_loss: 0.0147\n",
      "Epoch 4/100\n",
      "637/637 [==============================] - 0s 152us/step - loss: 0.0127 - val_loss: 0.0147\n",
      "Epoch 5/100\n",
      "637/637 [==============================] - 0s 143us/step - loss: 0.0126 - val_loss: 0.0147\n",
      "Epoch 6/100\n",
      "637/637 [==============================] - 0s 148us/step - loss: 0.0126 - val_loss: 0.0147\n",
      "Epoch 7/100\n",
      "637/637 [==============================] - 0s 140us/step - loss: 0.0126 - val_loss: 0.0147\n",
      "Epoch 8/100\n",
      "637/637 [==============================] - 0s 151us/step - loss: 0.0126 - val_loss: 0.0147\n",
      "Epoch 9/100\n",
      "637/637 [==============================] - 0s 133us/step - loss: 0.0126 - val_loss: 0.0147\n",
      "Epoch 10/100\n",
      "637/637 [==============================] - 0s 135us/step - loss: 0.0126 - val_loss: 0.0147\n",
      "Epoch 11/100\n",
      "637/637 [==============================] - 0s 135us/step - loss: 0.0126 - val_loss: 0.0147\n",
      "Epoch 12/100\n",
      "637/637 [==============================] - 0s 133us/step - loss: 0.0126 - val_loss: 0.0147\n",
      "Epoch 13/100\n",
      "637/637 [==============================] - 0s 140us/step - loss: 0.0126 - val_loss: 0.0147\n",
      "Epoch 14/100\n",
      "637/637 [==============================] - 0s 135us/step - loss: 0.0126 - val_loss: 0.0147\n",
      "Epoch 15/100\n",
      "637/637 [==============================] - 0s 126us/step - loss: 0.0126 - val_loss: 0.0147\n",
      "Epoch 16/100\n",
      "637/637 [==============================] - 0s 132us/step - loss: 0.0126 - val_loss: 0.0147\n",
      "Epoch 17/100\n",
      "637/637 [==============================] - 0s 126us/step - loss: 0.0126 - val_loss: 0.0147\n",
      "Epoch 18/100\n",
      "637/637 [==============================] - 0s 129us/step - loss: 0.0126 - val_loss: 0.0147\n",
      "Epoch 19/100\n",
      "637/637 [==============================] - 0s 135us/step - loss: 0.0126 - val_loss: 0.0147\n",
      "Epoch 20/100\n",
      "637/637 [==============================] - 0s 129us/step - loss: 0.0126 - val_loss: 0.0147\n",
      "Epoch 21/100\n",
      "637/637 [==============================] - 0s 132us/step - loss: 0.0126 - val_loss: 0.0147\n",
      "Epoch 22/100\n",
      "637/637 [==============================] - 0s 130us/step - loss: 0.0126 - val_loss: 0.0147\n",
      "Epoch 23/100\n",
      "637/637 [==============================] - 0s 143us/step - loss: 0.0126 - val_loss: 0.0147\n",
      "Epoch 24/100\n",
      "637/637 [==============================] - 0s 129us/step - loss: 0.0126 - val_loss: 0.0147\n",
      "Epoch 25/100\n",
      "637/637 [==============================] - 0s 133us/step - loss: 0.0126 - val_loss: 0.0147\n",
      "Epoch 26/100\n",
      "637/637 [==============================] - 0s 130us/step - loss: 0.0126 - val_loss: 0.0147\n",
      "Epoch 27/100\n",
      "637/637 [==============================] - 0s 133us/step - loss: 0.0126 - val_loss: 0.0147\n",
      "Epoch 28/100\n",
      "637/637 [==============================] - 0s 129us/step - loss: 0.0126 - val_loss: 0.0147\n",
      "Epoch 29/100\n",
      "637/637 [==============================] - 0s 137us/step - loss: 0.0126 - val_loss: 0.0147\n",
      "Epoch 30/100\n",
      "637/637 [==============================] - 0s 133us/step - loss: 0.0126 - val_loss: 0.0147\n",
      "Epoch 31/100\n",
      "637/637 [==============================] - 0s 127us/step - loss: 0.0126 - val_loss: 0.0147\n",
      "Epoch 32/100\n",
      "637/637 [==============================] - 0s 133us/step - loss: 0.0126 - val_loss: 0.0147\n",
      "Epoch 33/100\n",
      "637/637 [==============================] - 0s 135us/step - loss: 0.0126 - val_loss: 0.0147\n",
      "Epoch 34/100\n",
      "637/637 [==============================] - 0s 532us/step - loss: 0.0126 - val_loss: 0.0147\n",
      "Epoch 35/100\n",
      "637/637 [==============================] - 0s 432us/step - loss: 0.0126 - val_loss: 0.0147\n",
      "Epoch 36/100\n",
      "637/637 [==============================] - ETA: 0s - loss: 0.0183    - 0s 177us/step - loss: 0.0126 - val_loss: 0.0147\n",
      "Epoch 37/100\n",
      "637/637 [==============================] - 0s 159us/step - loss: 0.0126 - val_loss: 0.0147\n",
      "Epoch 38/100\n",
      "637/637 [==============================] - 0s 157us/step - loss: 0.0126 - val_loss: 0.0147\n",
      "Epoch 39/100\n",
      "637/637 [==============================] - 0s 141us/step - loss: 0.0126 - val_loss: 0.0147\n",
      "Epoch 40/100\n",
      "637/637 [==============================] - 0s 149us/step - loss: 0.0126 - val_loss: 0.0147\n",
      "Epoch 41/100\n",
      "637/637 [==============================] - 0s 166us/step - loss: 0.0126 - val_loss: 0.0147\n",
      "Epoch 42/100\n",
      "637/637 [==============================] - 0s 179us/step - loss: 0.0126 - val_loss: 0.0147\n",
      "Epoch 43/100\n",
      "637/637 [==============================] - 0s 166us/step - loss: 0.0126 - val_loss: 0.0147\n",
      "Epoch 44/100\n",
      "637/637 [==============================] - 0s 157us/step - loss: 0.0126 - val_loss: 0.0147\n",
      "Epoch 45/100\n",
      "637/637 [==============================] - 0s 155us/step - loss: 0.0126 - val_loss: 0.0147\n",
      "Epoch 46/100\n",
      "637/637 [==============================] - 0s 173us/step - loss: 0.0126 - val_loss: 0.0147\n",
      "Epoch 47/100\n",
      "637/637 [==============================] - 0s 140us/step - loss: 0.0126 - val_loss: 0.0147\n",
      "Epoch 48/100\n",
      "637/637 [==============================] - 0s 155us/step - loss: 0.0126 - val_loss: 0.0147\n",
      "Epoch 49/100\n",
      "637/637 [==============================] - 0s 176us/step - loss: 0.0126 - val_loss: 0.0147\n",
      "Epoch 50/100\n",
      "637/637 [==============================] - 0s 157us/step - loss: 0.0126 - val_loss: 0.0147\n",
      "Epoch 51/100\n",
      "637/637 [==============================] - 0s 157us/step - loss: 0.0126 - val_loss: 0.0147\n",
      "Epoch 52/100\n",
      "637/637 [==============================] - 0s 159us/step - loss: 0.0126 - val_loss: 0.0147\n",
      "Epoch 53/100\n",
      "637/637 [==============================] - 0s 163us/step - loss: 0.0126 - val_loss: 0.0147\n",
      "Epoch 54/100\n",
      "637/637 [==============================] - 0s 124us/step - loss: 0.0126 - val_loss: 0.0147\n",
      "Epoch 55/100\n",
      "637/637 [==============================] - 0s 127us/step - loss: 0.0126 - val_loss: 0.0147\n",
      "Epoch 56/100\n",
      "637/637 [==============================] - 0s 132us/step - loss: 0.0126 - val_loss: 0.0147\n",
      "Epoch 57/100\n",
      "637/637 [==============================] - 0s 126us/step - loss: 0.0126 - val_loss: 0.0147\n",
      "Epoch 58/100\n",
      "637/637 [==============================] - 0s 228us/step - loss: 0.0126 - val_loss: 0.0147\n",
      "Epoch 59/100\n",
      "637/637 [==============================] - 0s 127us/step - loss: 0.0126 - val_loss: 0.0147\n",
      "Epoch 60/100\n",
      "637/637 [==============================] - 0s 133us/step - loss: 0.0126 - val_loss: 0.0147\n",
      "Epoch 61/100\n",
      "637/637 [==============================] - 0s 127us/step - loss: 0.0126 - val_loss: 0.0147\n",
      "Epoch 62/100\n",
      "637/637 [==============================] - 0s 124us/step - loss: 0.0126 - val_loss: 0.0147\n",
      "Epoch 63/100\n",
      "637/637 [==============================] - 0s 129us/step - loss: 0.0126 - val_loss: 0.0147\n",
      "Epoch 64/100\n",
      "637/637 [==============================] - 0s 212us/step - loss: 0.0126 - val_loss: 0.0147\n",
      "Epoch 65/100\n",
      "637/637 [==============================] - 0s 151us/step - loss: 0.0126 - val_loss: 0.0147\n",
      "Epoch 66/100\n",
      "637/637 [==============================] - 0s 165us/step - loss: 0.0126 - val_loss: 0.0147\n",
      "Epoch 67/100\n",
      "637/637 [==============================] - 0s 146us/step - loss: 0.0126 - val_loss: 0.0147\n",
      "Epoch 68/100\n",
      "637/637 [==============================] - 0s 140us/step - loss: 0.0126 - val_loss: 0.0147\n",
      "Epoch 69/100\n",
      "637/637 [==============================] - 0s 144us/step - loss: 0.0126 - val_loss: 0.0147\n",
      "Epoch 70/100\n",
      "637/637 [==============================] - 0s 127us/step - loss: 0.0126 - val_loss: 0.0147\n",
      "Epoch 71/100\n",
      "637/637 [==============================] - 0s 132us/step - loss: 0.0126 - val_loss: 0.0147\n",
      "Epoch 72/100\n",
      "637/637 [==============================] - 0s 127us/step - loss: 0.0126 - val_loss: 0.0147\n",
      "Epoch 73/100\n",
      "637/637 [==============================] - 0s 133us/step - loss: 0.0126 - val_loss: 0.0147\n",
      "Epoch 74/100\n",
      "637/637 [==============================] - 0s 132us/step - loss: 0.0126 - val_loss: 0.0147\n",
      "Epoch 75/100\n",
      "637/637 [==============================] - 0s 124us/step - loss: 0.0126 - val_loss: 0.0147\n",
      "Epoch 76/100\n",
      "637/637 [==============================] - 0s 144us/step - loss: 0.0126 - val_loss: 0.0147\n",
      "Epoch 77/100\n",
      "637/637 [==============================] - 0s 132us/step - loss: 0.0126 - val_loss: 0.0147\n",
      "Epoch 78/100\n",
      "637/637 [==============================] - 0s 157us/step - loss: 0.0126 - val_loss: 0.0147\n",
      "Epoch 79/100\n"
     ]
    },
    {
     "name": "stdout",
     "output_type": "stream",
     "text": [
      "637/637 [==============================] - 0s 213us/step - loss: 0.0126 - val_loss: 0.0147\n",
      "Epoch 80/100\n",
      "637/637 [==============================] - 0s 118us/step - loss: 0.0126 - val_loss: 0.0147\n",
      "Epoch 81/100\n",
      "637/637 [==============================] - 0s 129us/step - loss: 0.0126 - val_loss: 0.0147\n",
      "Epoch 82/100\n",
      "637/637 [==============================] - 0s 116us/step - loss: 0.0126 - val_loss: 0.0147\n",
      "Epoch 83/100\n",
      "637/637 [==============================] - 0s 133us/step - loss: 0.0126 - val_loss: 0.0147\n",
      "Epoch 84/100\n",
      "637/637 [==============================] - 0s 143us/step - loss: 0.0126 - val_loss: 0.0147\n",
      "Epoch 85/100\n",
      "637/637 [==============================] - 0s 138us/step - loss: 0.0126 - val_loss: 0.0147\n",
      "Epoch 86/100\n",
      "637/637 [==============================] - 0s 133us/step - loss: 0.0126 - val_loss: 0.0147\n",
      "Epoch 87/100\n",
      "637/637 [==============================] - 0s 130us/step - loss: 0.0126 - val_loss: 0.0147\n",
      "Epoch 88/100\n",
      "637/637 [==============================] - 0s 129us/step - loss: 0.0126 - val_loss: 0.0147\n",
      "Epoch 89/100\n",
      "637/637 [==============================] - 0s 132us/step - loss: 0.0126 - val_loss: 0.0147\n",
      "Epoch 90/100\n",
      "637/637 [==============================] - 0s 126us/step - loss: 0.0126 - val_loss: 0.0147\n",
      "Epoch 91/100\n",
      "637/637 [==============================] - 0s 140us/step - loss: 0.0126 - val_loss: 0.0147\n",
      "Epoch 92/100\n",
      "637/637 [==============================] - 0s 129us/step - loss: 0.0126 - val_loss: 0.0147\n",
      "Epoch 93/100\n",
      "637/637 [==============================] - 0s 133us/step - loss: 0.0126 - val_loss: 0.0147\n",
      "Epoch 94/100\n",
      "637/637 [==============================] - 0s 130us/step - loss: 0.0126 - val_loss: 0.0147\n",
      "Epoch 95/100\n",
      "637/637 [==============================] - 0s 133us/step - loss: 0.0126 - val_loss: 0.0147\n",
      "Epoch 96/100\n",
      "637/637 [==============================] - 0s 124us/step - loss: 0.0126 - val_loss: 0.0147\n",
      "Epoch 97/100\n",
      "637/637 [==============================] - 0s 118us/step - loss: 0.0126 - val_loss: 0.0147\n",
      "Epoch 98/100\n",
      "637/637 [==============================] - 0s 127us/step - loss: 0.0126 - val_loss: 0.0147\n",
      "Epoch 99/100\n",
      "637/637 [==============================] - 0s 127us/step - loss: 0.0126 - val_loss: 0.0147\n",
      "Epoch 100/100\n",
      "637/637 [==============================] - 0s 119us/step - loss: 0.0126 - val_loss: 0.0147\n"
     ]
    }
   ],
   "source": [
    "from keras.models import Sequential\n",
    "from keras.layers import Dense\n",
    "from keras.optimizers import Adam\n",
    "model = Sequential([\n",
    "    Dense(77, activation='relu', kernel_initializer='uniform', input_shape=(21,)),\n",
    "    Dense(77, activation='relu'),\n",
    "    Dense(1, activation='sigmoid'),\n",
    "])\n",
    "opt = Adam(lr=1e-3, decay=1e-3 / 200)\n",
    "\n",
    "#model.compile(optimizer='Adadelta', loss='binary_crossentropy',metrics=['accuracy'])\n",
    "model.compile(optimizer='adam', loss='hinge')\n",
    "#model.compile(optimizer='adam', loss='binary_crossentropy')\n",
    "#model.compile(optimizer='adam', loss='mean_squared_logarithmic_error')\n",
    "# model.compile(optimizer='rmsprop', loss=\"mean_absolute_percentage_error\")\n",
    "hist = model.fit(X_train, Y_train,\n",
    "          batch_size=21, epochs=100,\n",
    "          validation_data=(X_val, Y_val))"
   ]
  },
  {
   "cell_type": "code",
   "execution_count": 127,
   "metadata": {},
   "outputs": [
    {
     "data": {
      "image/png": "[encoded data removed]",
      "text/plain": [
       "<Figure size 432x288 with 1 Axes>"
      ]
     },
     "metadata": {
      "needs_background": "light"
     },
     "output_type": "display_data"
    }
   ],
   "source": [
    "import matplotlib.pyplot as plt\n",
    "plt.plot(hist.history['loss'])\n",
    "plt.plot(hist.history['val_loss'])\n",
    "plt.title('Model loss')\n",
    "plt.ylabel('Loss')\n",
    "plt.xlabel('Epoch')\n",
    "plt.legend(['Train', 'Val'], loc='upper right')\n",
    "plt.show()"
   ]
  },
  {
   "cell_type": "code",
   "execution_count": 129,
   "metadata": {},
   "outputs": [
    {
     "ename": "KeyError",
     "evalue": "'acc'",
     "output_type": "error",
     "traceback": [
      "\u001b[1;31m---------------------------------------------------------------------------\u001b[0m",
      "\u001b[1;31mKeyError\u001b[0m                                  Traceback (most recent call last)",
      "\u001b[1;32m<ipython-input-129-84d24d69b6e4>\u001b[0m in \u001b[0;36m<module>\u001b[1;34m\u001b[0m\n\u001b[1;32m----> 1\u001b[1;33m \u001b[0mplt\u001b[0m\u001b[1;33m.\u001b[0m\u001b[0mplot\u001b[0m\u001b[1;33m(\u001b[0m\u001b[0mhist\u001b[0m\u001b[1;33m.\u001b[0m\u001b[0mhistory\u001b[0m\u001b[1;33m[\u001b[0m\u001b[1;34m'acc'\u001b[0m\u001b[1;33m]\u001b[0m\u001b[1;33m)\u001b[0m\u001b[1;33m\u001b[0m\u001b[1;33m\u001b[0m\u001b[0m\n\u001b[0m\u001b[0;32m      2\u001b[0m \u001b[0mplt\u001b[0m\u001b[1;33m.\u001b[0m\u001b[0mplot\u001b[0m\u001b[1;33m(\u001b[0m\u001b[0mhist\u001b[0m\u001b[1;33m.\u001b[0m\u001b[0mhistory\u001b[0m\u001b[1;33m[\u001b[0m\u001b[1;34m'val_acc'\u001b[0m\u001b[1;33m]\u001b[0m\u001b[1;33m)\u001b[0m\u001b[1;33m\u001b[0m\u001b[1;33m\u001b[0m\u001b[0m\n\u001b[0;32m      3\u001b[0m \u001b[0mplt\u001b[0m\u001b[1;33m.\u001b[0m\u001b[0mtitle\u001b[0m\u001b[1;33m(\u001b[0m\u001b[1;34m'Model accuracy'\u001b[0m\u001b[1;33m)\u001b[0m\u001b[1;33m\u001b[0m\u001b[1;33m\u001b[0m\u001b[0m\n\u001b[0;32m      4\u001b[0m \u001b[0mplt\u001b[0m\u001b[1;33m.\u001b[0m\u001b[0mylabel\u001b[0m\u001b[1;33m(\u001b[0m\u001b[1;34m'Accuracy'\u001b[0m\u001b[1;33m)\u001b[0m\u001b[1;33m\u001b[0m\u001b[1;33m\u001b[0m\u001b[0m\n\u001b[0;32m      5\u001b[0m \u001b[0mplt\u001b[0m\u001b[1;33m.\u001b[0m\u001b[0mxlabel\u001b[0m\u001b[1;33m(\u001b[0m\u001b[1;34m'Epoch'\u001b[0m\u001b[1;33m)\u001b[0m\u001b[1;33m\u001b[0m\u001b[1;33m\u001b[0m\u001b[0m\n",
      "\u001b[1;31mKeyError\u001b[0m: 'acc'"
     ]
    }
   ],
   "source": [
    "plt.plot(hist.history['acc'])\n",
    "plt.plot(hist.history['val_acc'])\n",
    "plt.title('Model accuracy')\n",
    "plt.ylabel('Accuracy')\n",
    "plt.xlabel('Epoch')\n",
    "plt.legend(['Train', 'Val'], loc='lower right')\n",
    "plt.show()"
   ]
  },
  {
   "cell_type": "code",
   "execution_count": null,
   "metadata": {},
   "outputs": [],
   "source": []
  },
  {
   "cell_type": "code",
   "execution_count": null,
   "metadata": {},
   "outputs": [],
   "source": []
  },
  {
   "cell_type": "code",
   "execution_count": null,
   "metadata": {},
   "outputs": [],
   "source": []
  },
  {
   "cell_type": "code",
   "execution_count": null,
   "metadata": {},
   "outputs": [],
   "source": []
  }
 ],
 "metadata": {
  "kernelspec": {
   "display_name": "Python 3",
   "language": "python",
   "name": "python3"
  },
  "language_info": {
   "codemirror_mode": {
    "name": "ipython",
    "version": 3
   },
   "file_extension": ".py",
   "mimetype": "text/x-python",
   "name": "python",
   "nbconvert_exporter": "python",
   "pygments_lexer": "ipython3",
   "version": "3.7.4"
  }
 },
 "nbformat": 4,
 "nbformat_minor": 2
}
