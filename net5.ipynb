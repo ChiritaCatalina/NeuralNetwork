{
 "cells": [
  {
   "cell_type": "markdown",
   "metadata": {},
   "source": [
    "# Model de predictie multiparametru\n",
    "\n",
    "Modelul nostru citeste un fisier Excel si imparte datele de intrare in elemente de intrare si elemente de iesire. Elementele de intrare au 24 de caracteristici pe care le urmeaza."
   ]
  },
  {
   "cell_type": "code",
   "execution_count": 1,
   "metadata": {},
   "outputs": [
    {
     "name": "stdout",
     "output_type": "stream",
     "text": [
      "X:  (918, 24), Y: (918,)\n"
     ]
    }
   ],
   "source": [
    "import pandas as pd\n",
    "df = pd.read_excel(r'Copy of Extraction PT4 14x59 din 2016 pana in prezent - analysis S1928 (003).xlsx', sheet_name='TL4 -40 Nm' )\n",
    "dataset = df.values\n",
    "\n",
    "X = dataset[1:,23:47]\n",
    "Y = dataset[1:,14]\n",
    "X = X.astype('float')\n",
    "Y = Y.astype('float')\n",
    "print(\"X:  %s, Y: %s\" % (X.shape, Y.shape))"
   ]
  },
  {
   "cell_type": "code",
   "execution_count": 2,
   "metadata": {},
   "outputs": [
    {
     "name": "stdout",
     "output_type": "stream",
     "text": [
      "(911, 23) (911, 1)\n"
     ]
    }
   ],
   "source": [
    "Xdf = pd.DataFrame(X)\n",
    "Ydf = pd.DataFrame(Y)\n",
    "Xdf.drop(22, axis=1,inplace=True)\n",
    "Xdf[24] = Ydf[0]\n",
    "Ydf.plot()\n",
    "Xdf.dropna(inplace=True)\n",
    "td = Xdf.values\n",
    "X = td[0:, :-1]\n",
    "Y = td[0:, -1:]\n",
    "X = X.astype('float')\n",
    "Y = Y.astype('float')\n",
    "print(X.shape, Y.shape)"
   ]
  },
  {
   "cell_type": "markdown",
   "metadata": {},
   "source": [
    "### Normalizarea datelor\n",
    "Este necesara extragerea din dataset a valorilor de intrare care au valoare NaN.\n",
    "De asemenea, am ignorat parametrii care nu varieaza in dataset."
   ]
  },
  {
   "cell_type": "code",
   "execution_count": 3,
   "metadata": {},
   "outputs": [
    {
     "data": {
      "text/plain": [
       "((911, 23), (911, 1))"
      ]
     },
     "execution_count": 3,
     "metadata": {},
     "output_type": "execute_result"
    }
   ],
   "source": [
    "X.shape, Y.shape"
   ]
  },
  {
   "cell_type": "markdown",
   "metadata": {},
   "source": [
    "## Scalam datele de intrare si de iesire intre valorile 0 si 1\n",
    "pentru aceasta apelam la minmaxscaller din pachetul scipy"
   ]
  },
  {
   "cell_type": "code",
   "execution_count": 4,
   "metadata": {},
   "outputs": [
    {
     "data": {
      "text/plain": [
       "((911, 23), (911, 1))"
      ]
     },
     "execution_count": 4,
     "metadata": {},
     "output_type": "execute_result"
    }
   ],
   "source": [
    "from sklearn import preprocessing\n",
    "min_max_scaler = preprocessing.MinMaxScaler()\n",
    "X_scale = min_max_scaler.fit_transform(X)\n",
    "Y_scaler = preprocessing.MinMaxScaler()\n",
    "Y_scale = Y_scaler.fit_transform(Y)\n",
    "\n",
    "X_scale.shape, Y_scale.shape"
   ]
  },
  {
   "cell_type": "markdown",
   "metadata": {},
   "source": [
    "## Impartim datele in data de training si date de test\n"
   ]
  },
  {
   "cell_type": "code",
   "execution_count": 5,
   "metadata": {},
   "outputs": [
    {
     "name": "stdout",
     "output_type": "stream",
     "text": [
      "(637, 23)\n",
      "(137, 23)\n",
      "(137, 23)\n",
      "(637, 1)\n",
      "(137, 1)\n"
     ]
    }
   ],
   "source": [
    "from sklearn.model_selection import train_test_split\n",
    "X_train, X_val_and_test, Y_train, Y_val_and_test = train_test_split(X_scale, Y_scale, test_size=0.3)\n",
    "X_val, X_test, Y_val, Y_test = train_test_split(X_val_and_test, Y_val_and_test, test_size=0.5)\n",
    "print(X_train.shape)\n",
    "print(X_val.shape)\n",
    "print(X_test.shape)\n",
    "print(Y_train.shape)\n",
    "print(Y_val.shape)"
   ]
  },
  {
   "cell_type": "markdown",
   "metadata": {},
   "source": [
    "## Cream modelul ML\n",
    "1 strat de intrare de dimensiunea dictata de numarul de parametrii folositi (22)\n",
    "\n",
    "1 strat ascuns dim 77 folosind modelul de activare ReLU\n",
    "\n",
    "1 strat ascuns dim 77 folosind modelul de activare ReLU\n",
    "\n",
    "1 strat de iesire dim 1 folosind un model de activare de tip sigmoid\n",
    "\n"
   ]
  },
  {
   "cell_type": "code",
   "execution_count": 6,
   "metadata": {},
   "outputs": [
    {
     "name": "stderr",
     "output_type": "stream",
     "text": [
      "Using TensorFlow backend.\n",
      "WARNING: Logging before flag parsing goes to stderr.\n",
      "W0917 09:16:30.586233  7292 deprecation_wrapper.py:119] From C:\\Users\\Alecs\\Anaconda3\\envs\\CChirita\\lib\\site-packages\\keras\\backend\\tensorflow_backend.py:74: The name tf.get_default_graph is deprecated. Please use tf.compat.v1.get_default_graph instead.\n",
      "\n",
      "W0917 09:16:30.614234  7292 deprecation_wrapper.py:119] From C:\\Users\\Alecs\\Anaconda3\\envs\\CChirita\\lib\\site-packages\\keras\\backend\\tensorflow_backend.py:517: The name tf.placeholder is deprecated. Please use tf.compat.v1.placeholder instead.\n",
      "\n",
      "W0917 09:16:30.617232  7292 deprecation_wrapper.py:119] From C:\\Users\\Alecs\\Anaconda3\\envs\\CChirita\\lib\\site-packages\\keras\\backend\\tensorflow_backend.py:4138: The name tf.random_uniform is deprecated. Please use tf.random.uniform instead.\n",
      "\n",
      "W0917 09:16:30.636236  7292 deprecation_wrapper.py:119] From C:\\Users\\Alecs\\Anaconda3\\envs\\CChirita\\lib\\site-packages\\keras\\backend\\tensorflow_backend.py:133: The name tf.placeholder_with_default is deprecated. Please use tf.compat.v1.placeholder_with_default instead.\n",
      "\n",
      "W0917 09:16:30.644232  7292 deprecation.py:506] From C:\\Users\\Alecs\\Anaconda3\\envs\\CChirita\\lib\\site-packages\\keras\\backend\\tensorflow_backend.py:3445: calling dropout (from tensorflow.python.ops.nn_ops) with keep_prob is deprecated and will be removed in a future version.\n",
      "Instructions for updating:\n",
      "Please use `rate` instead of `keep_prob`. Rate should be set to `rate = 1 - keep_prob`.\n",
      "W0917 09:16:30.751233  7292 deprecation_wrapper.py:119] From C:\\Users\\Alecs\\Anaconda3\\envs\\CChirita\\lib\\site-packages\\keras\\optimizers.py:790: The name tf.train.Optimizer is deprecated. Please use tf.compat.v1.train.Optimizer instead.\n",
      "\n",
      "W0917 09:16:31.023229  7292 deprecation_wrapper.py:119] From C:\\Users\\Alecs\\Anaconda3\\envs\\CChirita\\lib\\site-packages\\keras\\backend\\tensorflow_backend.py:986: The name tf.assign_add is deprecated. Please use tf.compat.v1.assign_add instead.\n",
      "\n"
     ]
    },
    {
     "name": "stdout",
     "output_type": "stream",
     "text": [
      "Train on 637 samples, validate on 137 samples\n",
      "Epoch 1/100\n",
      "637/637 [==============================] - 1s 2ms/step - loss: 0.6069 - mean_absolute_error: 0.1747 - val_loss: 0.3496 - val_mean_absolute_error: 0.1544\n",
      "Epoch 2/100\n",
      "637/637 [==============================] - 0s 118us/step - loss: 0.2536 - mean_absolute_error: 0.1709 - val_loss: 0.1730 - val_mean_absolute_error: 0.1556\n",
      "Epoch 3/100\n",
      "637/637 [==============================] - 0s 119us/step - loss: 0.1567 - mean_absolute_error: 0.1713 - val_loss: 0.1330 - val_mean_absolute_error: 0.1556\n",
      "Epoch 4/100\n",
      "637/637 [==============================] - 0s 144us/step - loss: 0.1335 - mean_absolute_error: 0.1707 - val_loss: 0.1197 - val_mean_absolute_error: 0.1547\n",
      "Epoch 5/100\n",
      "637/637 [==============================] - 0s 151us/step - loss: 0.1226 - mean_absolute_error: 0.1701 - val_loss: 0.1103 - val_mean_absolute_error: 0.1547\n",
      "Epoch 6/100\n",
      "637/637 [==============================] - 0s 159us/step - loss: 0.1138 - mean_absolute_error: 0.1699 - val_loss: 0.1020 - val_mean_absolute_error: 0.1544\n",
      "Epoch 7/100\n",
      "637/637 [==============================] - 0s 140us/step - loss: 0.1059 - mean_absolute_error: 0.1700 - val_loss: 0.0946 - val_mean_absolute_error: 0.1541\n",
      "Epoch 8/100\n",
      "637/637 [==============================] - 0s 135us/step - loss: 0.0989 - mean_absolute_error: 0.1693 - val_loss: 0.0880 - val_mean_absolute_error: 0.1540\n",
      "Epoch 9/100\n",
      "637/637 [==============================] - 0s 137us/step - loss: 0.0928 - mean_absolute_error: 0.1695 - val_loss: 0.0821 - val_mean_absolute_error: 0.1538\n",
      "Epoch 10/100\n",
      "637/637 [==============================] - 0s 122us/step - loss: 0.0870 - mean_absolute_error: 0.1686 - val_loss: 0.0768 - val_mean_absolute_error: 0.1535\n",
      "Epoch 11/100\n",
      "637/637 [==============================] - 0s 119us/step - loss: 0.0822 - mean_absolute_error: 0.1697 - val_loss: 0.0721 - val_mean_absolute_error: 0.1535\n",
      "Epoch 12/100\n",
      "637/637 [==============================] - 0s 135us/step - loss: 0.0779 - mean_absolute_error: 0.1696 - val_loss: 0.0679 - val_mean_absolute_error: 0.1536\n",
      "Epoch 13/100\n",
      "637/637 [==============================] - 0s 152us/step - loss: 0.0736 - mean_absolute_error: 0.1685 - val_loss: 0.0641 - val_mean_absolute_error: 0.1533\n",
      "Epoch 14/100\n",
      "637/637 [==============================] - 0s 149us/step - loss: 0.0704 - mean_absolute_error: 0.1690 - val_loss: 0.0608 - val_mean_absolute_error: 0.1533\n",
      "Epoch 15/100\n",
      "637/637 [==============================] - 0s 141us/step - loss: 0.0667 - mean_absolute_error: 0.1679 - val_loss: 0.0578 - val_mean_absolute_error: 0.1530\n",
      "Epoch 16/100\n",
      "637/637 [==============================] - 0s 132us/step - loss: 0.0641 - mean_absolute_error: 0.1682 - val_loss: 0.0552 - val_mean_absolute_error: 0.1532\n",
      "Epoch 17/100\n",
      "637/637 [==============================] - 0s 135us/step - loss: 0.0616 - mean_absolute_error: 0.1681 - val_loss: 0.0528 - val_mean_absolute_error: 0.1531\n",
      "Epoch 18/100\n",
      "637/637 [==============================] - 0s 133us/step - loss: 0.0594 - mean_absolute_error: 0.1685 - val_loss: 0.0508 - val_mean_absolute_error: 0.1531\n",
      "Epoch 19/100\n",
      "637/637 [==============================] - 0s 126us/step - loss: 0.0573 - mean_absolute_error: 0.1680 - val_loss: 0.0489 - val_mean_absolute_error: 0.1530\n",
      "Epoch 20/100\n",
      "637/637 [==============================] - 0s 116us/step - loss: 0.0556 - mean_absolute_error: 0.1678 - val_loss: 0.0472 - val_mean_absolute_error: 0.1529\n",
      "Epoch 21/100\n",
      "637/637 [==============================] - 0s 118us/step - loss: 0.0540 - mean_absolute_error: 0.1682 - val_loss: 0.0458 - val_mean_absolute_error: 0.1529\n",
      "Epoch 22/100\n",
      "637/637 [==============================] - 0s 119us/step - loss: 0.0528 - mean_absolute_error: 0.1679 - val_loss: 0.0445 - val_mean_absolute_error: 0.1528\n",
      "Epoch 23/100\n",
      "637/637 [==============================] - 0s 115us/step - loss: 0.0515 - mean_absolute_error: 0.1679 - val_loss: 0.0433 - val_mean_absolute_error: 0.1529\n",
      "Epoch 24/100\n",
      "637/637 [==============================] - 0s 118us/step - loss: 0.0504 - mean_absolute_error: 0.1677 - val_loss: 0.0423 - val_mean_absolute_error: 0.1528\n",
      "Epoch 25/100\n",
      "637/637 [==============================] - 0s 141us/step - loss: 0.0495 - mean_absolute_error: 0.1684 - val_loss: 0.0414 - val_mean_absolute_error: 0.1528\n",
      "Epoch 26/100\n",
      "637/637 [==============================] - 0s 149us/step - loss: 0.0487 - mean_absolute_error: 0.1681 - val_loss: 0.0407 - val_mean_absolute_error: 0.1528\n",
      "Epoch 27/100\n",
      "637/637 [==============================] - 0s 149us/step - loss: 0.0479 - mean_absolute_error: 0.1680 - val_loss: 0.0399 - val_mean_absolute_error: 0.1528\n",
      "Epoch 28/100\n",
      "637/637 [==============================] - 0s 137us/step - loss: 0.0471 - mean_absolute_error: 0.1679 - val_loss: 0.0393 - val_mean_absolute_error: 0.1527\n",
      "Epoch 29/100\n",
      "637/637 [==============================] - 0s 130us/step - loss: 0.0466 - mean_absolute_error: 0.1678 - val_loss: 0.0388 - val_mean_absolute_error: 0.1527\n",
      "Epoch 30/100\n",
      "637/637 [==============================] - 0s 130us/step - loss: 0.0462 - mean_absolute_error: 0.1681 - val_loss: 0.0383 - val_mean_absolute_error: 0.1527\n",
      "Epoch 31/100\n",
      "637/637 [==============================] - 0s 124us/step - loss: 0.0458 - mean_absolute_error: 0.1682 - val_loss: 0.0379 - val_mean_absolute_error: 0.1527\n",
      "Epoch 32/100\n",
      "637/637 [==============================] - 0s 115us/step - loss: 0.0454 - mean_absolute_error: 0.1678 - val_loss: 0.0375 - val_mean_absolute_error: 0.1527\n",
      "Epoch 33/100\n",
      "637/637 [==============================] - 0s 116us/step - loss: 0.0450 - mean_absolute_error: 0.1678 - val_loss: 0.0372 - val_mean_absolute_error: 0.1527\n",
      "Epoch 34/100\n",
      "637/637 [==============================] - 0s 116us/step - loss: 0.0448 - mean_absolute_error: 0.1682 - val_loss: 0.0369 - val_mean_absolute_error: 0.1527\n",
      "Epoch 35/100\n",
      "637/637 [==============================] - 0s 119us/step - loss: 0.0445 - mean_absolute_error: 0.1683 - val_loss: 0.0366 - val_mean_absolute_error: 0.1527\n",
      "Epoch 36/100\n",
      "637/637 [==============================] - 0s 119us/step - loss: 0.0441 - mean_absolute_error: 0.1679 - val_loss: 0.0364 - val_mean_absolute_error: 0.1526\n",
      "Epoch 37/100\n",
      "637/637 [==============================] - 0s 116us/step - loss: 0.0438 - mean_absolute_error: 0.1678 - val_loss: 0.0362 - val_mean_absolute_error: 0.1526\n",
      "Epoch 38/100\n",
      "637/637 [==============================] - 0s 116us/step - loss: 0.0436 - mean_absolute_error: 0.1677 - val_loss: 0.0360 - val_mean_absolute_error: 0.1527\n",
      "Epoch 39/100\n",
      "637/637 [==============================] - 0s 116us/step - loss: 0.0435 - mean_absolute_error: 0.1679 - val_loss: 0.0358 - val_mean_absolute_error: 0.1526\n",
      "Epoch 40/100\n",
      "637/637 [==============================] - 0s 115us/step - loss: 0.0434 - mean_absolute_error: 0.1678 - val_loss: 0.0357 - val_mean_absolute_error: 0.1526\n",
      "Epoch 41/100\n",
      "637/637 [==============================] - 0s 116us/step - loss: 0.0433 - mean_absolute_error: 0.1680 - val_loss: 0.0355 - val_mean_absolute_error: 0.1526\n",
      "Epoch 42/100\n",
      "637/637 [==============================] - 0s 116us/step - loss: 0.0432 - mean_absolute_error: 0.1678 - val_loss: 0.0354 - val_mean_absolute_error: 0.1526\n",
      "Epoch 43/100\n",
      "637/637 [==============================] - 0s 115us/step - loss: 0.0430 - mean_absolute_error: 0.1677 - val_loss: 0.0353 - val_mean_absolute_error: 0.1525\n",
      "Epoch 44/100\n",
      "637/637 [==============================] - 0s 124us/step - loss: 0.0429 - mean_absolute_error: 0.1677 - val_loss: 0.0352 - val_mean_absolute_error: 0.1525\n",
      "Epoch 45/100\n",
      "637/637 [==============================] - 0s 116us/step - loss: 0.0428 - mean_absolute_error: 0.1676 - val_loss: 0.0351 - val_mean_absolute_error: 0.1525\n",
      "Epoch 46/100\n",
      "637/637 [==============================] - 0s 115us/step - loss: 0.0428 - mean_absolute_error: 0.1678 - val_loss: 0.0351 - val_mean_absolute_error: 0.1525\n",
      "Epoch 47/100\n",
      "637/637 [==============================] - 0s 116us/step - loss: 0.0427 - mean_absolute_error: 0.1676 - val_loss: 0.0350 - val_mean_absolute_error: 0.1525\n",
      "Epoch 48/100\n",
      "637/637 [==============================] - 0s 115us/step - loss: 0.0426 - mean_absolute_error: 0.1676 - val_loss: 0.0349 - val_mean_absolute_error: 0.1524\n",
      "Epoch 49/100\n"
     ]
    },
    {
     "name": "stdout",
     "output_type": "stream",
     "text": [
      "637/637 [==============================] - 0s 115us/step - loss: 0.0426 - mean_absolute_error: 0.1676 - val_loss: 0.0349 - val_mean_absolute_error: 0.1524\n",
      "Epoch 50/100\n",
      "637/637 [==============================] - 0s 116us/step - loss: 0.0425 - mean_absolute_error: 0.1676 - val_loss: 0.0348 - val_mean_absolute_error: 0.1524\n",
      "Epoch 51/100\n",
      "637/637 [==============================] - 0s 116us/step - loss: 0.0425 - mean_absolute_error: 0.1677 - val_loss: 0.0348 - val_mean_absolute_error: 0.1524\n",
      "Epoch 52/100\n",
      "637/637 [==============================] - 0s 115us/step - loss: 0.0424 - mean_absolute_error: 0.1676 - val_loss: 0.0348 - val_mean_absolute_error: 0.1524\n",
      "Epoch 53/100\n",
      "637/637 [==============================] - 0s 116us/step - loss: 0.0424 - mean_absolute_error: 0.1677 - val_loss: 0.0347 - val_mean_absolute_error: 0.1524\n",
      "Epoch 54/100\n",
      "637/637 [==============================] - 0s 113us/step - loss: 0.0424 - mean_absolute_error: 0.1676 - val_loss: 0.0347 - val_mean_absolute_error: 0.1524\n",
      "Epoch 55/100\n",
      "637/637 [==============================] - 0s 116us/step - loss: 0.0424 - mean_absolute_error: 0.1677 - val_loss: 0.0347 - val_mean_absolute_error: 0.1524\n",
      "Epoch 56/100\n",
      "637/637 [==============================] - 0s 116us/step - loss: 0.0423 - mean_absolute_error: 0.1676 - val_loss: 0.0346 - val_mean_absolute_error: 0.1523\n",
      "Epoch 57/100\n",
      "637/637 [==============================] - 0s 118us/step - loss: 0.0423 - mean_absolute_error: 0.1676 - val_loss: 0.0346 - val_mean_absolute_error: 0.1524\n",
      "Epoch 58/100\n",
      "637/637 [==============================] - 0s 115us/step - loss: 0.0423 - mean_absolute_error: 0.1676 - val_loss: 0.0346 - val_mean_absolute_error: 0.1524\n",
      "Epoch 59/100\n",
      "637/637 [==============================] - 0s 115us/step - loss: 0.0422 - mean_absolute_error: 0.1675 - val_loss: 0.0346 - val_mean_absolute_error: 0.1523\n",
      "Epoch 60/100\n",
      "637/637 [==============================] - 0s 116us/step - loss: 0.0422 - mean_absolute_error: 0.1675 - val_loss: 0.0346 - val_mean_absolute_error: 0.1524\n",
      "Epoch 61/100\n",
      "637/637 [==============================] - 0s 119us/step - loss: 0.0422 - mean_absolute_error: 0.1676 - val_loss: 0.0346 - val_mean_absolute_error: 0.1524\n",
      "Epoch 62/100\n",
      "637/637 [==============================] - 0s 115us/step - loss: 0.0422 - mean_absolute_error: 0.1675 - val_loss: 0.0345 - val_mean_absolute_error: 0.1523\n",
      "Epoch 63/100\n",
      "637/637 [==============================] - 0s 121us/step - loss: 0.0422 - mean_absolute_error: 0.1676 - val_loss: 0.0345 - val_mean_absolute_error: 0.1524\n",
      "Epoch 64/100\n",
      "637/637 [==============================] - 0s 118us/step - loss: 0.0422 - mean_absolute_error: 0.1675 - val_loss: 0.0345 - val_mean_absolute_error: 0.1523\n",
      "Epoch 65/100\n",
      "637/637 [==============================] - 0s 116us/step - loss: 0.0422 - mean_absolute_error: 0.1676 - val_loss: 0.0345 - val_mean_absolute_error: 0.1523\n",
      "Epoch 66/100\n",
      "637/637 [==============================] - 0s 116us/step - loss: 0.0422 - mean_absolute_error: 0.1676 - val_loss: 0.0345 - val_mean_absolute_error: 0.1523\n",
      "Epoch 67/100\n",
      "637/637 [==============================] - 0s 118us/step - loss: 0.0421 - mean_absolute_error: 0.1674 - val_loss: 0.0345 - val_mean_absolute_error: 0.1523\n",
      "Epoch 68/100\n",
      "637/637 [==============================] - 0s 118us/step - loss: 0.0421 - mean_absolute_error: 0.1675 - val_loss: 0.0345 - val_mean_absolute_error: 0.1523\n",
      "Epoch 69/100\n",
      "637/637 [==============================] - 0s 118us/step - loss: 0.0421 - mean_absolute_error: 0.1675 - val_loss: 0.0345 - val_mean_absolute_error: 0.1523\n",
      "Epoch 70/100\n",
      "637/637 [==============================] - 0s 116us/step - loss: 0.0422 - mean_absolute_error: 0.1675 - val_loss: 0.0344 - val_mean_absolute_error: 0.1522\n",
      "Epoch 71/100\n",
      "637/637 [==============================] - 0s 116us/step - loss: 0.0421 - mean_absolute_error: 0.1674 - val_loss: 0.0344 - val_mean_absolute_error: 0.1523\n",
      "Epoch 72/100\n",
      "637/637 [==============================] - 0s 115us/step - loss: 0.0421 - mean_absolute_error: 0.1675 - val_loss: 0.0344 - val_mean_absolute_error: 0.1522\n",
      "Epoch 73/100\n",
      "637/637 [==============================] - 0s 115us/step - loss: 0.0421 - mean_absolute_error: 0.1674 - val_loss: 0.0344 - val_mean_absolute_error: 0.1522\n",
      "Epoch 74/100\n",
      "637/637 [==============================] - 0s 116us/step - loss: 0.0421 - mean_absolute_error: 0.1674 - val_loss: 0.0344 - val_mean_absolute_error: 0.1522\n",
      "Epoch 75/100\n",
      "637/637 [==============================] - 0s 115us/step - loss: 0.0421 - mean_absolute_error: 0.1675 - val_loss: 0.0344 - val_mean_absolute_error: 0.1522\n",
      "Epoch 76/100\n",
      "637/637 [==============================] - 0s 119us/step - loss: 0.0421 - mean_absolute_error: 0.1674 - val_loss: 0.0344 - val_mean_absolute_error: 0.1522\n",
      "Epoch 77/100\n",
      "637/637 [==============================] - 0s 115us/step - loss: 0.0421 - mean_absolute_error: 0.1675 - val_loss: 0.0344 - val_mean_absolute_error: 0.1522\n",
      "Epoch 78/100\n",
      "637/637 [==============================] - 0s 116us/step - loss: 0.0421 - mean_absolute_error: 0.1674 - val_loss: 0.0344 - val_mean_absolute_error: 0.1522\n",
      "Epoch 79/100\n",
      "637/637 [==============================] - 0s 116us/step - loss: 0.0421 - mean_absolute_error: 0.1674 - val_loss: 0.0344 - val_mean_absolute_error: 0.1522\n",
      "Epoch 80/100\n",
      "637/637 [==============================] - 0s 118us/step - loss: 0.0421 - mean_absolute_error: 0.1674 - val_loss: 0.0344 - val_mean_absolute_error: 0.1522\n",
      "Epoch 81/100\n",
      "637/637 [==============================] - 0s 118us/step - loss: 0.0421 - mean_absolute_error: 0.1674 - val_loss: 0.0344 - val_mean_absolute_error: 0.1522\n",
      "Epoch 82/100\n",
      "637/637 [==============================] - 0s 116us/step - loss: 0.0421 - mean_absolute_error: 0.1675 - val_loss: 0.0344 - val_mean_absolute_error: 0.1522\n",
      "Epoch 83/100\n",
      "637/637 [==============================] - 0s 116us/step - loss: 0.0421 - mean_absolute_error: 0.1674 - val_loss: 0.0344 - val_mean_absolute_error: 0.1522\n",
      "Epoch 84/100\n",
      "637/637 [==============================] - 0s 118us/step - loss: 0.0421 - mean_absolute_error: 0.1675 - val_loss: 0.0344 - val_mean_absolute_error: 0.1522\n",
      "Epoch 85/100\n",
      "637/637 [==============================] - 0s 116us/step - loss: 0.0421 - mean_absolute_error: 0.1674 - val_loss: 0.0344 - val_mean_absolute_error: 0.1522\n",
      "Epoch 86/100\n",
      "637/637 [==============================] - 0s 115us/step - loss: 0.0421 - mean_absolute_error: 0.1674 - val_loss: 0.0344 - val_mean_absolute_error: 0.1522\n",
      "Epoch 87/100\n",
      "637/637 [==============================] - 0s 116us/step - loss: 0.0421 - mean_absolute_error: 0.1674 - val_loss: 0.0344 - val_mean_absolute_error: 0.1522\n",
      "Epoch 88/100\n",
      "637/637 [==============================] - 0s 115us/step - loss: 0.0421 - mean_absolute_error: 0.1674 - val_loss: 0.0344 - val_mean_absolute_error: 0.1522\n",
      "Epoch 89/100\n",
      "637/637 [==============================] - 0s 116us/step - loss: 0.0421 - mean_absolute_error: 0.1675 - val_loss: 0.0344 - val_mean_absolute_error: 0.1522\n",
      "Epoch 90/100\n",
      "637/637 [==============================] - 0s 115us/step - loss: 0.0421 - mean_absolute_error: 0.1674 - val_loss: 0.0344 - val_mean_absolute_error: 0.1522\n",
      "Epoch 91/100\n",
      "637/637 [==============================] - 0s 116us/step - loss: 0.0421 - mean_absolute_error: 0.1674 - val_loss: 0.0344 - val_mean_absolute_error: 0.1521\n",
      "Epoch 92/100\n",
      "637/637 [==============================] - 0s 116us/step - loss: 0.0421 - mean_absolute_error: 0.1674 - val_loss: 0.0344 - val_mean_absolute_error: 0.1522\n",
      "Epoch 93/100\n",
      "637/637 [==============================] - 0s 115us/step - loss: 0.0421 - mean_absolute_error: 0.1675 - val_loss: 0.0344 - val_mean_absolute_error: 0.1522\n",
      "Epoch 94/100\n",
      "637/637 [==============================] - 0s 116us/step - loss: 0.0421 - mean_absolute_error: 0.1675 - val_loss: 0.0344 - val_mean_absolute_error: 0.1522\n",
      "Epoch 95/100\n",
      "637/637 [==============================] - 0s 116us/step - loss: 0.0421 - mean_absolute_error: 0.1674 - val_loss: 0.0344 - val_mean_absolute_error: 0.1522\n",
      "Epoch 96/100\n",
      "637/637 [==============================] - 0s 116us/step - loss: 0.0421 - mean_absolute_error: 0.1674 - val_loss: 0.0344 - val_mean_absolute_error: 0.1522\n",
      "Epoch 97/100\n",
      "637/637 [==============================] - 0s 116us/step - loss: 0.0421 - mean_absolute_error: 0.1675 - val_loss: 0.0344 - val_mean_absolute_error: 0.1522\n"
     ]
    },
    {
     "name": "stdout",
     "output_type": "stream",
     "text": [
      "Epoch 98/100\n",
      "637/637 [==============================] - 0s 115us/step - loss: 0.0421 - mean_absolute_error: 0.1674 - val_loss: 0.0344 - val_mean_absolute_error: 0.1522\n",
      "Epoch 99/100\n",
      "637/637 [==============================] - 0s 115us/step - loss: 0.0421 - mean_absolute_error: 0.1674 - val_loss: 0.0344 - val_mean_absolute_error: 0.1522\n",
      "Epoch 100/100\n",
      "637/637 [==============================] - 0s 116us/step - loss: 0.0421 - mean_absolute_error: 0.1674 - val_loss: 0.0344 - val_mean_absolute_error: 0.1521\n"
     ]
    }
   ],
   "source": [
    "from keras.models import Sequential\n",
    "from keras.layers import Dense\n",
    "from keras.optimizers import Adam\n",
    "from keras.layers import Dropout\n",
    "from keras import regularizers\n",
    "model = Sequential([\n",
    "    Dense(2048, activation='tanh', kernel_initializer='uniform',kernel_regularizer=regularizers.l2(0.01), input_shape=(23,)),\n",
    "    Dropout(0.2),\n",
    "#    Dense(1024, activation='relu', kernel_regularizer=regularizers.l2(0.01)),\n",
    "#    Dropout(0.2),\n",
    "#    Dense(1024, activation='tanh', kernel_regularizer=regularizers.l2(0.01)),\n",
    "#    Dropout(0.2),\n",
    "#    Dense(1024, activation='relu', kernel_regularizer=regularizers.l2(0.01)),\n",
    "#    Dropout(0.2),\n",
    "#    Dense(512, activation='tanh', kernel_regularizer=regularizers.l2(0.01)),\n",
    "#    Dropout(0.2),\n",
    "#    Dense(256, activation='relu', kernel_regularizer=regularizers.l2(0.01)),\n",
    "#    Dropout(0.2),\n",
    "#    Dense(128, activation='tanh', kernel_regularizer=regularizers.l2(0.01)),\n",
    "#    Dropout(0.2),\n",
    "#    Dense(64, activation='relu', kernel_regularizer=regularizers.l2(0.01)),\n",
    "#    Dropout(0.2),\n",
    "#    Dense(32, activation='tanh', kernel_regularizer=regularizers.l2(0.01)),\n",
    "#    Dropout(0.2),\n",
    "    Dense(16, activation='relu', kernel_regularizer=regularizers.l2(0.01)),\n",
    "    Dropout(0.2),\n",
    "    Dense(8, activation='relu', kernel_regularizer=regularizers.l2(0.01)),\n",
    "    Dropout(0.2),\n",
    "    Dense(1, activation='sigmoid', kernel_regularizer=regularizers.l2(0.01))\n",
    "])\n",
    "opt = Adam(lr=1e-3, decay=1e-3 / 200)\n",
    "\n",
    "\n",
    "#model.compile(optimizer='adam', loss='binary_crossentropy', metrics=['accuracy'])\n",
    "#model.compile(optimizer='adam', loss='hinge')\n",
    "#model.compile(optimizer='rmsprop', loss='hinge')\n",
    "\n",
    "#model.compile(optimizer='Adadelta', loss='binary_crossentropy',metrics=['accuracy'])\n",
    "#model.compile(optimizer='sgd', loss='hinge', metrics=['accuracy'])\n",
    "model.compile(optimizer='adam', loss='mse', metrics=['mae'])\n",
    "#, metrics=['accuracy'])\n",
    "#model.compile(optimizer='adam', loss='mean_squared_logarithmic_error')\n",
    "# model.compile(optimizer='rmsprop', loss=\"mean_absolute_percentage_error\")\n",
    "hist = model.fit(X_train, Y_train,\n",
    "          batch_size=32, epochs=100, shuffle=True,\n",
    "          validation_data=(X_val, Y_val))"
   ]
  },
  {
   "cell_type": "code",
   "execution_count": 13,
   "metadata": {},
   "outputs": [
    {
     "data": {
      "image/png": "[encoded data removed]",
      "text/plain": [
       "<Figure size 432x288 with 1 Axes>"
      ]
     },
     "metadata": {
      "needs_background": "light"
     },
     "output_type": "display_data"
    }
   ],
   "source": [
    "import matplotlib.pyplot as plt\n",
    "plt.plot(hist.history['loss'])\n",
    "plt.plot(hist.history['val_loss'])\n",
    "plt.title('Model loss')\n",
    "plt.ylabel('Loss')\n",
    "plt.xlabel('Epoch')\n",
    "plt.legend(['Train', 'Val'], loc='upper right')\n",
    "plt.show()"
   ]
  },
  {
   "cell_type": "code",
   "execution_count": 14,
   "metadata": {},
   "outputs": [
    {
     "name": "stdout",
     "output_type": "stream",
     "text": [
      "[[0.56890285]] [[3.31]] [[9.8091545]]\n",
      "[[0.56890285]] [[4.51]] [[9.8091545]]\n",
      "[[0.56890285]] [[2.]] [[9.8091545]]\n",
      "[[0.56890285]] [[10.]] [[9.8091545]]\n",
      "[[0.56890285]] [[13.]] [[9.8091545]]\n",
      "[[0.56890285]] [[8.43]] [[9.8091545]]\n",
      "[[0.56890285]] [[15.]] [[9.8091545]]\n",
      "[[0.56890285]] [[12.]] [[9.8091545]]\n",
      "[[0.56890285]] [[9.69]] [[9.8091545]]\n",
      "[[0.56890285]] [[11.69]] [[9.8091545]]\n",
      "[[0.56890285]] [[15.]] [[9.8091545]]\n",
      "[[0.56890285]] [[12.25]] [[9.8091545]]\n",
      "[[0.56890285]] [[12.]] [[9.8091545]]\n",
      "[[0.56890285]] [[8.14]] [[9.8091545]]\n",
      "[[0.56890285]] [[12.31]] [[9.8091545]]\n",
      "[[0.56890285]] [[11.16]] [[9.8091545]]\n",
      "[[0.56890285]] [[11.97]] [[9.8091545]]\n",
      "[[0.56890285]] [[11.43]] [[9.8091545]]\n",
      "[[0.56890285]] [[14.]] [[9.8091545]]\n",
      "[[0.56890285]] [[8.49]] [[9.8091545]]\n",
      "[[0.56890285]] [[10.11]] [[9.8091545]]\n",
      "[[0.56890285]] [[8.]] [[9.8091545]]\n",
      "[[0.56890285]] [[13.85]] [[9.8091545]]\n",
      "[[0.56890285]] [[2.37]] [[9.8091545]]\n",
      "[[0.56890285]] [[7.]] [[9.8091545]]\n",
      "[[0.56890285]] [[13.]] [[9.8091545]]\n",
      "[[0.56890285]] [[3.66]] [[9.8091545]]\n",
      "[[0.56890285]] [[7.27]] [[9.8091545]]\n",
      "[[0.56890285]] [[12.]] [[9.8091545]]\n",
      "[[0.56890285]] [[13.05]] [[9.8091545]]\n",
      "[[0.56890285]] [[17.12]] [[9.8091545]]\n",
      "[[0.56890285]] [[14.]] [[9.8091545]]\n",
      "[[0.56890285]] [[11.58]] [[9.8091545]]\n",
      "[[0.56890285]] [[7.76]] [[9.8091545]]\n",
      "[[0.56890285]] [[13.88]] [[9.8091545]]\n",
      "[[0.56890285]] [[9.47]] [[9.8091545]]\n",
      "[[0.56890285]] [[13.73]] [[9.8091545]]\n",
      "[[0.56890285]] [[7.1]] [[9.8091545]]\n",
      "[[0.56890285]] [[9.23]] [[9.8091545]]\n",
      "[[0.56890285]] [[13.]] [[9.8091545]]\n",
      "[[0.56890285]] [[7.49]] [[9.8091545]]\n",
      "[[0.56890285]] [[12.61]] [[9.8091545]]\n",
      "[[0.56890285]] [[11.56]] [[9.8091545]]\n",
      "[[0.56890285]] [[9.24]] [[9.8091545]]\n",
      "[[0.56890285]] [[16.95]] [[9.8091545]]\n",
      "[[0.56890285]] [[14.]] [[9.8091545]]\n",
      "[[0.56890285]] [[14.9]] [[9.8091545]]\n",
      "[[0.56890285]] [[11.61]] [[9.8091545]]\n",
      "[[0.56890285]] [[9.46]] [[9.8091545]]\n",
      "[[0.56890285]] [[8.91]] [[9.8091545]]\n",
      "[[0.56890285]] [[10.]] [[9.8091545]]\n",
      "[[0.56890285]] [[5.58]] [[9.8091545]]\n",
      "[[0.56890285]] [[13.71]] [[9.8091545]]\n",
      "[[0.56890285]] [[12.]] [[9.8091545]]\n",
      "[[0.56890285]] [[8.2]] [[9.8091545]]\n",
      "[[0.56890285]] [[9.]] [[9.8091545]]\n",
      "[[0.56890285]] [[12.12]] [[9.8091545]]\n",
      "[[0.56890285]] [[10.99]] [[9.8091545]]\n",
      "[[0.56890285]] [[2.]] [[9.8091545]]\n",
      "[[0.56890285]] [[15.05]] [[9.8091545]]\n",
      "[[0.56890285]] [[9.]] [[9.8091545]]\n",
      "[[0.56890285]] [[5.6]] [[9.8091545]]\n",
      "[[0.56890285]] [[4.98]] [[9.8091545]]\n",
      "[[0.56890285]] [[11.41]] [[9.8091545]]\n",
      "[[0.56890285]] [[7.53]] [[9.8091545]]\n",
      "[[0.56890285]] [[9.67]] [[9.8091545]]\n",
      "[[0.56890285]] [[9.69]] [[9.8091545]]\n",
      "[[0.56890285]] [[8.54]] [[9.8091545]]\n",
      "[[0.56890285]] [[11.]] [[9.8091545]]\n",
      "[[0.56890285]] [[8.5]] [[9.8091545]]\n",
      "[[0.56890285]] [[12.]] [[9.8091545]]\n",
      "[[0.56890285]] [[5.79]] [[9.8091545]]\n",
      "[[0.56890285]] [[10.05]] [[9.8091545]]\n",
      "[[0.56890285]] [[13.]] [[9.8091545]]\n",
      "[[0.56890285]] [[2.39]] [[9.8091545]]\n",
      "[[0.56890285]] [[7.]] [[9.8091545]]\n",
      "[[0.56890285]] [[14.41]] [[9.8091545]]\n",
      "[[0.56890285]] [[13.07]] [[9.8091545]]\n",
      "[[0.56890285]] [[2.55]] [[9.8091545]]\n",
      "[[0.56890285]] [[7.95]] [[9.8091545]]\n",
      "[[0.56890285]] [[0.]] [[9.8091545]]\n",
      "[[0.56890285]] [[1.]] [[9.8091545]]\n",
      "[[0.56890285]] [[8.1]] [[9.8091545]]\n",
      "[[0.56890285]] [[8.87]] [[9.8091545]]\n",
      "[[0.56890285]] [[9.1]] [[9.8091545]]\n",
      "[[0.56890285]] [[9.]] [[9.8091545]]\n",
      "[[0.56890285]] [[12.87]] [[9.8091545]]\n",
      "[[0.56890285]] [[13.67]] [[9.8091545]]\n",
      "[[0.56890285]] [[14.]] [[9.8091545]]\n",
      "[[0.56890285]] [[12.61]] [[9.8091545]]\n",
      "[[0.56890285]] [[3.23]] [[9.8091545]]\n",
      "[[0.56890285]] [[6.04]] [[9.8091545]]\n",
      "[[0.56890285]] [[3.03]] [[9.8091545]]\n",
      "[[0.56890285]] [[13.43]] [[9.8091545]]\n",
      "[[0.56890285]] [[14.27]] [[9.8091545]]\n",
      "[[0.56890285]] [[12.11]] [[9.8091545]]\n",
      "[[0.56890285]] [[10.69]] [[9.8091545]]\n",
      "[[0.56890285]] [[6.64]] [[9.8091545]]\n",
      "[[0.56890285]] [[7.]] [[9.8091545]]\n",
      "[[0.56890285]] [[10.49]] [[9.8091545]]\n"
     ]
    }
   ],
   "source": [
    "import numpy as np\n",
    "for i in range(100):\n",
    "#    pass\n",
    "#    p = model.predict_on_batch(X_test[i].reshape(1, 23))\n",
    "    p = model.predict(X_test[i].reshape(1,23))\n",
    "    print(p,Y_scaler.inverse_transform(np.array(Y_test[i]).reshape(-1,1)), Y_scaler.inverse_transform(p))\n"
   ]
  },
  {
   "cell_type": "code",
   "execution_count": 9,
   "metadata": {},
   "outputs": [
    {
     "name": "stdout",
     "output_type": "stream",
     "text": [
      "637/637 [==============================] - 0s 50us/step\n"
     ]
    },
    {
     "data": {
      "text/plain": [
       "[0.042089703944592126, 0.16735904459114914]"
      ]
     },
     "execution_count": 9,
     "metadata": {},
     "output_type": "execute_result"
    }
   ],
   "source": [
    "model.evaluate(X_train, Y_train)"
   ]
  },
  {
   "cell_type": "code",
   "execution_count": 10,
   "metadata": {},
   "outputs": [
    {
     "data": {
      "text/plain": [
       "(array([[0.56890285]], dtype=float32),\n",
       " array([0.66315789]),\n",
       " array([[9.8091545]], dtype=float32))"
      ]
     },
     "execution_count": 10,
     "metadata": {},
     "output_type": "execute_result"
    }
   ],
   "source": [
    "model.predict(X_train[0].reshape(1, 23)),Y_train[0], Y_scaler.inverse_transform(model.predict(X_train[0].reshape(1, 23)))"
   ]
  },
  {
   "cell_type": "code",
   "execution_count": 11,
   "metadata": {},
   "outputs": [
    {
     "name": "stdout",
     "output_type": "stream",
     "text": [
      "137/137 [==============================] - 0s 58us/step\n"
     ]
    },
    {
     "data": {
      "text/plain": [
       "[0.03438613933585856, 0.1521286930698548]"
      ]
     },
     "execution_count": 11,
     "metadata": {},
     "output_type": "execute_result"
    }
   ],
   "source": [
    "model.evaluate(X_val, Y_val)"
   ]
  },
  {
   "cell_type": "code",
   "execution_count": 12,
   "metadata": {},
   "outputs": [
    {
     "name": "stdout",
     "output_type": "stream",
     "text": [
      "_________________________________________________________________\n",
      "Layer (type)                 Output Shape              Param #   \n",
      "=================================================================\n",
      "dense_1 (Dense)              (None, 2048)              49152     \n",
      "_________________________________________________________________\n",
      "dropout_1 (Dropout)          (None, 2048)              0         \n",
      "_________________________________________________________________\n",
      "dense_2 (Dense)              (None, 16)                32784     \n",
      "_________________________________________________________________\n",
      "dropout_2 (Dropout)          (None, 16)                0         \n",
      "_________________________________________________________________\n",
      "dense_3 (Dense)              (None, 8)                 136       \n",
      "_________________________________________________________________\n",
      "dropout_3 (Dropout)          (None, 8)                 0         \n",
      "_________________________________________________________________\n",
      "dense_4 (Dense)              (None, 1)                 9         \n",
      "=================================================================\n",
      "Total params: 82,081\n",
      "Trainable params: 82,081\n",
      "Non-trainable params: 0\n",
      "_________________________________________________________________\n"
     ]
    },
    {
     "data": {
      "text/plain": [
       "array([[0.56890285]], dtype=float32)"
      ]
     },
     "execution_count": 12,
     "metadata": {},
     "output_type": "execute_result"
    }
   ],
   "source": [
    "model.summary()\n",
    "hist.model.predict_on_batch(X_train[0].reshape(1,23))"
   ]
  }
 ],
 "metadata": {
  "kernelspec": {
   "display_name": "Python 3",
   "language": "python",
   "name": "python3"
  },
  "language_info": {
   "codemirror_mode": {
    "name": "ipython",
    "version": 3
   },
   "file_extension": ".py",
   "mimetype": "text/x-python",
   "name": "python",
   "nbconvert_exporter": "python",
   "pygments_lexer": "ipython3",
   "version": "3.7.4"
  }
 },
 "nbformat": 4,
 "nbformat_minor": 2
}
