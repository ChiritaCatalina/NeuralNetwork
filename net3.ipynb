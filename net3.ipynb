{
 "cells": [
  {
   "cell_type": "markdown",
   "metadata": {},
   "source": [
    "# Model de predictie multiparametru\n",
    "\n",
    "Modelul nostru citeste un fisier Excel si imparte datele de intrare in elemente de intrare si elemente de iesire. Elementele de intrare au 24 de caracteristici pe care le urmeaza."
   ]
  },
  {
   "cell_type": "code",
   "execution_count": 1,
   "metadata": {},
   "outputs": [
    {
     "name": "stdout",
     "output_type": "stream",
     "text": [
      "X:  (918, 24), Y: (918,)\n"
     ]
    }
   ],
   "source": [
    "import pandas as pd\n",
    "df = pd.read_excel(r'Copy of Extraction PT4 14x59 din 2016 pana in prezent - analysis S1928 (003).xlsx', sheet_name='TL4 -40 Nm' )\n",
    "dataset = df.values\n",
    "\n",
    "X = dataset[1:,23:47]\n",
    "Y = dataset[1:,14]\n",
    "X = X.astype('float')\n",
    "Y = Y.astype('float')\n",
    "print(\"X:  %s, Y: %s\" % (X.shape, Y.shape))"
   ]
  },
  {
   "cell_type": "code",
   "execution_count": 2,
   "metadata": {},
   "outputs": [
    {
     "name": "stdout",
     "output_type": "stream",
     "text": [
      "(911, 23) (911, 1)\n"
     ]
    }
   ],
   "source": [
    "Xdf = pd.DataFrame(X)\n",
    "Ydf = pd.DataFrame(Y)\n",
    "Xdf.drop(22, axis=1,inplace=True)\n",
    "Xdf[24] = Ydf[0]\n",
    "Ydf.plot()\n",
    "Xdf.dropna(inplace=True)\n",
    "td = Xdf.values\n",
    "X = td[0:, :-1]\n",
    "Y = td[0:, -1:]\n",
    "X = X.astype('float')\n",
    "Y = Y.astype('float')\n",
    "print(X.shape, Y.shape)"
   ]
  },
  {
   "cell_type": "markdown",
   "metadata": {},
   "source": [
    "### Normalizarea datelor\n",
    "Este necesara extragerea din dataset a valorilor de intrare care au valoare NaN.\n",
    "De asemenea, am ignorat parametrii care nu varieaza in dataset."
   ]
  },
  {
   "cell_type": "code",
   "execution_count": 3,
   "metadata": {},
   "outputs": [
    {
     "data": {
      "text/plain": [
       "((911, 23), (911, 1))"
      ]
     },
     "execution_count": 3,
     "metadata": {},
     "output_type": "execute_result"
    }
   ],
   "source": [
    "X.shape, Y.shape"
   ]
  },
  {
   "cell_type": "markdown",
   "metadata": {},
   "source": [
    "## Scalam datele de intrare si de iesire intre valorile 0 si 1\n",
    "pentru aceasta apelam la minmaxscaller din pachetul scipy"
   ]
  },
  {
   "cell_type": "code",
   "execution_count": 4,
   "metadata": {},
   "outputs": [
    {
     "data": {
      "text/plain": [
       "((911, 23), (911, 1))"
      ]
     },
     "execution_count": 4,
     "metadata": {},
     "output_type": "execute_result"
    }
   ],
   "source": [
    "from sklearn import preprocessing\n",
    "min_max_scaler = preprocessing.MinMaxScaler()\n",
    "X_scale = min_max_scaler.fit_transform(X)\n",
    "Y_scaler = preprocessing.MinMaxScaler()\n",
    "Y_scale = Y_scaler.fit_transform(Y)\n",
    "\n",
    "X_scale.shape, Y_scale.shape"
   ]
  },
  {
   "cell_type": "markdown",
   "metadata": {},
   "source": [
    "## Impartim datele in data de training si date de test\n"
   ]
  },
  {
   "cell_type": "code",
   "execution_count": 5,
   "metadata": {},
   "outputs": [
    {
     "name": "stdout",
     "output_type": "stream",
     "text": [
      "(637, 23)\n",
      "(137, 23)\n",
      "(137, 23)\n",
      "(637, 1)\n",
      "(137, 1)\n"
     ]
    }
   ],
   "source": [
    "from sklearn.model_selection import train_test_split\n",
    "X_train, X_val_and_test, Y_train, Y_val_and_test = train_test_split(X_scale, Y_scale, test_size=0.3)\n",
    "X_val, X_test, Y_val, Y_test = train_test_split(X_val_and_test, Y_val_and_test, test_size=0.5)\n",
    "print(X_train.shape)\n",
    "print(X_val.shape)\n",
    "print(X_test.shape)\n",
    "print(Y_train.shape)\n",
    "print(Y_val.shape)"
   ]
  },
  {
   "cell_type": "markdown",
   "metadata": {},
   "source": [
    "## Cream modelul ML\n",
    "1 strat de intrare de dimensiunea dictata de numarul de parametrii folositi (22)\n",
    "\n",
    "1 strat ascuns dim 77 folosind modelul de activare ReLU\n",
    "\n",
    "1 strat ascuns dim 77 folosind modelul de activare ReLU\n",
    "\n",
    "1 strat de iesire dim 1 folosind un model de activare de tip sigmoid\n",
    "\n"
   ]
  },
  {
   "cell_type": "code",
   "execution_count": 6,
   "metadata": {},
   "outputs": [
    {
     "name": "stderr",
     "output_type": "stream",
     "text": [
      "Using TensorFlow backend.\n",
      "WARNING: Logging before flag parsing goes to stderr.\n",
      "W0916 23:54:55.723056 11496 deprecation_wrapper.py:119] From C:\\Users\\Alecs\\Anaconda3\\envs\\CChirita\\lib\\site-packages\\keras\\backend\\tensorflow_backend.py:74: The name tf.get_default_graph is deprecated. Please use tf.compat.v1.get_default_graph instead.\n",
      "\n",
      "W0916 23:54:55.802073 11496 deprecation_wrapper.py:119] From C:\\Users\\Alecs\\Anaconda3\\envs\\CChirita\\lib\\site-packages\\keras\\backend\\tensorflow_backend.py:517: The name tf.placeholder is deprecated. Please use tf.compat.v1.placeholder instead.\n",
      "\n",
      "W0916 23:54:55.807007 11496 deprecation_wrapper.py:119] From C:\\Users\\Alecs\\Anaconda3\\envs\\CChirita\\lib\\site-packages\\keras\\backend\\tensorflow_backend.py:4138: The name tf.random_uniform is deprecated. Please use tf.random.uniform instead.\n",
      "\n",
      "W0916 23:54:55.862063 11496 deprecation_wrapper.py:119] From C:\\Users\\Alecs\\Anaconda3\\envs\\CChirita\\lib\\site-packages\\keras\\backend\\tensorflow_backend.py:133: The name tf.placeholder_with_default is deprecated. Please use tf.compat.v1.placeholder_with_default instead.\n",
      "\n",
      "W0916 23:54:55.880067 11496 deprecation.py:506] From C:\\Users\\Alecs\\Anaconda3\\envs\\CChirita\\lib\\site-packages\\keras\\backend\\tensorflow_backend.py:3445: calling dropout (from tensorflow.python.ops.nn_ops) with keep_prob is deprecated and will be removed in a future version.\n",
      "Instructions for updating:\n",
      "Please use `rate` instead of `keep_prob`. Rate should be set to `rate = 1 - keep_prob`.\n",
      "W0916 23:54:56.875051 11496 deprecation_wrapper.py:119] From C:\\Users\\Alecs\\Anaconda3\\envs\\CChirita\\lib\\site-packages\\keras\\optimizers.py:790: The name tf.train.Optimizer is deprecated. Please use tf.compat.v1.train.Optimizer instead.\n",
      "\n",
      "W0916 23:54:58.816008 11496 deprecation_wrapper.py:119] From C:\\Users\\Alecs\\Anaconda3\\envs\\CChirita\\lib\\site-packages\\keras\\backend\\tensorflow_backend.py:986: The name tf.assign_add is deprecated. Please use tf.compat.v1.assign_add instead.\n",
      "\n"
     ]
    },
    {
     "name": "stdout",
     "output_type": "stream",
     "text": [
      "Train on 637 samples, validate on 137 samples\n",
      "Epoch 1/100\n",
      "637/637 [==============================] - 6s 9ms/step - loss: 5.6896 - acc: 0.0016 - val_loss: 4.8789 - val_acc: 0.0000e+00\n",
      "Epoch 2/100\n",
      "637/637 [==============================] - ETA: 0s - loss: 4.4096 - acc: 0.0021    - 0s 392us/step - loss: 4.2590 - acc: 0.0016 - val_loss: 3.6220 - val_acc: 0.0000e+00\n",
      "Epoch 3/100\n",
      "637/637 [==============================] - 0s 350us/step - loss: 3.1485 - acc: 0.0016 - val_loss: 2.6654 - val_acc: 0.0000e+00\n",
      "Epoch 4/100\n",
      "637/637 [==============================] - 0s 359us/step - loss: 2.3093 - acc: 0.0016 - val_loss: 1.9472 - val_acc: 0.0000e+00\n",
      "Epoch 5/100\n",
      "637/637 [==============================] - 0s 356us/step - loss: 1.6821 - acc: 0.0016 - val_loss: 1.4123 - val_acc: 0.0000e+00\n",
      "Epoch 6/100\n",
      "637/637 [==============================] - 0s 356us/step - loss: 1.2165 - acc: 0.0016 - val_loss: 1.0172 - val_acc: 0.0000e+00\n",
      "Epoch 7/100\n",
      "637/637 [==============================] - 0s 353us/step - loss: 0.8739 - acc: 0.0016 - val_loss: 0.7281 - val_acc: 0.0000e+00\n",
      "Epoch 8/100\n",
      "637/637 [==============================] - 0s 374us/step - loss: 0.6245 - acc: 0.0016 - val_loss: 0.5189 - val_acc: 0.0000e+00\n",
      "Epoch 9/100\n",
      "637/637 [==============================] - 0s 370us/step - loss: 0.4449 - acc: 0.0016 - val_loss: 0.3694 - val_acc: 0.0000e+00\n",
      "Epoch 10/100\n",
      "637/637 [==============================] - 0s 372us/step - loss: 0.3172 - acc: 0.0016 - val_loss: 0.2637 - val_acc: 0.0000e+00\n",
      "Epoch 11/100\n",
      "637/637 [==============================] - 0s 380us/step - loss: 0.2276 - acc: 0.0016 - val_loss: 0.1901 - val_acc: 0.0000e+00\n",
      "Epoch 12/100\n",
      "637/637 [==============================] - 0s 361us/step - loss: 0.1655 - acc: 0.0016 - val_loss: 0.1394 - val_acc: 0.0000e+00\n",
      "Epoch 13/100\n",
      "637/637 [==============================] - 0s 364us/step - loss: 0.1231 - acc: 0.0016 - val_loss: 0.1051 - val_acc: 0.0000e+00\n",
      "Epoch 14/100\n",
      "637/637 [==============================] - 0s 360us/step - loss: 0.0945 - acc: 0.0016 - val_loss: 0.0821 - val_acc: 0.0000e+00\n",
      "Epoch 15/100\n",
      "637/637 [==============================] - 0s 356us/step - loss: 0.0755 - acc: 0.0016 - val_loss: 0.0669 - val_acc: 0.0000e+00\n",
      "Epoch 16/100\n",
      "637/637 [==============================] - 0s 341us/step - loss: 0.0629 - acc: 0.0016 - val_loss: 0.0570 - val_acc: 0.0000e+00\n",
      "Epoch 17/100\n",
      "637/637 [==============================] - 0s 395us/step - loss: 0.0548 - acc: 0.0016 - val_loss: 0.0506 - val_acc: 0.0000e+00\n",
      "Epoch 18/100\n",
      "637/637 [==============================] - 0s 362us/step - loss: 0.0497 - acc: 0.0016 - val_loss: 0.0467 - val_acc: 0.0000e+00\n",
      "Epoch 19/100\n",
      "637/637 [==============================] - 0s 353us/step - loss: 0.0464 - acc: 0.0016 - val_loss: 0.0441 - val_acc: 0.0000e+00\n",
      "Epoch 20/100\n",
      "637/637 [==============================] - 0s 370us/step - loss: 0.0444 - acc: 0.0016 - val_loss: 0.0425 - val_acc: 0.0000e+00\n",
      "Epoch 21/100\n",
      "637/637 [==============================] - 0s 364us/step - loss: 0.0431 - acc: 0.0016 - val_loss: 0.0416 - val_acc: 0.0000e+00\n",
      "Epoch 22/100\n",
      "637/637 [==============================] - 0s 349us/step - loss: 0.0424 - acc: 0.0016 - val_loss: 0.0410 - val_acc: 0.0000e+00\n",
      "Epoch 23/100\n",
      "637/637 [==============================] - 0s 352us/step - loss: 0.0419 - acc: 0.0016 - val_loss: 0.0406 - val_acc: 0.0000e+00\n",
      "Epoch 24/100\n",
      "637/637 [==============================] - 0s 356us/step - loss: 0.0416 - acc: 0.0016 - val_loss: 0.0404 - val_acc: 0.0000e+00\n",
      "Epoch 25/100\n",
      "637/637 [==============================] - 0s 348us/step - loss: 0.0415 - acc: 0.0016 - val_loss: 0.0403 - val_acc: 0.0000e+00\n",
      "Epoch 26/100\n",
      "637/637 [==============================] - 0s 359us/step - loss: 0.0413 - acc: 0.0016 - val_loss: 0.0402 - val_acc: 0.0000e+00\n",
      "Epoch 27/100\n",
      "637/637 [==============================] - 0s 368us/step - loss: 0.0413 - acc: 0.0016 - val_loss: 0.0401 - val_acc: 0.0000e+00\n",
      "Epoch 28/100\n",
      "637/637 [==============================] - 0s 388us/step - loss: 0.0412 - acc: 0.0016 - val_loss: 0.0401 - val_acc: 0.0000e+00\n",
      "Epoch 29/100\n",
      "637/637 [==============================] - 0s 407us/step - loss: 0.0412 - acc: 0.0016 - val_loss: 0.0400 - val_acc: 0.0000e+00\n",
      "Epoch 30/100\n",
      "637/637 [==============================] - 0s 402us/step - loss: 0.0412 - acc: 0.0016 - val_loss: 0.0400 - val_acc: 0.0000e+00\n",
      "Epoch 31/100\n",
      "637/637 [==============================] - 0s 404us/step - loss: 0.0412 - acc: 0.0016 - val_loss: 0.0400 - val_acc: 0.0000e+00\n",
      "Epoch 32/100\n",
      "637/637 [==============================] - 0s 396us/step - loss: 0.0412 - acc: 0.0016 - val_loss: 0.0399 - val_acc: 0.0000e+00\n",
      "Epoch 33/100\n",
      "637/637 [==============================] - 0s 385us/step - loss: 0.0411 - acc: 0.0016 - val_loss: 0.0399 - val_acc: 0.0000e+00\n",
      "Epoch 34/100\n",
      "637/637 [==============================] - 0s 353us/step - loss: 0.0412 - acc: 0.0016 - val_loss: 0.0399 - val_acc: 0.0000e+00\n",
      "Epoch 35/100\n",
      "637/637 [==============================] - 0s 363us/step - loss: 0.0410 - acc: 0.0016 - val_loss: 0.0399 - val_acc: 0.0000e+00\n",
      "Epoch 36/100\n",
      "637/637 [==============================] - 0s 345us/step - loss: 0.0411 - acc: 0.0016 - val_loss: 0.0399 - val_acc: 0.0000e+00\n",
      "Epoch 37/100\n",
      "637/637 [==============================] - 0s 336us/step - loss: 0.0410 - acc: 0.0016 - val_loss: 0.0399 - val_acc: 0.0000e+00\n",
      "Epoch 38/100\n",
      "637/637 [==============================] - 0s 342us/step - loss: 0.0411 - acc: 0.0016 - val_loss: 0.0399 - val_acc: 0.0000e+00\n",
      "Epoch 39/100\n",
      "637/637 [==============================] - 0s 341us/step - loss: 0.0410 - acc: 0.0016 - val_loss: 0.0398 - val_acc: 0.0000e+00\n",
      "Epoch 40/100\n",
      "637/637 [==============================] - 0s 316us/step - loss: 0.0411 - acc: 0.0016 - val_loss: 0.0399 - val_acc: 0.0000e+00\n",
      "Epoch 41/100\n",
      "637/637 [==============================] - 0s 347us/step - loss: 0.0410 - acc: 0.0016 - val_loss: 0.0398 - val_acc: 0.0000e+00\n",
      "Epoch 42/100\n",
      "637/637 [==============================] - 0s 355us/step - loss: 0.0410 - acc: 0.0016 - val_loss: 0.0398 - val_acc: 0.0000e+00\n",
      "Epoch 43/100\n",
      "637/637 [==============================] - 0s 325us/step - loss: 0.0409 - acc: 0.0016 - val_loss: 0.0399 - val_acc: 0.0000e+00\n",
      "Epoch 44/100\n",
      "637/637 [==============================] - 0s 349us/step - loss: 0.0411 - acc: 0.0016 - val_loss: 0.0398 - val_acc: 0.0000e+00\n",
      "Epoch 45/100\n",
      "637/637 [==============================] - 0s 333us/step - loss: 0.0410 - acc: 0.0016 - val_loss: 0.0398 - val_acc: 0.0000e+00\n",
      "Epoch 46/100\n",
      "637/637 [==============================] - 0s 322us/step - loss: 0.0410 - acc: 0.0016 - val_loss: 0.0399 - val_acc: 0.0000e+00\n",
      "Epoch 47/100\n",
      "637/637 [==============================] - 0s 309us/step - loss: 0.0410 - acc: 0.0016 - val_loss: 0.0398 - val_acc: 0.0000e+00\n",
      "Epoch 48/100\n",
      "637/637 [==============================] - 0s 325us/step - loss: 0.0410 - acc: 0.0016 - val_loss: 0.0398 - val_acc: 0.0000e+00\n",
      "Epoch 49/100\n",
      "637/637 [==============================] - 0s 330us/step - loss: 0.0410 - acc: 0.0016 - val_loss: 0.0398 - val_acc: 0.0000e+00\n",
      "Epoch 50/100\n",
      "637/637 [==============================] - 0s 330us/step - loss: 0.0410 - acc: 0.0016 - val_loss: 0.0398 - val_acc: 0.0000e+00\n",
      "Epoch 51/100\n",
      "637/637 [==============================] - 0s 317us/step - loss: 0.0411 - acc: 0.0016 - val_loss: 0.0397 - val_acc: 0.0000e+00\n",
      "Epoch 52/100\n",
      "637/637 [==============================] - 0s 319us/step - loss: 0.0410 - acc: 0.0016 - val_loss: 0.0398 - val_acc: 0.0000e+00\n",
      "Epoch 53/100\n",
      "637/637 [==============================] - 0s 375us/step - loss: 0.0410 - acc: 0.0016 - val_loss: 0.0398 - val_acc: 0.0000e+00\n",
      "Epoch 54/100\n",
      "637/637 [==============================] - 0s 349us/step - loss: 0.0410 - acc: 0.0016 - val_loss: 0.0398 - val_acc: 0.0000e+00\n",
      "Epoch 55/100\n",
      "637/637 [==============================] - 0s 369us/step - loss: 0.0409 - acc: 0.0016 - val_loss: 0.0398 - val_acc: 0.0000e+00\n",
      "Epoch 56/100\n",
      "637/637 [==============================] - 0s 348us/step - loss: 0.0410 - acc: 0.0016 - val_loss: 0.0398 - val_acc: 0.0000e+00\n",
      "Epoch 57/100\n",
      "637/637 [==============================] - 0s 359us/step - loss: 0.0410 - acc: 0.0016 - val_loss: 0.0398 - val_acc: 0.0000e+00\n",
      "Epoch 58/100\n",
      "637/637 [==============================] - 0s 345us/step - loss: 0.0410 - acc: 0.0016 - val_loss: 0.0398 - val_acc: 0.0000e+00\n"
     ]
    },
    {
     "name": "stdout",
     "output_type": "stream",
     "text": [
      "Epoch 59/100\n",
      "637/637 [==============================] - 0s 358us/step - loss: 0.0410 - acc: 0.0016 - val_loss: 0.0397 - val_acc: 0.0000e+00\n",
      "Epoch 60/100\n",
      "637/637 [==============================] - 0s 370us/step - loss: 0.0410 - acc: 0.0016 - val_loss: 0.0398 - val_acc: 0.0000e+00\n",
      "Epoch 61/100\n",
      "637/637 [==============================] - 0s 370us/step - loss: 0.0410 - acc: 0.0016 - val_loss: 0.0397 - val_acc: 0.0000e+00\n",
      "Epoch 62/100\n",
      "637/637 [==============================] - 0s 364us/step - loss: 0.0410 - acc: 0.0016 - val_loss: 0.0398 - val_acc: 0.0000e+00\n",
      "Epoch 63/100\n",
      "637/637 [==============================] - 0s 376us/step - loss: 0.0410 - acc: 0.0016 - val_loss: 0.0398 - val_acc: 0.0000e+00\n",
      "Epoch 64/100\n",
      "637/637 [==============================] - 0s 355us/step - loss: 0.0410 - acc: 0.0016 - val_loss: 0.0398 - val_acc: 0.0000e+00\n",
      "Epoch 65/100\n",
      "637/637 [==============================] - 0s 372us/step - loss: 0.0410 - acc: 0.0016 - val_loss: 0.0397 - val_acc: 0.0000e+00\n",
      "Epoch 66/100\n",
      "637/637 [==============================] - 0s 363us/step - loss: 0.0410 - acc: 0.0016 - val_loss: 0.0398 - val_acc: 0.0000e+00\n",
      "Epoch 67/100\n",
      "637/637 [==============================] - 0s 363us/step - loss: 0.0410 - acc: 0.0016 - val_loss: 0.0398 - val_acc: 0.0000e+00\n",
      "Epoch 68/100\n",
      "637/637 [==============================] - 0s 358us/step - loss: 0.0410 - acc: 0.0016 - val_loss: 0.0398 - val_acc: 0.0000e+00\n",
      "Epoch 69/100\n",
      "637/637 [==============================] - 0s 366us/step - loss: 0.0409 - acc: 0.0016 - val_loss: 0.0397 - val_acc: 0.0000e+00\n",
      "Epoch 70/100\n",
      "637/637 [==============================] - 0s 358us/step - loss: 0.0410 - acc: 0.0016 - val_loss: 0.0398 - val_acc: 0.0000e+00\n",
      "Epoch 71/100\n",
      "637/637 [==============================] - 0s 334us/step - loss: 0.0409 - acc: 0.0016 - val_loss: 0.0397 - val_acc: 0.0000e+00\n",
      "Epoch 72/100\n",
      "637/637 [==============================] - 0s 324us/step - loss: 0.0410 - acc: 0.0016 - val_loss: 0.0397 - val_acc: 0.0000e+00\n",
      "Epoch 73/100\n",
      "637/637 [==============================] - 0s 319us/step - loss: 0.0410 - acc: 0.0016 - val_loss: 0.0397 - val_acc: 0.0000e+00\n",
      "Epoch 74/100\n",
      "637/637 [==============================] - 0s 319us/step - loss: 0.0409 - acc: 0.0016 - val_loss: 0.0397 - val_acc: 0.0000e+00\n",
      "Epoch 75/100\n",
      "637/637 [==============================] - 0s 312us/step - loss: 0.0410 - acc: 0.0016 - val_loss: 0.0398 - val_acc: 0.0000e+00\n",
      "Epoch 76/100\n",
      "637/637 [==============================] - 0s 342us/step - loss: 0.0409 - acc: 0.0016 - val_loss: 0.0397 - val_acc: 0.0000e+00\n",
      "Epoch 77/100\n",
      "637/637 [==============================] - 0s 345us/step - loss: 0.0409 - acc: 0.0016 - val_loss: 0.0397 - val_acc: 0.0000e+00\n",
      "Epoch 78/100\n",
      "637/637 [==============================] - 0s 334us/step - loss: 0.0409 - acc: 0.0016 - val_loss: 0.0397 - val_acc: 0.0000e+00\n",
      "Epoch 79/100\n",
      "637/637 [==============================] - 0s 347us/step - loss: 0.0410 - acc: 0.0016 - val_loss: 0.0397 - val_acc: 0.0000e+00\n",
      "Epoch 80/100\n",
      "637/637 [==============================] - 0s 339us/step - loss: 0.0409 - acc: 0.0016 - val_loss: 0.0397 - val_acc: 0.0000e+00\n",
      "Epoch 81/100\n",
      "637/637 [==============================] - 0s 322us/step - loss: 0.0410 - acc: 0.0016 - val_loss: 0.0398 - val_acc: 0.0000e+00\n",
      "Epoch 82/100\n",
      "637/637 [==============================] - 0s 339us/step - loss: 0.0410 - acc: 0.0016 - val_loss: 0.0397 - val_acc: 0.0000e+00\n",
      "Epoch 83/100\n",
      "637/637 [==============================] - 0s 369us/step - loss: 0.0409 - acc: 0.0016 - val_loss: 0.0397 - val_acc: 0.0000e+00\n",
      "Epoch 84/100\n",
      "637/637 [==============================] - 0s 350us/step - loss: 0.0409 - acc: 0.0016 - val_loss: 0.0397 - val_acc: 0.0000e+00\n",
      "Epoch 85/100\n",
      "637/637 [==============================] - 0s 353us/step - loss: 0.0409 - acc: 0.0016 - val_loss: 0.0397 - val_acc: 0.0000e+00\n",
      "Epoch 86/100\n",
      "637/637 [==============================] - 0s 345us/step - loss: 0.0409 - acc: 0.0016 - val_loss: 0.0397 - val_acc: 0.0000e+00\n",
      "Epoch 87/100\n",
      "637/637 [==============================] - 0s 344us/step - loss: 0.0409 - acc: 0.0016 - val_loss: 0.0397 - val_acc: 0.0000e+00\n",
      "Epoch 88/100\n",
      "637/637 [==============================] - 0s 342us/step - loss: 0.0410 - acc: 0.0016 - val_loss: 0.0398 - val_acc: 0.0000e+00\n",
      "Epoch 89/100\n",
      "637/637 [==============================] - 0s 328us/step - loss: 0.0409 - acc: 0.0016 - val_loss: 0.0397 - val_acc: 0.0000e+00\n",
      "Epoch 90/100\n",
      "637/637 [==============================] - 0s 312us/step - loss: 0.0409 - acc: 0.0016 - val_loss: 0.0397 - val_acc: 0.0000e+00\n",
      "Epoch 91/100\n",
      "637/637 [==============================] - 0s 333us/step - loss: 0.0409 - acc: 0.0016 - val_loss: 0.0397 - val_acc: 0.0000e+00\n",
      "Epoch 92/100\n",
      "637/637 [==============================] - 0s 375us/step - loss: 0.0409 - acc: 0.0016 - val_loss: 0.0397 - val_acc: 0.0000e+00\n",
      "Epoch 93/100\n",
      "637/637 [==============================] - 0s 350us/step - loss: 0.0410 - acc: 0.0016 - val_loss: 0.0397 - val_acc: 0.0000e+00\n",
      "Epoch 94/100\n",
      "637/637 [==============================] - 0s 340us/step - loss: 0.0409 - acc: 0.0016 - val_loss: 0.0397 - val_acc: 0.0000e+00\n",
      "Epoch 95/100\n",
      "637/637 [==============================] - 0s 341us/step - loss: 0.0409 - acc: 0.0016 - val_loss: 0.0397 - val_acc: 0.0000e+00\n",
      "Epoch 96/100\n",
      "637/637 [==============================] - 0s 344us/step - loss: 0.0409 - acc: 0.0016 - val_loss: 0.0397 - val_acc: 0.0000e+00\n",
      "Epoch 97/100\n",
      "637/637 [==============================] - 0s 360us/step - loss: 0.0410 - acc: 0.0016 - val_loss: 0.0397 - val_acc: 0.0000e+00\n",
      "Epoch 98/100\n",
      "637/637 [==============================] - ETA: 0s - loss: 0.0407 - acc: 0.0016  - 0s 381us/step - loss: 0.0409 - acc: 0.0016 - val_loss: 0.0397 - val_acc: 0.0000e+00\n",
      "Epoch 99/100\n",
      "637/637 [==============================] - 0s 421us/step - loss: 0.0409 - acc: 0.0016 - val_loss: 0.0397 - val_acc: 0.0000e+00\n",
      "Epoch 100/100\n",
      "637/637 [==============================] - 0s 394us/step - loss: 0.0409 - acc: 0.0016 - val_loss: 0.0397 - val_acc: 0.0000e+00\n"
     ]
    }
   ],
   "source": [
    "from keras.models import Sequential\n",
    "from keras.layers import Dense\n",
    "from keras.optimizers import Adam\n",
    "from keras.layers import Dropout\n",
    "from keras import regularizers\n",
    "model = Sequential([\n",
    "    Dense(32, activation='tanh', kernel_initializer='uniform',kernel_regularizer=regularizers.l2(0.01), input_shape=(23,)),\n",
    "    Dropout(0.2),\n",
    "    Dense(32, activation='tanh', kernel_regularizer=regularizers.l2(0.01)),\n",
    "    Dropout(0.2),\n",
    "    Dense(32, activation='tanh', kernel_regularizer=regularizers.l2(0.01)),\n",
    "    Dropout(0.2),\n",
    "    Dense(32, activation='tanh', kernel_regularizer=regularizers.l2(0.01)),\n",
    "    Dropout(0.2),\n",
    "    Dense(32, activation='tanh', kernel_regularizer=regularizers.l2(0.01)),\n",
    "    Dropout(0.2),\n",
    "    Dense(32, activation='tanh', kernel_regularizer=regularizers.l2(0.01)),\n",
    "    Dropout(0.2),\n",
    "    Dense(32, activation='tanh', kernel_regularizer=regularizers.l2(0.01)),\n",
    "    Dropout(0.2),\n",
    "    Dense(32, activation='tanh', kernel_regularizer=regularizers.l2(0.01)),\n",
    "    Dropout(0.2),\n",
    "    Dense(32, activation='tanh', kernel_regularizer=regularizers.l2(0.01)),\n",
    "    Dropout(0.2),\n",
    "    Dense(32, activation='tanh', kernel_regularizer=regularizers.l2(0.01)),\n",
    "    Dropout(0.2),\n",
    "    Dense(32, activation='tanh', kernel_regularizer=regularizers.l2(0.01)),\n",
    "    Dropout(0.2),\n",
    "    Dense(1, activation='sigmoid', kernel_regularizer=regularizers.l2(0.01))\n",
    "])\n",
    "opt = Adam(lr=1e-3, decay=1e-3 / 200)\n",
    "\n",
    "\n",
    "#model.compile(optimizer='adam', loss='binary_crossentropy', metrics=['accuracy'])\n",
    "#model.compile(optimizer='adam', loss='hinge')\n",
    "#model.compile(optimizer='rmsprop', loss='hinge')\n",
    "\n",
    "#model.compile(optimizer='Adadelta', loss='binary_crossentropy',metrics=['accuracy'])\n",
    "#model.compile(optimizer='sgd', loss='hinge', metrics=['accuracy'])\n",
    "model.compile(optimizer='adam', loss='mse', metrics=['accuracy'])\n",
    "#, metrics=['accuracy'])\n",
    "#model.compile(optimizer='adam', loss='mean_squared_logarithmic_error')\n",
    "# model.compile(optimizer='rmsprop', loss=\"mean_absolute_percentage_error\")\n",
    "hist = model.fit(X_train, Y_train,\n",
    "          batch_size=32, epochs=100,\n",
    "          validation_data=(X_val, Y_val))"
   ]
  },
  {
   "cell_type": "code",
   "execution_count": 7,
   "metadata": {},
   "outputs": [
    {
     "data": {
      "image/png": "[encoded data removed]",
      "text/plain": [
       "<Figure size 432x288 with 1 Axes>"
      ]
     },
     "metadata": {
      "needs_background": "light"
     },
     "output_type": "display_data"
    }
   ],
   "source": [
    "import matplotlib.pyplot as plt\n",
    "plt.plot(hist.history['loss'])\n",
    "plt.plot(hist.history['val_loss'])\n",
    "plt.title('Model loss')\n",
    "plt.ylabel('Loss')\n",
    "plt.xlabel('Epoch')\n",
    "plt.legend(['Train', 'Val'], loc='upper right')\n",
    "plt.show()"
   ]
  },
  {
   "cell_type": "code",
   "execution_count": 11,
   "metadata": {},
   "outputs": [
    {
     "name": "stdout",
     "output_type": "stream",
     "text": [
      "[[0.57518584]] [[5.55]] [[9.928532]]\n",
      "[[0.57518584]] [[7.26]] [[9.928532]]\n",
      "[[0.57518584]] [[3.48]] [[9.928532]]\n",
      "[[0.57518584]] [[4.14]] [[9.928532]]\n",
      "[[0.57518584]] [[6.99]] [[9.928532]]\n",
      "[[0.57518584]] [[8.84]] [[9.928532]]\n",
      "[[0.57518584]] [[4.41]] [[9.928532]]\n",
      "[[0.57518584]] [[7.89]] [[9.928532]]\n",
      "[[0.57518584]] [[7.57]] [[9.928532]]\n",
      "[[0.57518584]] [[7.49]] [[9.928532]]\n",
      "[[0.57518584]] [[11.36]] [[9.928532]]\n",
      "[[0.57518584]] [[12.12]] [[9.928532]]\n",
      "[[0.57518584]] [[10.3]] [[9.928532]]\n",
      "[[0.57518584]] [[2.]] [[9.928532]]\n",
      "[[0.57518584]] [[12.52]] [[9.928532]]\n",
      "[[0.57518584]] [[10.95]] [[9.928532]]\n",
      "[[0.57518584]] [[11.52]] [[9.928532]]\n",
      "[[0.57518584]] [[12.45]] [[9.928532]]\n",
      "[[0.57518584]] [[11.]] [[9.928532]]\n",
      "[[0.57518584]] [[13.13]] [[9.928532]]\n",
      "[[0.57518584]] [[7.51]] [[9.928532]]\n",
      "[[0.57518584]] [[15.8]] [[9.928532]]\n",
      "[[0.57518584]] [[13.71]] [[9.928532]]\n",
      "[[0.57518584]] [[13.43]] [[9.928532]]\n",
      "[[0.57518584]] [[15.]] [[9.928532]]\n",
      "[[0.57518584]] [[14.]] [[9.928532]]\n",
      "[[0.57518584]] [[4.]] [[9.928532]]\n",
      "[[0.57518584]] [[11.79]] [[9.928532]]\n",
      "[[0.57518584]] [[4.08]] [[9.928532]]\n",
      "[[0.57518584]] [[9.]] [[9.928532]]\n",
      "[[0.57518584]] [[9.71]] [[9.928532]]\n",
      "[[0.57518584]] [[12.22]] [[9.928532]]\n",
      "[[0.57518584]] [[4.]] [[9.928532]]\n",
      "[[0.57518584]] [[13.]] [[9.928532]]\n",
      "[[0.57518584]] [[9.57]] [[9.928532]]\n",
      "[[0.57518584]] [[11.79]] [[9.928532]]\n",
      "[[0.57518584]] [[8.6]] [[9.928532]]\n",
      "[[0.57518584]] [[5.79]] [[9.928532]]\n",
      "[[0.57518584]] [[8.55]] [[9.928532]]\n",
      "[[0.57518584]] [[13.]] [[9.928532]]\n",
      "[[0.57518584]] [[6.62]] [[9.928532]]\n",
      "[[0.57518584]] [[5.66]] [[9.928532]]\n",
      "[[0.57518584]] [[9.21]] [[9.928532]]\n",
      "[[0.57518584]] [[13.91]] [[9.928532]]\n",
      "[[0.57518584]] [[2.]] [[9.928532]]\n",
      "[[0.57518584]] [[11.69]] [[9.928532]]\n",
      "[[0.57518584]] [[12.06]] [[9.928532]]\n",
      "[[0.57518584]] [[9.5]] [[9.928532]]\n",
      "[[0.57518584]] [[12.76]] [[9.928532]]\n",
      "[[0.57518584]] [[10.67]] [[9.928532]]\n",
      "[[0.57518584]] [[7.67]] [[9.928532]]\n",
      "[[0.57518584]] [[9.4]] [[9.928532]]\n",
      "[[0.57518584]] [[8.6]] [[9.928532]]\n",
      "[[0.57518584]] [[-1.]] [[9.928532]]\n",
      "[[0.57518584]] [[5.31]] [[9.928532]]\n",
      "[[0.57518584]] [[15.76]] [[9.928532]]\n",
      "[[0.57518584]] [[9.34]] [[9.928532]]\n",
      "[[0.57518584]] [[10.02]] [[9.928532]]\n",
      "[[0.57518584]] [[15.02]] [[9.928532]]\n",
      "[[0.57518584]] [[14.]] [[9.928532]]\n",
      "[[0.57518584]] [[10.]] [[9.928532]]\n",
      "[[0.57518584]] [[14.]] [[9.928532]]\n",
      "[[0.57518584]] [[3.23]] [[9.928532]]\n",
      "[[0.57518584]] [[2.]] [[9.928532]]\n",
      "[[0.57518584]] [[9.]] [[9.928532]]\n",
      "[[0.57518584]] [[7.47]] [[9.928532]]\n",
      "[[0.57518584]] [[10.69]] [[9.928532]]\n",
      "[[0.57518584]] [[13.05]] [[9.928532]]\n",
      "[[0.57518584]] [[7.84]] [[9.928532]]\n",
      "[[0.57518584]] [[4.19]] [[9.928532]]\n",
      "[[0.57518584]] [[5.65]] [[9.928532]]\n",
      "[[0.57518584]] [[4.51]] [[9.928532]]\n",
      "[[0.57518584]] [[8.29]] [[9.928532]]\n",
      "[[0.57518584]] [[13.48]] [[9.928532]]\n",
      "[[0.57518584]] [[5.65]] [[9.928532]]\n",
      "[[0.57518584]] [[8.]] [[9.928532]]\n",
      "[[0.57518584]] [[15.]] [[9.928532]]\n",
      "[[0.57518584]] [[7.]] [[9.928532]]\n",
      "[[0.57518584]] [[8.58]] [[9.928532]]\n",
      "[[0.57518584]] [[13.21]] [[9.928532]]\n",
      "[[0.57518584]] [[10.98]] [[9.928532]]\n",
      "[[0.57518584]] [[8.13]] [[9.928532]]\n",
      "[[0.57518584]] [[8.54]] [[9.928532]]\n",
      "[[0.57518584]] [[14.]] [[9.928532]]\n",
      "[[0.57518584]] [[11.6]] [[9.928532]]\n",
      "[[0.57518584]] [[3.]] [[9.928532]]\n",
      "[[0.57518584]] [[8.]] [[9.928532]]\n",
      "[[0.57518584]] [[10.]] [[9.928532]]\n",
      "[[0.57518584]] [[7.6]] [[9.928532]]\n",
      "[[0.57518584]] [[10.]] [[9.928532]]\n",
      "[[0.57518584]] [[6.67]] [[9.928532]]\n",
      "[[0.57518584]] [[11.72]] [[9.928532]]\n",
      "[[0.57518584]] [[10.96]] [[9.928532]]\n",
      "[[0.57518584]] [[0.]] [[9.928532]]\n",
      "[[0.57518584]] [[9.23]] [[9.928532]]\n",
      "[[0.57518584]] [[9.61]] [[9.928532]]\n",
      "[[0.57518584]] [[8.]] [[9.928532]]\n",
      "[[0.57518584]] [[5.73]] [[9.928532]]\n",
      "[[0.57518584]] [[13.63]] [[9.928532]]\n",
      "[[0.57518584]] [[8.14]] [[9.928532]]\n"
     ]
    }
   ],
   "source": [
    "import numpy as np\n",
    "for i in range(100):\n",
    "#    pass\n",
    "#    p = model.predict_on_batch(X_test[i].reshape(1, 23))\n",
    "    p = model.predict(X_test[i].reshape(1,23))\n",
    "    print(p,Y_scaler.inverse_transform(np.array(Y_test[i]).reshape(-1,1)), Y_scaler.inverse_transform(p))\n"
   ]
  },
  {
   "cell_type": "code",
   "execution_count": 20,
   "metadata": {},
   "outputs": [
    {
     "name": "stdout",
     "output_type": "stream",
     "text": [
      "637/637 [==============================] - 0s 83us/step\n"
     ]
    },
    {
     "data": {
      "text/plain": [
       "[0.040898688634626534, 0.0015698587127158557]"
      ]
     },
     "execution_count": 20,
     "metadata": {},
     "output_type": "execute_result"
    }
   ],
   "source": [
    "model.evaluate(X_train, Y_train)"
   ]
  },
  {
   "cell_type": "code",
   "execution_count": 21,
   "metadata": {},
   "outputs": [
    {
     "data": {
      "text/plain": [
       "(array([[0.57518584]], dtype=float32),\n",
       " array([0.94473684]),\n",
       " array([[9.928532]], dtype=float32))"
      ]
     },
     "execution_count": 21,
     "metadata": {},
     "output_type": "execute_result"
    }
   ],
   "source": [
    "model.predict(X_train[0].reshape(1, 23)),Y_train[0], Y_scaler.inverse_transform(model.predict(X_train[0].reshape(1, 23)))"
   ]
  },
  {
   "cell_type": "code",
   "execution_count": 22,
   "metadata": {},
   "outputs": [
    {
     "name": "stdout",
     "output_type": "stream",
     "text": [
      "137/137 [==============================] - 0s 124us/step\n"
     ]
    },
    {
     "data": {
      "text/plain": [
       "[0.03970077081862157, 0.0]"
      ]
     },
     "execution_count": 22,
     "metadata": {},
     "output_type": "execute_result"
    }
   ],
   "source": [
    "model.evaluate(X_val, Y_val)"
   ]
  }
 ],
 "metadata": {
  "kernelspec": {
   "display_name": "Python 3",
   "language": "python",
   "name": "python3"
  },
  "language_info": {
   "codemirror_mode": {
    "name": "ipython",
    "version": 3
   },
   "file_extension": ".py",
   "mimetype": "text/x-python",
   "name": "python",
   "nbconvert_exporter": "python",
   "pygments_lexer": "ipython3",
   "version": "3.7.4"
  }
 },
 "nbformat": 4,
 "nbformat_minor": 2
}
